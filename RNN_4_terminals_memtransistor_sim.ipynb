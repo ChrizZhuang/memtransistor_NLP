{
  "nbformat": 4,
  "nbformat_minor": 0,
  "metadata": {
    "kernelspec": {
      "display_name": "Python 3",
      "language": "python",
      "name": "python3"
    },
    "language_info": {
      "codemirror_mode": {
        "name": "ipython",
        "version": 3
      },
      "file_extension": ".py",
      "mimetype": "text/x-python",
      "name": "python",
      "nbconvert_exporter": "python",
      "pygments_lexer": "ipython3",
      "version": "3.7.4"
    },
    "colab": {
      "name": "RNN_4_terminals_memtransistor_sim.ipynb",
      "provenance": [],
      "collapsed_sections": [],
      "include_colab_link": true
    }
  },
  "cells": [
    {
      "cell_type": "markdown",
      "metadata": {
        "id": "view-in-github",
        "colab_type": "text"
      },
      "source": [
        "<a href=\"https://colab.research.google.com/github/ChrizZhuang/memtransistor_NLP/blob/main/RNN_4_terminals_memtransistor_sim.ipynb\" target=\"_parent\"><img src=\"https://colab.research.google.com/assets/colab-badge.svg\" alt=\"Open In Colab\"/></a>"
      ]
    },
    {
      "cell_type": "markdown",
      "metadata": {
        "id": "516V8VJij8a7"
      },
      "source": [
        "#**RNN Simulation of Dual gates 4 terminals memtransistor**\n",
        "\n",
        "**Hardware paper**\n",
        "\n",
        "- *Dual-Gated MoS2 Memtransistor Crossbar Array* https://onlinelibrary.wiley.com/doi/abs/10.1002/adfm.202003683\n",
        "\n",
        "**Hardware code with the application of CV**\n",
        "\n",
        "- https://colab.research.google.com/drive/1_zY4qp1u8IZhc_ht4t-iHr2m53j7u2li\n",
        "\n",
        "**RNN Algorithm for sentiment analysis**\n",
        "\n",
        "- https://www.tensorflow.org/text/tutorials/text_classification_rnn"
      ]
    },
    {
      "cell_type": "markdown",
      "source": [
        "### **Import modules**"
      ],
      "metadata": {
        "id": "9CaH29FmV9Ny"
      }
    },
    {
      "cell_type": "code",
      "metadata": {
        "colab": {
          "base_uri": "https://localhost:8080/"
        },
        "id": "iU0puRjbltix",
        "outputId": "ab6e4dc7-347e-4d82-974a-f9a2585b6039"
      },
      "source": [
        "# uses tensorflow v2.7.0\n",
        "import tensorflow as tf\n",
        "import tensorflow_datasets as tfds\n",
        "import numpy as np\n",
        "import time\n",
        "from datetime import datetime\n",
        "import matplotlib.pyplot as plt\n",
        "import pandas as pd\n",
        "import os\n",
        "\n",
        "tfds.disable_progress_bar()\n",
        "print(tf.__version__)"
      ],
      "execution_count": null,
      "outputs": [
        {
          "output_type": "stream",
          "name": "stdout",
          "text": [
            "2.7.0\n"
          ]
        }
      ]
    },
    {
      "cell_type": "code",
      "source": [
        "# mount to google drive to save model and weights\n",
        "from google.colab import drive\n",
        "drive.mount('/content/drive')"
      ],
      "metadata": {
        "id": "48op3hCFP7VL",
        "colab": {
          "base_uri": "https://localhost:8080/"
        },
        "outputId": "d47accc0-7d3e-4212-dc0b-d53136968a50"
      },
      "execution_count": null,
      "outputs": [
        {
          "output_type": "stream",
          "name": "stdout",
          "text": [
            "Mounted at /content/drive\n"
          ]
        }
      ]
    },
    {
      "cell_type": "markdown",
      "source": [
        "###**Parse in devise states**\n",
        "! Should include the *learning_curve_vinod.csv* file in the directory"
      ],
      "metadata": {
        "id": "ge3hMlEKWl0S"
      }
    },
    {
      "cell_type": "code",
      "source": [
        "# imports data from single column CSV file with possible current/conductance states\n",
        "# return numpy array of approximate states possible using this hardware\n",
        "# this import method is not generalized, but fine-tuned to Vinod's devices\n",
        "def import_data_from_csv(filename):\n",
        "  # import data\n",
        "  imported_device_states = np.genfromtxt(filename, delimiter=',')[1:]\n",
        "\n",
        "  # since data is in ~1 nA, assume maximum precision is ~1 pA\n",
        "  # this will make some states redundant\n",
        "  imported_device_states = np.unique(np.round(np.sort(imported_device_states), decimals=3))\n",
        "\n",
        "  # calculate device states possible\n",
        "  device_states = np.array([])\n",
        "  for i, value in enumerate(imported_device_states):\n",
        "      if i+1 > len(imported_device_states):\n",
        "          break\n",
        "      temp_ls = value - imported_device_states\n",
        "      device_states = np.append(device_states, temp_ls)\n",
        "\n",
        "\n",
        "  # normalize to -1 to 1\n",
        "  device_states = np.unique(np.sort(device_states))\n",
        "  device_states = device_states / np.abs(device_states).max()\n",
        "\n",
        "  # given the large number of states, we can assume some states are almost equivalent\n",
        "  # moreover, once the number of states is > 100, the discreteness doesnt matter\n",
        "  # for simplicity in the simulations, we will simply  round to 2 digits of the calculated states\n",
        "  device_states = np.round(device_states, decimals = 2)\n",
        "  device_states = np.unique(np.sort(device_states))\n",
        "  \n",
        "  return device_states"
      ],
      "metadata": {
        "id": "dF6LPUffWji7"
      },
      "execution_count": null,
      "outputs": []
    },
    {
      "cell_type": "markdown",
      "source": [
        "###**Define global constants**"
      ],
      "metadata": {
        "id": "g2qQjpHbYB6R"
      }
    },
    {
      "cell_type": "code",
      "source": [
        "# for device\n",
        "DEVICE_STATES = import_data_from_csv('/content/drive/MyDrive/learning_curve_vinod.csv')\n",
        "\n",
        "READ_NOISE_MEAN = 0\n",
        "READ_NOISE_STDDEV = 0.1\n",
        "\n",
        "DEVICE_VARIATION_STDDEV = 0.1\n",
        "\n",
        "DEVICE_STUCK_ON_PROB = 0.1\n",
        "DEVICE_STUCK_OFF_PROB = 0.1"
      ],
      "metadata": {
        "id": "8zTVB2RB7ykk"
      },
      "execution_count": null,
      "outputs": []
    },
    {
      "cell_type": "code",
      "source": [
        "# for RNN model and training\n",
        "NUM_EPOCHS = 10\n",
        "BUFFER_SIZE = 10000\n",
        "BATCH_SIZE = 64"
      ],
      "metadata": {
        "id": "maKGbCyqdSaT"
      },
      "execution_count": null,
      "outputs": []
    },
    {
      "cell_type": "markdown",
      "source": [
        "###**Load and preprocess data**"
      ],
      "metadata": {
        "id": "6g9kc9jaYkkM"
      }
    },
    {
      "cell_type": "code",
      "source": [
        "# load data\n",
        "dataset, info = tfds.load('imdb_reviews', with_info=True, as_supervised=True)\n",
        "train_dataset, test_dataset = dataset['train'], dataset['test']\n",
        "\n",
        "# shuffle the train set\n",
        "train_dataset = train_dataset.shuffle(BUFFER_SIZE).batch(BATCH_SIZE).prefetch(tf.data.AUTOTUNE)\n",
        "test_dataset = test_dataset.batch(BATCH_SIZE).prefetch(tf.data.AUTOTUNE)"
      ],
      "metadata": {
        "id": "HUqmuUPW9LPO"
      },
      "execution_count": null,
      "outputs": []
    },
    {
      "cell_type": "code",
      "source": [
        "# data example\n",
        "for example, label in train_dataset.take(1):\n",
        "  print('texts: ', example.numpy()[:3])\n",
        "  print()\n",
        "  print('labels: ', label.numpy()[:3])"
      ],
      "metadata": {
        "colab": {
          "base_uri": "https://localhost:8080/"
        },
        "id": "mUeOH6FIdh4k",
        "outputId": "90790ba2-cdfa-4d61-85b8-5f6e6f9d3b12"
      },
      "execution_count": null,
      "outputs": [
        {
          "output_type": "stream",
          "name": "stdout",
          "text": [
            "texts:  [b'When this movie was first shown on television I had high hopes that we would finally have a decent movie about World War I as experienced by American soldiers. Unfortunately this is not it.<br /><br />It should have been a good movie about WWI. Even though it was made for television it is obvious that a real effort was made to use appropriate equipment and props. But the writing and directing are badly lacking, even though the makers of this movie obviously borrowed freely from quite a few well made war movies. War movie clich\\xc3\\xa9s abound such as the arrogant general who apparently does not care a flip about the lives of his men. When will Hollywood realize that, even though there have been plenty of bad generals, most combat unit generals have seen plenty of combat themselves and are not naive about what the average grunt experiences? The first part of this movie appeared to be \"Paths of Glory\" with American uniforms. Except that \"Paths of Glory\" was emotionally gripping. Later on there was Chamberlain\\'s charge (except uphill) from \"Gettysburg\" and even the capture of the American soldier by a ring of enemy soldiers from \"The Thin Red Line\". But in \"The Thin Red Line\" the soldier was alone when captured. In this movie a ring forms around the new prisoner in the middle of a battle.<br /><br />If this movie used a military adviser they ignored him. Even though the actors (and I never could forget they were actors while watching) mouthed military tactics I didn\\'t see very much of it. The American soldiers would stand up to be shot while the Germans attacked. And the infamous Storm Troopers, who were apparently blind, appeared to use no tactics whatsoever in their attack. In the real war, the tactics were what made storm troopers so effective. But the silliest scene was the attack of the German Flamethrowers. In this scene the German flamethrower operators walked in a broad line towards the defending Americans. If that had been real they would never have gotten close enough to use their flamethrowers before they had all been dropped by the defender\\'s bullets.<br /><br />Okay, so most war movies are unrealistic when it comes to the tactics shown. But it is still disappointing. But what really turned me off to this flick was the typical anti-war anti-military angle that movie makers seem to think is important. True, war is hell. But most American soldiers, even though they grumble and gripe, tend to believe in what they are doing and can be rather gung-ho about it. My Grandfather served in World War I. And even though he died four years before I was born I have been told how proud he was of his service.'\n",
            " b'This is truly terrible: painfully irritating stylised performers screech and mug gratingly incoherent dialogues which take place in scenes which seem to have no purpose, no beginning, middle or end, cut together without any apparent narrative or even cognitive intention, all in the service of some entirely uninteresting and almost undetectable \"story\". What makes it worse is the film\\'s pretentions to \"style\": suddenly a remote-head crane shot spirals downwards, and, without any apparent reason there are sudden whip-pans or wobblyhand-held sections: all this \"style\" merely serves to magnify the almost unbelievably huge misconception of the project and the almost offensive vacuity of the material. Definitely a candidate for the worst film ever made.'\n",
            " b\"I am decidedly not in the target audience for this film. I am a man nearly 50 who has only recently stumbled across the world of independent film. This happened quite by accident, with the discovery of a movie called Clerks late one night on television. The first two things I noticed about that film were that it was 1) technically amateurish and 2) brilliantly written. When I read an interview with the director in the local paper and he said that one of his influences was Clerks, I started to get interesting. When he said his main influence was The Station Agent, a movie I'd seen on DVD a week prior, I decided I had to go and check it out. The result could be described along the same lines as Clerks, although the two films are nothing alike content wise. Both films suffer from technical gaffes that are overcome through amazing writing. Whereas Clerks is a day in the life of a man who has nothing in his life at all and is afraid to ask tough questions about himself and his situation, Less Like Me is about a man who seemingly forces himself to be constantly busy, he's always running one way or another, filling his life with little things so that he will never have to deal with the big ones. The themes and ideas of this film are strong and poignant. I can tell from watching it that not much has changed since I was growing up, young men still have the same problems they always have. The writer dresses up these problems and themes in the modern vernacular, crafts wonderfully honest characters, and has them do completely believable things. As far as indie cinema goes, this may not be perfect from a technical standpoint, but from an artistic one, it is very close.\"]\n",
            "\n",
            "labels:  [0 0 1]\n"
          ]
        }
      ]
    },
    {
      "cell_type": "markdown",
      "source": [
        "### **Create the text encodert**\n",
        "The raw text loaded by `tfds` needs to be processed before it can be used in a model. The simplest way to process text for training is using the `TextVectorization` layer. This layer has many capabilities, but this tutorial sticks to the default behavior.\n",
        "\n",
        "Create the layer, and pass the dataset's text to the layer's `.adapt` method:"
      ],
      "metadata": {
        "id": "G6uGs7QJBlXu"
      }
    },
    {
      "cell_type": "code",
      "source": [
        "VOCAB_SIZE = 1000\n",
        "# Maximum size of the vocabulary for this layer. \n",
        "# This should only be specified when adapting a vocabulary or when setting pad_to_max_tokens=True. \n",
        "encoder = tf.keras.layers.TextVectorization(max_tokens=VOCAB_SIZE, name = 'encoder')\n",
        "# adapt: Fits the state of the preprocessing layer to the data being passed.\n",
        "encoder.adapt(train_dataset.map(lambda text, label: text))\n",
        "\n",
        "vocab = np.array(encoder.get_vocabulary()) # len(vocab) = 1000 as VOCAB_SIZE = 1000"
      ],
      "metadata": {
        "id": "UWfHnOn_eL-N"
      },
      "execution_count": null,
      "outputs": []
    },
    {
      "cell_type": "markdown",
      "source": [
        "###**Build the model and get the weights**"
      ],
      "metadata": {
        "id": "FX_k02RCebx0"
      }
    },
    {
      "cell_type": "code",
      "source": [
        "model = tf.keras.Sequential([\n",
        "    encoder,\n",
        "    tf.keras.layers.Embedding(\n",
        "        input_dim=len(encoder.get_vocabulary()),\n",
        "        output_dim=64,\n",
        "        name='embedding',\n",
        "        # Use masking to handle the variable sequence lengths\n",
        "        mask_zero=True),\n",
        "    tf.keras.layers.LSTM(64, name='lstm'),\n",
        "    tf.keras.layers.Dense(64, activation='relu', name='dense1'),\n",
        "    tf.keras.layers.Dense(1, name='dense2')\n",
        "])\n",
        "\n",
        "#print(model.summary())\n",
        "tf.keras.utils.plot_model(model, show_shapes=True, show_layer_names=True)"
      ],
      "metadata": {
        "id": "F0dGeMMxANoF",
        "colab": {
          "base_uri": "https://localhost:8080/",
          "height": 644
        },
        "outputId": "a58fec50-a364-4a3a-e8d8-334d80168d0a"
      },
      "execution_count": null,
      "outputs": [
        {
          "output_type": "execute_result",
          "data": {
            "image/png": "[encoded data removed]",
            "text/plain": [
              "<IPython.core.display.Image object>"
            ]
          },
          "metadata": {},
          "execution_count": 9
        }
      ]
    },
    {
      "cell_type": "code",
      "source": [
        "# 1. keras.layers.preprocessing.index_lookup.VocabWeightHandler\n",
        "# 2. 'embedding/embeddings:0' shape=(1000, 64)\n",
        "# 3. 'lstm/lstm_cell/kernel:0' shape=(64, 256)\n",
        "# 4. 'lstm/lstm_cell/recurrent_kernel:0' shape=(64, 256)\n",
        "# 5. 'lstm/lstm_cell/bias:0' shape=(256,)\n",
        "# 6. 'dense/kernel:0' shape=(64, 64)\n",
        "# 7. 'dense/bias:0' shape=(64,)\n",
        "# 8. 'dense_1/kernel:0' shape=(64, 1)\n",
        "# 9. 'dense_1/bias:0' shape=(1,)\n",
        "model_weights = model.trainable_variables # len(weights) = 8"
      ],
      "metadata": {
        "id": "cdfTljK-eyaO"
      },
      "execution_count": null,
      "outputs": []
    },
    {
      "cell_type": "markdown",
      "source": [
        "###**Gradient update scheme of memtransistor**"
      ],
      "metadata": {
        "id": "jbN1q8lMRJe7"
      }
    },
    {
      "cell_type": "code",
      "source": [
        "g_min_value = np.min(np.abs(DEVICE_STATES))\n",
        "g_max_value = np.max(np.abs(DEVICE_STATES))\n",
        "    \n",
        "# to make this notebook's output stable across runs\n",
        "def reset_graph(seed=42):\n",
        "  tf.random.set_seed(seed)\n",
        "  np.random.seed(seed)\n",
        "\n",
        "# will create matrix to simulate device-to-device variation by creating clipping the weights\n",
        "# will also simulate devices being stuck-on-open and stuck-on-close \n",
        "def initialize_variation_stuck_mat(shape):\n",
        "  # VARIATION\n",
        "  wp_max = np.ones(shape=shape) - np.abs(np.random.normal(0, DEVICE_VARIATION_STDDEV, shape)) # max. is smaller than 1\n",
        "  wp_min = np.zeros(shape=shape) + np.abs(np.random.normal(0, DEVICE_VARIATION_STDDEV, shape)) # min. is larger than 0\n",
        "\n",
        "  wm_max = np.ones(shape=shape) - np.abs(np.random.normal(0, DEVICE_VARIATION_STDDEV, shape)) # max. is smaller than 1\n",
        "  wm_min = np.zeros(shape=shape) + np.abs(np.random.normal(0, DEVICE_VARIATION_STDDEV, shape)) # min. is larger than 0\n",
        "\n",
        "  # STUCK\n",
        "  stuck_prob = [DEVICE_STUCK_OFF_PROB, 1 - DEVICE_STUCK_ON_PROB - DEVICE_STUCK_OFF_PROB, DEVICE_STUCK_ON_PROB]\n",
        "  w_p_stuck = np.random.choice([-1, 0, 1], size=shape, p=stuck_prob) \n",
        "  w_m_stuck = np.random.choice([-1, 0, 1], size=shape, p=stuck_prob)\n",
        "\n",
        "  # if device is stuck OFF\n",
        "  wp_max = wp_max + (w_p_stuck == -1) * (wp_min - wp_max)\n",
        "  wm_max = wm_max + (w_m_stuck == -1) * (wm_min - wm_max)\n",
        "\n",
        "  # if device is stuck ON\n",
        "  wp_min = wp_min + (w_p_stuck == 1) * (wp_max - wp_min)\n",
        "  wm_min = wm_min + (w_m_stuck == 1) * (wm_max - wm_min)\n",
        "\n",
        "\n",
        "  # PUTTING TOGETHER CLIPPING MATRIX\n",
        "  # numpy.clip(a, a_min, a_max) \n",
        "  # Clip (limit) the values in an array.\n",
        "  # Given an interval, values outside the interval are clipped to the interval edges\n",
        "  lower_lim = np.clip(wp_min - wm_max, -g_max_value, -g_min_value)\n",
        "  upper_lim = np.clip(wp_max - wm_min, g_min_value, g_max_value)\n",
        "\n",
        "  #print('Lower lim: ' + str(lower_lim))\n",
        "  #print('Upper lim: ' + str(upper_lim))\n",
        "\n",
        "  return [lower_lim, upper_lim]\n",
        "\n",
        "# weight update with a discrete number of states and (optional) add read noise\n",
        "def discrete_weight_update(value, read_noise_mean=0, read_noise_stddev=0):\n",
        "    if read_noise_stddev != 0:\n",
        "        value += np.random.normal(read_noise_mean, read_noise_stddev)\n",
        "    absolute_difference_function = lambda list_value : abs(list_value - value)\n",
        "    return min(DEVICE_STATES, key=absolute_difference_function)\n",
        "v_discrete_weight_update = np.vectorize(discrete_weight_update)\n",
        "\n",
        "# function puts together all the parts\n",
        "# 1. Device variation\n",
        "# 2. Stuck-on/off \n",
        "# 3. Discrete number of weight states\n",
        "# Input = software weights matrix, Output = hardware weights matrix\n",
        "def simulate_hardware_weight_update(weights_mat, var_stuck_mat):\n",
        "\n",
        "  # initialize variation and stuck matrix if not initialized\n",
        "  if type(weights_mat) is not np.array:\n",
        "    weights_mat = np.array(weights_mat)\n",
        "\n",
        "  if type(var_stuck_mat) is not np.ndarray:\n",
        "      var_stuck_mat = initialize_variation_stuck_mat(weights_mat.shape)\n",
        "\n",
        "  # simulate weight variation and stuck on open/close\n",
        "  weights_mat = weights_mat.clip(var_stuck_mat[0], var_stuck_mat[1])\n",
        "\n",
        "  # simulate discrete states\n",
        "  weights_mat = v_discrete_weight_update(weights_mat, read_noise_mean = READ_NOISE_MEAN,\n",
        "                        read_noise_stddev = READ_NOISE_STDDEV)\n",
        "\n",
        "  return weights_mat"
      ],
      "metadata": {
        "id": "rKCbZ0DeRIxc"
      },
      "execution_count": null,
      "outputs": []
    },
    {
      "cell_type": "markdown",
      "source": [
        "###**Train the model**"
      ],
      "metadata": {
        "id": "FMRkQxBr4QVV"
      }
    },
    {
      "cell_type": "code",
      "source": [
        "# reset default tf graph before running sim\n",
        "reset_graph()\n",
        "\n",
        "# define weight update ops\n",
        "var_stuck_mat = [False, False, False, False, False, False, False, False]\n",
        "weights = np.zeros([1, 8])[0].tolist()\n",
        "new_weights = np.zeros([1, 8])[0].tolist()\n",
        "weight_update_op = np.zeros([1, 8])[0].tolist()\n",
        "weight_layers = [\"embedding/embeddings:0\", \"lstm/lstm_cell/kernel:0\", \"lstm/lstm_cell/recurrent_kernel:0\", \"lstm/lstm_cell/bias:0\",\n",
        "          \"dense1/kernel:0\", \"dense1/bias:0\", \"dense2/kernel:0\", \"dense2/bias:0\"]"
      ],
      "metadata": {
        "id": "_3G2VPrZhoEA"
      },
      "execution_count": null,
      "outputs": []
    },
    {
      "cell_type": "code",
      "source": [
        "model.compile(loss=tf.keras.losses.BinaryCrossentropy(from_logits=True),\n",
        "              optimizer=tf.keras.optimizers.Adam(1e-4),\n",
        "              metrics=['accuracy'])"
      ],
      "metadata": {
        "id": "vOdOxMdlN6KV"
      },
      "execution_count": null,
      "outputs": []
    },
    {
      "cell_type": "code",
      "source": [
        "tf.Session"
      ],
      "metadata": {
        "id": "LZt-h4zShlnA"
      },
      "execution_count": null,
      "outputs": []
    },
    {
      "cell_type": "code",
      "source": [
        "opt = tf.keras.losses.BinaryCrossentropy(from_logits=True)\n",
        "train = opt.minimize(s)\n",
        "\n",
        "sess = tf.Session()\n",
        "init = tf.initialize_all_variables()\n",
        "sess.run(init)"
      ],
      "metadata": {
        "colab": {
          "base_uri": "https://localhost:8080/",
          "height": 1000
        },
        "id": "pjwOKPc3Wnqq",
        "outputId": "6c85d792-3102-424b-9ec1-827cd6ad404b"
      },
      "execution_count": null,
      "outputs": [
        {
          "output_type": "stream",
          "name": "stdout",
          "text": [
            "WARNING:tensorflow:The dtype of the target tensor must be floating (e.g. tf.float32) when calling GradientTape.gradient, got tf.int64\n"
          ]
        },
        {
          "output_type": "stream",
          "name": "stderr",
          "text": [
            "WARNING:tensorflow:The dtype of the target tensor must be floating (e.g. tf.float32) when calling GradientTape.gradient, got tf.int64\n"
          ]
        },
        {
          "output_type": "error",
          "ename": "ValueError",
          "evalue": "ignored",
          "traceback": [
            "\u001b[0;31m---------------------------------------------------------------------------\u001b[0m",
            "\u001b[0;31mValueError\u001b[0m                                Traceback (most recent call last)",
            "\u001b[0;32m<ipython-input-110-7f871baa7c12>\u001b[0m in \u001b[0;36m<module>\u001b[0;34m()\u001b[0m\n\u001b[1;32m     14\u001b[0m \u001b[0mvar_list_fn\u001b[0m \u001b[0;34m=\u001b[0m \u001b[0;32mlambda\u001b[0m\u001b[0;34m:\u001b[0m \u001b[0mmodel\u001b[0m\u001b[0;34m.\u001b[0m\u001b[0mtrainable_weights\u001b[0m\u001b[0;34m\u001b[0m\u001b[0;34m\u001b[0m\u001b[0m\n\u001b[1;32m     15\u001b[0m \u001b[0;32mfor\u001b[0m \u001b[0minput\u001b[0m\u001b[0;34m,\u001b[0m \u001b[0moutput\u001b[0m \u001b[0;32min\u001b[0m \u001b[0mtrain_dataset\u001b[0m\u001b[0;34m:\u001b[0m\u001b[0;34m\u001b[0m\u001b[0;34m\u001b[0m\u001b[0m\n\u001b[0;32m---> 16\u001b[0;31m   \u001b[0mopt\u001b[0m\u001b[0;34m.\u001b[0m\u001b[0mminimize\u001b[0m\u001b[0;34m(\u001b[0m\u001b[0mloss_fn\u001b[0m\u001b[0;34m,\u001b[0m \u001b[0mvar_list_fn\u001b[0m\u001b[0;34m)\u001b[0m\u001b[0;34m\u001b[0m\u001b[0;34m\u001b[0m\u001b[0m\n\u001b[0m",
            "\u001b[0;32m/usr/local/lib/python3.7/dist-packages/keras/optimizer_v2/optimizer_v2.py\u001b[0m in \u001b[0;36mminimize\u001b[0;34m(self, loss, var_list, grad_loss, name, tape)\u001b[0m\n\u001b[1;32m    530\u001b[0m     grads_and_vars = self._compute_gradients(\n\u001b[1;32m    531\u001b[0m         loss, var_list=var_list, grad_loss=grad_loss, tape=tape)\n\u001b[0;32m--> 532\u001b[0;31m     \u001b[0;32mreturn\u001b[0m \u001b[0mself\u001b[0m\u001b[0;34m.\u001b[0m\u001b[0mapply_gradients\u001b[0m\u001b[0;34m(\u001b[0m\u001b[0mgrads_and_vars\u001b[0m\u001b[0;34m,\u001b[0m \u001b[0mname\u001b[0m\u001b[0;34m=\u001b[0m\u001b[0mname\u001b[0m\u001b[0;34m)\u001b[0m\u001b[0;34m\u001b[0m\u001b[0;34m\u001b[0m\u001b[0m\n\u001b[0m\u001b[1;32m    533\u001b[0m \u001b[0;34m\u001b[0m\u001b[0m\n\u001b[1;32m    534\u001b[0m   \u001b[0;32mdef\u001b[0m \u001b[0m_compute_gradients\u001b[0m\u001b[0;34m(\u001b[0m\u001b[0mself\u001b[0m\u001b[0;34m,\u001b[0m \u001b[0mloss\u001b[0m\u001b[0;34m,\u001b[0m \u001b[0mvar_list\u001b[0m\u001b[0;34m,\u001b[0m \u001b[0mgrad_loss\u001b[0m\u001b[0;34m=\u001b[0m\u001b[0;32mNone\u001b[0m\u001b[0;34m,\u001b[0m \u001b[0mtape\u001b[0m\u001b[0;34m=\u001b[0m\u001b[0;32mNone\u001b[0m\u001b[0;34m)\u001b[0m\u001b[0;34m:\u001b[0m\u001b[0;34m\u001b[0m\u001b[0;34m\u001b[0m\u001b[0m\n",
            "\u001b[0;32m/usr/local/lib/python3.7/dist-packages/keras/optimizer_v2/optimizer_v2.py\u001b[0m in \u001b[0;36mapply_gradients\u001b[0;34m(self, grads_and_vars, name, experimental_aggregate_gradients)\u001b[0m\n\u001b[1;32m    631\u001b[0m       \u001b[0mRuntimeError\u001b[0m\u001b[0;34m:\u001b[0m \u001b[0mIf\u001b[0m \u001b[0mcalled\u001b[0m \u001b[0;32min\u001b[0m \u001b[0ma\u001b[0m \u001b[0mcross\u001b[0m\u001b[0;34m-\u001b[0m\u001b[0mreplica\u001b[0m \u001b[0mcontext\u001b[0m\u001b[0;34m.\u001b[0m\u001b[0;34m\u001b[0m\u001b[0;34m\u001b[0m\u001b[0m\n\u001b[1;32m    632\u001b[0m     \"\"\"\n\u001b[0;32m--> 633\u001b[0;31m     \u001b[0mgrads_and_vars\u001b[0m \u001b[0;34m=\u001b[0m \u001b[0moptimizer_utils\u001b[0m\u001b[0;34m.\u001b[0m\u001b[0mfilter_empty_gradients\u001b[0m\u001b[0;34m(\u001b[0m\u001b[0mgrads_and_vars\u001b[0m\u001b[0;34m)\u001b[0m\u001b[0;34m\u001b[0m\u001b[0;34m\u001b[0m\u001b[0m\n\u001b[0m\u001b[1;32m    634\u001b[0m     \u001b[0mvar_list\u001b[0m \u001b[0;34m=\u001b[0m \u001b[0;34m[\u001b[0m\u001b[0mv\u001b[0m \u001b[0;32mfor\u001b[0m \u001b[0;34m(\u001b[0m\u001b[0m_\u001b[0m\u001b[0;34m,\u001b[0m \u001b[0mv\u001b[0m\u001b[0;34m)\u001b[0m \u001b[0;32min\u001b[0m \u001b[0mgrads_and_vars\u001b[0m\u001b[0;34m]\u001b[0m\u001b[0;34m\u001b[0m\u001b[0;34m\u001b[0m\u001b[0m\n\u001b[1;32m    635\u001b[0m \u001b[0;34m\u001b[0m\u001b[0m\n",
            "\u001b[0;32m/usr/local/lib/python3.7/dist-packages/keras/optimizer_v2/utils.py\u001b[0m in \u001b[0;36mfilter_empty_gradients\u001b[0;34m(grads_and_vars)\u001b[0m\n\u001b[1;32m     71\u001b[0m   \u001b[0;32mif\u001b[0m \u001b[0;32mnot\u001b[0m \u001b[0mfiltered\u001b[0m\u001b[0;34m:\u001b[0m\u001b[0;34m\u001b[0m\u001b[0;34m\u001b[0m\u001b[0m\n\u001b[1;32m     72\u001b[0m     \u001b[0mvariable\u001b[0m \u001b[0;34m=\u001b[0m \u001b[0;34m(\u001b[0m\u001b[0;34m[\u001b[0m\u001b[0mv\u001b[0m\u001b[0;34m.\u001b[0m\u001b[0mname\u001b[0m \u001b[0;32mfor\u001b[0m \u001b[0m_\u001b[0m\u001b[0;34m,\u001b[0m \u001b[0mv\u001b[0m \u001b[0;32min\u001b[0m \u001b[0mgrads_and_vars\u001b[0m\u001b[0;34m]\u001b[0m\u001b[0;34m,\u001b[0m\u001b[0;34m)\u001b[0m\u001b[0;34m\u001b[0m\u001b[0;34m\u001b[0m\u001b[0m\n\u001b[0;32m---> 73\u001b[0;31m     raise ValueError(f\"No gradients provided for any variable: {variable}. \"\n\u001b[0m\u001b[1;32m     74\u001b[0m                      f\"Provided `grads_and_vars` is {grads_and_vars}.\")\n\u001b[1;32m     75\u001b[0m   \u001b[0;32mif\u001b[0m \u001b[0mvars_with_empty_grads\u001b[0m\u001b[0;34m:\u001b[0m\u001b[0;34m\u001b[0m\u001b[0;34m\u001b[0m\u001b[0m\n",
            "\u001b[0;31mValueError\u001b[0m: No gradients provided for any variable: (['embedding/embeddings:0', 'lstm/lstm_cell_2/kernel:0', 'lstm/lstm_cell_2/recurrent_kernel:0', 'lstm/lstm_cell_2/bias:0', 'dense1/kernel:0', 'dense1/bias:0', 'dense2/kernel:0', 'dense2/bias:0'],). Provided `grads_and_vars` is ((None, <tf.Variable 'embedding/embeddings:0' shape=(1000, 64) dtype=float32, numpy=\narray([[ 0.04583183, -0.04831916, -0.01843965, ...,  0.03758806,\n         0.02840484, -0.01022946],\n       [-0.00636267,  0.01683556,  0.00897617, ..., -0.04590483,\n        -0.01295622, -0.03036399],\n       [ 0.01020015, -0.03089835,  0.00901035, ..., -0.04455377,\n        -0.02696683, -0.02479681],\n       ...,\n       [ 0.02691993,  0.02002444,  0.01764078, ...,  0.03962624,\n         0.03606237, -0.00380498],\n       [ 0.0181531 , -0.04490587, -0.02238491, ..., -0.00484835,\n        -0.0115689 , -0.02458258],\n       [-0.04611886, -0.03980719,  0.00709862, ...,  0.01821164,\n         0.04039878, -0.0414224 ]], dtype=float32)>), (None, <tf.Variable 'lstm/lstm_cell_2/kernel:0' shape=(64, 256) dtype=float32, numpy=\narray([[-0.01764887,  0.00680964, -0.00089093, ..., -0.01151858,\n        -0.06364606,  0.10922381],\n       [ 0.097008  , -0.11128445, -0.0491787 , ..., -0.01379788,\n        -0.00596115,  0.02512364],\n       [ 0.00739026, -0.04233674, -0.08293752, ...,  0.12575153,\n         0.09301886, -0.05463626],\n       ...,\n       [ 0.02342725,  0.01578721,  0.13394663, ...,  0.00170912,\n        -0.04779222,  0.00560135],\n       [ 0.02919288, -0.0748829 , -0.01000507, ...,  0.04201001,\n         0.02859883,  0.09739614],\n       [-0.01116563,  0.12646064,  0.04394999, ..., -0.08363084,\n         0.04446472,  0.03899172]], dtype=float32)>), (None, <tf.Variable 'lstm/lstm_cell_2/recurrent_kernel:0' shape=(64, 256) dtype=float32, numpy=\narray([[ 0.06657314,  0.1272347 , -0.08230084, ..., -0.02296291,\n         0.02931292,  0.08722254],\n       [-0.10216621, -0.0093987 , -0.00267857, ..., -0.11129721,\n        -0.02132279,  0.01064427],\n       [-0.07591428,  0.00206709,  0.07667434, ..., -0.03204918,\n         0.00813849, -0.00404127],\n       ...,\n       [-0.02868511,  0.10752222,  0.02714146, ..., -0.07385861,\n        -0.0782318 ,  0.02371794],\n       [-0.0329082 ,  0.03915951, -0.00977202, ..., -0.03158532,\n         0.0838763 , -0.08167376],\n       [-0.01401611, -0.11886949,  0.0579531 , ...,  0.03231008,\n        -0.02198732,  0.00655155]], dtype=float32)>), (None, <tf.Variable 'lstm/lstm_cell_2/bias:0' shape=(256,) dtype=float32, numpy=\narray([0., 0., 0., 0., 0., 0., 0., 0., 0., 0., 0., 0., 0., 0., 0., 0., 0.,\n       0., 0., 0., 0., 0., 0., 0., 0., 0., 0., 0., 0., 0., 0., 0., 0., 0.,\n       0., 0., 0., 0., 0., 0., 0., 0., 0., 0., 0., 0., 0., 0., 0., 0., 0.,\n       0., 0., 0., 0., 0., 0., 0., 0., 0., 0., 0., 0., 0., 1., 1., 1., 1.,\n       1., 1., 1., 1., 1., 1., 1., 1., 1., 1., 1., 1., 1., 1., 1., 1., 1.,\n       1., 1., 1., 1., 1., 1., 1., 1., 1., 1., 1., 1., 1., 1., 1., 1., 1.,\n       1., 1., 1., 1., 1., 1., 1., 1., 1., 1., 1., 1., 1., 1., 1., 1., 1.,\n       1., 1., 1., 1., 1., 1., 1., 1., 1., 0., 0., 0., 0., 0., 0., 0., 0.,\n       0., 0., 0., 0., 0., 0., 0., 0., 0., 0., 0., 0., 0., 0., 0., 0., 0.,\n       0., 0., 0., 0., 0., 0., 0., 0., 0., 0., 0., 0., 0., 0., 0., 0., 0.,\n       0., 0., 0., 0., 0., 0., 0., 0., 0., 0., 0., 0., 0., 0., 0., 0., 0.,\n       0., 0., 0., 0., 0., 0., 0., 0., 0., 0., 0., 0., 0., 0., 0., 0., 0.,\n       0., 0., 0., 0., 0., 0., 0., 0., 0., 0., 0., 0., 0., 0., 0., 0., 0.,\n       0., 0., 0., 0., 0., 0., 0., 0., 0., 0., 0., 0., 0., 0., 0., 0., 0.,\n       0., 0., 0., 0., 0., 0., 0., 0., 0., 0., 0., 0., 0., 0., 0., 0., 0.,\n       0.], dtype=float32)>), (None, <tf.Variable 'dense1/kernel:0' shape=(64, 64) dtype=float32, numpy=\narray([[-0.12791134,  0.14063458,  0.13715623, ..., -0.10467809,\n        -0.14902192, -0.00088476],\n       [-0.01138063,  0.04457809,  0.2025363 , ..., -0.19061518,\n        -0.05612771, -0.19432478],\n       [-0.20209186, -0.05614293, -0.18272224, ...,  0.04012351,\n         0.13246839,  0.02674331],\n       ...,\n       [-0.0399192 ,  0.07630031, -0.00213507, ...,  0.10093029,\n        -0.15618351, -0.1318078 ],\n       [ 0.11316268,  0.1933421 , -0.18164831, ...,  0.12490354,\n        -0.06291738, -0.11361991],\n       [-0.07587838, -0.1882377 , -0.1501658 , ...,  0.17079146,\n         0.01888745, -0.04181068]], dtype=float32)>), (None, <tf.Variable 'dense1/bias:0' shape=(64,) dtype=float32, numpy=\narray([0., 0., 0., 0., 0., 0., 0., 0., 0., 0., 0., 0., 0., 0., 0., 0., 0.,\n       0., 0., 0., 0., 0., 0., 0., 0., 0., 0., 0., 0., 0., 0., 0., 0., 0.,\n       0., 0., 0., 0., 0., 0., 0., 0., 0., 0., 0., 0., 0., 0., 0., 0., 0.,\n       0., 0., 0., 0., 0., 0., 0., 0., 0., 0., 0., 0., 0.], dtype=float32)>), (None, <tf.Variable 'dense2/kernel:0' shape=(64, 1) dtype=float32, numpy=\narray([[-0.2261633 ],\n       [ 0.22015005],\n       [-0.05126509],\n       [-0.24288322],\n       [ 0.06552616],\n       [ 0.17653367],\n       [-0.26694793],\n       [ 0.2167747 ],\n       [ 0.13368928],\n       [ 0.10940218],\n       [-0.11058667],\n       [ 0.25248718],\n       [ 0.29363358],\n       [ 0.27289253],\n       [ 0.2598837 ],\n       [-0.04470298],\n       [-0.203166  ],\n       [-0.26755294],\n       [-0.24212654],\n       [-0.09213775],\n       [-0.30381536],\n       [ 0.03280342],\n       [-0.2974683 ],\n       [-0.20042694],\n       [ 0.02128026],\n       [-0.28233302],\n       [-0.27275613],\n       [-0.092658  ],\n       [-0.04997528],\n       [-0.02025303],\n       [ 0.25693792],\n       [ 0.09029517],\n       [-0.07010306],\n       [ 0.15375122],\n       [ 0.25378352],\n       [ 0.04300845],\n       [-0.2449121 ],\n       [-0.02520198],\n       [-0.13805063],\n       [ 0.13295934],\n       [ 0.11238953],\n       [ 0.2712283 ],\n       [-0.2614999 ],\n       [-0.22937557],\n       [ 0.04127699],\n       [ 0.06955516],\n       [-0.14876316],\n       [ 0.16386303],\n       [-0.06394601],\n       [ 0.10302114],\n       [ 0.19584733],\n       [-0.30231556],\n       [-0.26610115],\n       [ 0.06928843],\n       [ 0.27618515],\n       [ 0.05042353],\n       [-0.10911576],\n       [ 0.22221911],\n       [-0.13897899],\n       [ 0.25114697],\n       [ 0.07685721],\n       [-0.14200662],\n       [-0.18304119],\n       [-0.26560554]], dtype=float32)>), (None, <tf.Variable 'dense2/bias:0' shape=(1,) dtype=float32, numpy=array([0.], dtype=float32)>))."
          ]
        }
      ]
    },
    {
      "cell_type": "code",
      "source": [
        "opt = tf.keras.optimizers.SGD(learning_rate=0.1)\n",
        "model = tf.keras.Sequential()\n",
        "model.add(tf.keras.layers.Dense(70, activation='relu'))\n",
        "model.add(tf.keras.layers.Dense(10, activation='sigmoid'))\n",
        "loss_fn = lambda: tf.keras.losses.mse(model(input), output)\n",
        "var_list_fn = lambda: model.trainable_weights\n",
        "for input, output in data:\n",
        "  opt.minimize(loss_fn, var_list_fn)"
      ],
      "metadata": {
        "colab": {
          "base_uri": "https://localhost:8080/",
          "height": 227
        },
        "id": "mwnqdcRnfCdr",
        "outputId": "a3342e32-64be-4ccc-e932-9b95c23e3577"
      },
      "execution_count": null,
      "outputs": [
        {
          "output_type": "error",
          "ename": "ValueError",
          "evalue": "ignored",
          "traceback": [
            "\u001b[0;31m---------------------------------------------------------------------------\u001b[0m",
            "\u001b[0;31mValueError\u001b[0m                                Traceback (most recent call last)",
            "\u001b[0;32m<ipython-input-112-c2e1b160ef85>\u001b[0m in \u001b[0;36m<module>\u001b[0;34m()\u001b[0m\n\u001b[1;32m      5\u001b[0m \u001b[0mloss_fn\u001b[0m \u001b[0;34m=\u001b[0m \u001b[0;32mlambda\u001b[0m\u001b[0;34m:\u001b[0m \u001b[0mtf\u001b[0m\u001b[0;34m.\u001b[0m\u001b[0mkeras\u001b[0m\u001b[0;34m.\u001b[0m\u001b[0mlosses\u001b[0m\u001b[0;34m.\u001b[0m\u001b[0mmse\u001b[0m\u001b[0;34m(\u001b[0m\u001b[0mmodel\u001b[0m\u001b[0;34m(\u001b[0m\u001b[0minput\u001b[0m\u001b[0;34m)\u001b[0m\u001b[0;34m,\u001b[0m \u001b[0moutput\u001b[0m\u001b[0;34m)\u001b[0m\u001b[0;34m\u001b[0m\u001b[0;34m\u001b[0m\u001b[0m\n\u001b[1;32m      6\u001b[0m \u001b[0mvar_list_fn\u001b[0m \u001b[0;34m=\u001b[0m \u001b[0;32mlambda\u001b[0m\u001b[0;34m:\u001b[0m \u001b[0mmodel\u001b[0m\u001b[0;34m.\u001b[0m\u001b[0mtrainable_weights\u001b[0m\u001b[0;34m\u001b[0m\u001b[0;34m\u001b[0m\u001b[0m\n\u001b[0;32m----> 7\u001b[0;31m \u001b[0;32mfor\u001b[0m \u001b[0minput\u001b[0m\u001b[0;34m,\u001b[0m \u001b[0moutput\u001b[0m \u001b[0;32min\u001b[0m \u001b[0mdata\u001b[0m\u001b[0;34m:\u001b[0m\u001b[0;34m\u001b[0m\u001b[0;34m\u001b[0m\u001b[0m\n\u001b[0m\u001b[1;32m      8\u001b[0m   \u001b[0mopt\u001b[0m\u001b[0;34m.\u001b[0m\u001b[0mminimize\u001b[0m\u001b[0;34m(\u001b[0m\u001b[0mloss_fn\u001b[0m\u001b[0;34m,\u001b[0m \u001b[0mvar_list_fn\u001b[0m\u001b[0;34m)\u001b[0m\u001b[0;34m\u001b[0m\u001b[0;34m\u001b[0m\u001b[0m\n",
            "\u001b[0;31mValueError\u001b[0m: too many values to unpack (expected 2)"
          ]
        }
      ]
    },
    {
      "cell_type": "code",
      "source": [
        "<class 'tensorflow.python.framework.ops.EagerTensor'>"
      ],
      "metadata": {
        "id": "Wp6gB0OapxT0"
      },
      "execution_count": null,
      "outputs": []
    },
    {
      "cell_type": "code",
      "source": [
        "history = model.fit(train_dataset, epochs=1,\n",
        "            validation_data=test_dataset,\n",
        "            validation_steps=30)"
      ],
      "metadata": {
        "colab": {
          "base_uri": "https://localhost:8080/"
        },
        "id": "5NOIjJLYOL5M",
        "outputId": "31c18d19-a079-490b-94ec-260f275b854e"
      },
      "execution_count": null,
      "outputs": [
        {
          "output_type": "stream",
          "name": "stdout",
          "text": [
            "391/391 [==============================] - 301s 755ms/step - loss: 0.6451 - accuracy: 0.5673 - val_loss: 0.4956 - val_accuracy: 0.7458\n"
          ]
        }
      ]
    },
    {
      "cell_type": "code",
      "source": [
        "history.history"
      ],
      "metadata": {
        "colab": {
          "base_uri": "https://localhost:8080/"
        },
        "id": "gnKh2HbwkK4t",
        "outputId": "18226db6-d839-470a-d974-61c9a1f0a320"
      },
      "execution_count": null,
      "outputs": [
        {
          "output_type": "execute_result",
          "data": {
            "text/plain": [
              "{'accuracy': [0.5673199892044067],\n",
              " 'loss': [0.645052433013916],\n",
              " 'val_accuracy': [0.7458333373069763],\n",
              " 'val_loss': [0.49558401107788086]}"
            ]
          },
          "metadata": {},
          "execution_count": 63
        }
      ]
    },
    {
      "cell_type": "code",
      "source": [
        "#model.trainable_variables"
      ],
      "metadata": {
        "id": "gGyuNz1wRAbx"
      },
      "execution_count": null,
      "outputs": []
    },
    {
      "cell_type": "code",
      "source": [
        "new_weights = []\n",
        "for i, weight in enumerate(model.trainable_variables):\n",
        "  new_weights.append(simulate_hardware_weight_update(weight, var_stuck_mat[i]))"
      ],
      "metadata": {
        "id": "l-jPHdnGyc41"
      },
      "execution_count": null,
      "outputs": []
    },
    {
      "cell_type": "code",
      "source": [
        "#model.layers"
      ],
      "metadata": {
        "id": "Q-8xuKRrVi51"
      },
      "execution_count": null,
      "outputs": []
    },
    {
      "cell_type": "code",
      "source": [
        "# update the model weights\n",
        "model.layers[1].set_weights([new_weights[0]])\n",
        "model.layers[2].set_weights([new_weights[1], new_weights[2], new_weights[3]])\n",
        "model.layers[3].set_weights([new_weights[4], new_weights[5]])\n",
        "model.layers[4].set_weights([new_weights[6], new_weights[7]])\n",
        "#model.trainable_variables"
      ],
      "metadata": {
        "id": "VY-4PHfn-7xb"
      },
      "execution_count": null,
      "outputs": []
    },
    {
      "cell_type": "code",
      "source": [
        "#model.trainable_variables"
      ],
      "metadata": {
        "id": "WXq5w_IKTIeJ"
      },
      "execution_count": null,
      "outputs": []
    },
    {
      "cell_type": "code",
      "source": [
        "#for example, label in test_dataset.take(1):\n",
        "  #print('texts: ', example.numpy()[:3])\n",
        "  #print()\n",
        "  #print('labels: ', label.numpy()[:3])\n",
        "  #print()\n",
        "  #print('preds: ', type(model.predict(example.numpy()[:3])))"
      ],
      "metadata": {
        "colab": {
          "base_uri": "https://localhost:8080/"
        },
        "id": "1wW4KdPOW5Pz",
        "outputId": "f6370a31-8aed-4f03-e6b8-f3a2d69f7f79"
      },
      "execution_count": null,
      "outputs": [
        {
          "output_type": "stream",
          "name": "stdout",
          "text": [
            "labels:  [1 1 0]\n",
            "\n",
            "preds:  <class 'numpy.ndarray'>\n"
          ]
        }
      ]
    },
    {
      "cell_type": "markdown",
      "source": [
        "###**Construct the final function**"
      ],
      "metadata": {
        "id": "BVNxiqxPj8st"
      }
    },
    {
      "cell_type": "code",
      "source": [
        "def run_MLP_simulation(save_results_input=False,\n",
        "            num_epochs_input=50, \n",
        "            hardware_simulation_input=False, \n",
        "            device_states_input=False,\n",
        "            read_noise_mean_input=0,\n",
        "            read_noise_stddev_input=0,\n",
        "            device_variation_stddev_input=0,\n",
        "            device_stuck_on_prob_input=0,\n",
        "            device_stuck_off_prob_input=0):\n",
        "  \n",
        "  ###################### USER DEFINED PARAMETERS FOR SIMULATION\n",
        "  # whether or not to save results\n",
        "  SAVE_RESULTS = save_results_input\n",
        "  \n",
        "  # number of epochs to test\n",
        "  NUM_EPOCHS = num_epochs_input\n",
        "\n",
        "  # flag which determines whether this is a hardware simulation or purely software\n",
        "  HARDWARE_SIMULATION = hardware_simulation_input\n",
        "\n",
        "  # parameter set by user that gives all the possible normalized weight states\n",
        "  DEVICE_STATES = device_states_input\n",
        "\n",
        "  # parameters for simulating read noise\n",
        "  # user input = read noise mean and standard dev assuming a normal noise function\n",
        "  READ_NOISE_MEAN = read_noise_mean_input\n",
        "  READ_NOISE_STDDEV = read_noise_stddev_input\n",
        "\n",
        "  # parameter for simulating device-to-device variation\n",
        "  # user input =  standard deviation of conductances\n",
        "  DEVICE_VARIATION_STDDEV = device_variation_stddev_input\n",
        "\n",
        "  # parameter for simulating devices that get stuck on Gmax or Gmin states from the start\n",
        "  # user input = probability for a device to get stuck\n",
        "  # What is G?\n",
        "  DEVICE_STUCK_ON_PROB = device_stuck_on_prob_input\n",
        "  DEVICE_STUCK_OFF_PROB = device_stuck_off_prob_input\n",
        "\n",
        "  # for RNN model and training\n",
        "  BUFFER_SIZE = 10000\n",
        "  BATCH_SIZE = 64\n",
        "\n",
        "  # load data\n",
        "  dataset, info = tfds.load('imdb_reviews', with_info=True, as_supervised=True)\n",
        "  train_dataset, test_dataset = dataset['train'], dataset['test']\n",
        "\n",
        "  train_dataset = train_dataset.shuffle(BUFFER_SIZE).batch(BATCH_SIZE).prefetch(tf.data.AUTOTUNE)\n",
        "  test_dataset = test_dataset.batch(BATCH_SIZE).prefetch(tf.data.AUTOTUNE)\n",
        "\n",
        "  VOCAB_SIZE = 1000\n",
        "  # Maximum size of the vocabulary for this layer. \n",
        "  # This should only be specified when adapting a vocabulary or when setting pad_to_max_tokens=True. \n",
        "  encoder = tf.keras.layers.TextVectorization(max_tokens=VOCAB_SIZE, name = 'encoder')\n",
        "  # adapt: Fits the state of the preprocessing layer to the data being passed.\n",
        "  encoder.adapt(train_dataset.map(lambda text, label: text))\n",
        "\n",
        "  vocab = np.array(encoder.get_vocabulary()) \n",
        "\n",
        "  model = tf.keras.Sequential([\n",
        "    encoder,\n",
        "    tf.keras.layers.Embedding(\n",
        "        input_dim=len(encoder.get_vocabulary()),\n",
        "        output_dim=64,\n",
        "        name='embedding',\n",
        "        # Use masking to handle the variable sequence lengths\n",
        "        mask_zero=True),\n",
        "    tf.keras.layers.LSTM(64, name='lstm'),\n",
        "    tf.keras.layers.Dense(64, activation='relu', name='dense1'),\n",
        "    tf.keras.layers.Dense(1, name='dense2')\n",
        "  ])\n",
        "\n",
        "  # 1. keras.layers.preprocessing.index_lookup.VocabWeightHandler - not trainable\n",
        "  # 2. 'embedding/embeddings:0' shape=(1000, 64)\n",
        "  # 3. 'lstm/lstm_cell/kernel:0' shape=(64, 256)\n",
        "  # 4. 'lstm/lstm_cell/recurrent_kernel:0' shape=(64, 256)\n",
        "  # 5. 'lstm/lstm_cell/bias:0' shape=(256,)\n",
        "  # 6. 'dense/kernel:0' shape=(64, 64)\n",
        "  # 7. 'dense/bias:0' shape=(64,)\n",
        "  # 8. 'dense_1/kernel:0' shape=(64, 1)\n",
        "  # 9. 'dense_1/bias:0' shape=(1,)\n",
        "  model_weights = model.trainable_variables # len(weights) = 8\n",
        "\n",
        "  g_min_value = np.min(np.abs(DEVICE_STATES))\n",
        "  g_max_value = np.max(np.abs(DEVICE_STATES))\n",
        "      \n",
        "  # to make this notebook's output stable across runs\n",
        "  def reset_graph(seed=42):\n",
        "    tf.random.set_seed(seed)\n",
        "    np.random.seed(seed)\n",
        "\n",
        "  # will create matrix to simulate device-to-device variation by creating clipping the weights\n",
        "  # will also simulate devices being stuck-on-open and stuck-on-close \n",
        "  def initialize_variation_stuck_mat(shape):\n",
        "    # VARIATION\n",
        "    wp_max = np.ones(shape=shape) - np.abs(np.random.normal(0, DEVICE_VARIATION_STDDEV, shape)) # max. is smaller than 1\n",
        "    wp_min = np.zeros(shape=shape) + np.abs(np.random.normal(0, DEVICE_VARIATION_STDDEV, shape)) # min. is larger than 0\n",
        "\n",
        "    wm_max = np.ones(shape=shape) - np.abs(np.random.normal(0, DEVICE_VARIATION_STDDEV, shape)) # max. is smaller than 1\n",
        "    wm_min = np.zeros(shape=shape) + np.abs(np.random.normal(0, DEVICE_VARIATION_STDDEV, shape)) # min. is larger than 0\n",
        "\n",
        "    # STUCK\n",
        "    stuck_prob = [DEVICE_STUCK_OFF_PROB, 1 - DEVICE_STUCK_ON_PROB - DEVICE_STUCK_OFF_PROB, DEVICE_STUCK_ON_PROB]\n",
        "    w_p_stuck = np.random.choice([-1, 0, 1], size=shape, p=stuck_prob) \n",
        "    w_m_stuck = np.random.choice([-1, 0, 1], size=shape, p=stuck_prob)\n",
        "\n",
        "    # if device is stuck OFF\n",
        "    wp_max = wp_max + (w_p_stuck == -1) * (wp_min - wp_max)\n",
        "    wm_max = wm_max + (w_m_stuck == -1) * (wm_min - wm_max)\n",
        "\n",
        "    # if device is stuck ON\n",
        "    wp_min = wp_min + (w_p_stuck == 1) * (wp_max - wp_min)\n",
        "    wm_min = wm_min + (w_m_stuck == 1) * (wm_max - wm_min)\n",
        "\n",
        "\n",
        "    # PUTTING TOGETHER CLIPPING MATRIX\n",
        "    # numpy.clip(a, a_min, a_max) \n",
        "    # Clip (limit) the values in an array.\n",
        "    # Given an interval, values outside the interval are clipped to the interval edges\n",
        "    lower_lim = np.clip(wp_min - wm_max, -g_max_value, -g_min_value)\n",
        "    upper_lim = np.clip(wp_max - wm_min, g_min_value, g_max_value)\n",
        "\n",
        "    #print('Lower lim: ' + str(lower_lim))\n",
        "    #print('Upper lim: ' + str(upper_lim))\n",
        "\n",
        "    return [lower_lim, upper_lim]\n",
        "\n",
        "  # weight update with a discrete number of states and (optional) add read noise\n",
        "  def discrete_weight_update(value, read_noise_mean=0, read_noise_stddev=0):\n",
        "      if read_noise_stddev != 0:\n",
        "          value += np.random.normal(read_noise_mean, read_noise_stddev)\n",
        "      absolute_difference_function = lambda list_value : abs(list_value - value)\n",
        "      return min(DEVICE_STATES, key=absolute_difference_function)\n",
        "  v_discrete_weight_update = np.vectorize(discrete_weight_update)\n",
        "\n",
        "  # function puts together all the parts\n",
        "  # 1. Device variation\n",
        "  # 2. Stuck-on/off \n",
        "  # 3. Discrete number of weight states\n",
        "  # Input = software weights matrix, Output = hardware weights matrix\n",
        "  def simulate_hardware_weight_update(weights_mat, var_stuck_mat):\n",
        "\n",
        "    # initialize variation and stuck matrix if not initialized\n",
        "    if type(weights_mat) is not np.array:\n",
        "      weights_mat = np.array(weights_mat)\n",
        "\n",
        "    if type(var_stuck_mat) is not np.ndarray:\n",
        "        var_stuck_mat = initialize_variation_stuck_mat(weights_mat.shape)\n",
        "\n",
        "    # simulate weight variation and stuck on open/close\n",
        "    weights_mat = weights_mat.clip(var_stuck_mat[0], var_stuck_mat[1])\n",
        "\n",
        "    # simulate discrete states\n",
        "    weights_mat = v_discrete_weight_update(weights_mat, read_noise_mean = READ_NOISE_MEAN,\n",
        "                          read_noise_stddev = READ_NOISE_STDDEV)\n",
        "\n",
        "    return weights_mat\n",
        "\n",
        "  # reset default tf graph before running sim\n",
        "  reset_graph()\n",
        "\n",
        "  # define weight update ops\n",
        "  var_stuck_mat = [False, False, False, False, False, False, False, False]\n",
        "  weights = np.zeros([1, 8])[0].tolist()\n",
        "  new_weights = np.zeros([1, 8])[0].tolist()\n",
        "  weight_update_op = np.zeros([1, 8])[0].tolist()\n",
        "  weight_layers = [\"embedding/embeddings:0\", \"lstm/lstm_cell/kernel:0\", \"lstm/lstm_cell/recurrent_kernel:0\", \"lstm/lstm_cell/bias:0\",\n",
        "            \"dense1/kernel:0\", \"dense1/bias:0\", \"dense2/kernel:0\", \"dense2/bias:0\"]\n",
        "\n",
        "  train_accuracy_ls = []\n",
        "  train_loss_ls = []\n",
        "\n",
        "  test_accuracy_ls = []\n",
        "  test_loss_ls = []\n",
        "\n",
        "  model.compile(loss=tf.keras.losses.BinaryCrossentropy(from_logits=True),\n",
        "              optimizer=tf.keras.optimizers.Adam(1e-4),\n",
        "              metrics=['accuracy'])\n",
        "  \n",
        "  #opt = tf.keras.optimizers.Adam(1e-4)\n",
        "  #loss=tf.keras.losses.BinaryCrossentropy(from_logits=True)\n",
        "  #loss_fn = lambda: tf.keras.losses.mse(model(input), output)\n",
        "  #var_list_fn = lambda: model.trainable_weights\n",
        "\n",
        "  # train the model weights\n",
        "  for i in range(NUM_EPOCHS):\n",
        "    # mark the time\n",
        "    start_time = time.time()\n",
        "    start_datetime  = datetime.utcnow().strftime(\"%Y%m%d%H%M%S\")\n",
        "\n",
        "    print(\"Training the \"+str(i+1)+\"th epoch!\")\n",
        "\n",
        "    history = model.fit(train_dataset, epochs=1,\n",
        "            validation_data=test_dataset,\n",
        "            validation_steps=30)\n",
        "    \n",
        "    train_accuracy_ls.append(history.history['accuracy'][0])\n",
        "    train_loss_ls.append(history.history['loss'][0])\n",
        "    test_accuracy_ls.append(history.history['val_accuracy'][0])\n",
        "    test_loss_ls.append(history.history['val_loss'][0])\n",
        "\n",
        "    if HARDWARE_SIMULATION:\n",
        "\n",
        "      # obtain the original weights\n",
        "      weights = model.trainable_variables\n",
        "\n",
        "      # update the weights cosidering the hardware\n",
        "      new_weights = []\n",
        "      for i, weight in enumerate(weights):\n",
        "        new_weights.append(simulate_hardware_weight_update(weight, var_stuck_mat[i]))\n",
        "\n",
        "      model.layers[1].set_weights([new_weights[0]])\n",
        "      model.layers[2].set_weights([new_weights[1], new_weights[2], new_weights[3]])\n",
        "      model.layers[3].set_weights([new_weights[4], new_weights[5]])\n",
        "      model.layers[4].set_weights([new_weights[6], new_weights[7]])\n",
        "\n",
        "    if SAVE_RESULTS:\n",
        "      file_name = 'model_' + str(start_datetime) + '_' + str(NUM_EPOCHS)\n",
        "      model.save('/content/drive/MyDrive/RNN_memtrainsistor_ckpts/'+file_name)\n",
        "      print(\"Save results in file \"+file_name+\" successfully!\\n\")\n",
        "\n",
        "  return model, test_accuracy_ls, train_accuracy_ls"
      ],
      "metadata": {
        "id": "ZmSz16qvkPER"
      },
      "execution_count": null,
      "outputs": []
    },
    {
      "cell_type": "code",
      "source": [
        "DEVICE_STATES = import_data_from_csv('/content/drive/MyDrive/learning_curve_vinod.csv')\n",
        "model, test_accuracy_ls_mem, train_accuracy_ls_mem = run_MLP_simulation(save_results_input=True,\n",
        "            num_epochs_input=30, \n",
        "            hardware_simulation_input=True, \n",
        "            device_states_input=DEVICE_STATES,\n",
        "            read_noise_mean_input=0,\n",
        "            read_noise_stddev_input=0.1,\n",
        "            device_variation_stddev_input=0.1,\n",
        "            device_stuck_on_prob_input=0,\n",
        "            device_stuck_off_prob_input=0)"
      ],
      "metadata": {
        "colab": {
          "base_uri": "https://localhost:8080/"
        },
        "id": "DEnH0uNfjEAa",
        "outputId": "5e3f251f-ce7e-459c-e2c5-e489e70413b7"
      },
      "execution_count": 5,
      "outputs": [
        {
          "metadata": {
            "tags": null
          },
          "name": "stdout",
          "output_type": "stream",
          "text": [
            "\u001b[1mDownloading and preparing dataset imdb_reviews/plain_text/1.0.0 (download: 80.23 MiB, generated: Unknown size, total: 80.23 MiB) to /root/tensorflow_datasets/imdb_reviews/plain_text/1.0.0...\u001b[0m\n",
            "Shuffling and writing examples to /root/tensorflow_datasets/imdb_reviews/plain_text/1.0.0.incompleteIC1MUB/imdb_reviews-train.tfrecord\n",
            "Shuffling and writing examples to /root/tensorflow_datasets/imdb_reviews/plain_text/1.0.0.incompleteIC1MUB/imdb_reviews-test.tfrecord\n",
            "Shuffling and writing examples to /root/tensorflow_datasets/imdb_reviews/plain_text/1.0.0.incompleteIC1MUB/imdb_reviews-unsupervised.tfrecord\n"
          ]
        },
        {
          "metadata": {
            "tags": null
          },
          "name": "stderr",
          "output_type": "stream",
          "text": [
            "WARNING:absl:Dataset is using deprecated text encoder API which will be removed soon. Please use the plain_text version of the dataset and migrate to `tensorflow_text`.\n"
          ]
        },
        {
          "metadata": {
            "tags": null
          },
          "name": "stdout",
          "output_type": "stream",
          "text": [
            "\u001b[1mDataset imdb_reviews downloaded and prepared to /root/tensorflow_datasets/imdb_reviews/plain_text/1.0.0. Subsequent calls will reuse this data.\u001b[0m\n",
            "Training the 0th epoch!\n",
            "391/391 [==============================] - 387s 977ms/step - loss: 0.6249 - accuracy: 0.6011 - val_loss: 0.4951 - val_accuracy: 0.7839\n"
          ]
        },
        {
          "metadata": {
            "tags": null
          },
          "name": "stderr",
          "output_type": "stream",
          "text": [
            "WARNING:absl:Found untraced functions such as lstm_cell_layer_call_fn, lstm_cell_layer_call_and_return_conditional_losses, lstm_cell_layer_call_fn, lstm_cell_layer_call_and_return_conditional_losses, lstm_cell_layer_call_and_return_conditional_losses while saving (showing 5 of 5). These functions will not be directly callable after loading.\n"
          ]
        },
        {
          "metadata": {
            "tags": null
          },
          "name": "stdout",
          "output_type": "stream",
          "text": [
            "INFO:tensorflow:Assets written to: /content/drive/MyDrive/RNN_memtrainsistor_ckpts/model_20220118172829_30/assets\n"
          ]
        },
        {
          "metadata": {
            "tags": null
          },
          "name": "stderr",
          "output_type": "stream",
          "text": [
            "INFO:tensorflow:Assets written to: /content/drive/MyDrive/RNN_memtrainsistor_ckpts/model_20220118172829_30/assets\n",
            "WARNING:absl:<keras.layers.recurrent.LSTMCell object at 0x7f52f40d2bd0> has the same name 'LSTMCell' as a built-in Keras object. Consider renaming <class 'keras.layers.recurrent.LSTMCell'> to avoid naming conflicts when loading with `tf.keras.models.load_model`. If renaming is not possible, pass the object in the `custom_objects` parameter of the load function.\n"
          ]
        },
        {
          "metadata": {
            "tags": null
          },
          "name": "stdout",
          "output_type": "stream",
          "text": [
            "Save results in file model_20220118172829_30 successfully!\n",
            "\n",
            "Training the 1th epoch!\n",
            "391/391 [==============================] - 382s 976ms/step - loss: 0.5599 - accuracy: 0.6853 - val_loss: 0.4910 - val_accuracy: 0.7823\n"
          ]
        },
        {
          "metadata": {
            "tags": null
          },
          "name": "stderr",
          "output_type": "stream",
          "text": [
            "WARNING:absl:Found untraced functions such as lstm_cell_layer_call_fn, lstm_cell_layer_call_and_return_conditional_losses, lstm_cell_layer_call_fn, lstm_cell_layer_call_and_return_conditional_losses, lstm_cell_layer_call_and_return_conditional_losses while saving (showing 5 of 5). These functions will not be directly callable after loading.\n"
          ]
        },
        {
          "metadata": {
            "tags": null
          },
          "name": "stdout",
          "output_type": "stream",
          "text": [
            "INFO:tensorflow:Assets written to: /content/drive/MyDrive/RNN_memtrainsistor_ckpts/model_20220118173517_30/assets\n"
          ]
        },
        {
          "metadata": {
            "tags": null
          },
          "name": "stderr",
          "output_type": "stream",
          "text": [
            "INFO:tensorflow:Assets written to: /content/drive/MyDrive/RNN_memtrainsistor_ckpts/model_20220118173517_30/assets\n",
            "WARNING:absl:<keras.layers.recurrent.LSTMCell object at 0x7f52f40d2bd0> has the same name 'LSTMCell' as a built-in Keras object. Consider renaming <class 'keras.layers.recurrent.LSTMCell'> to avoid naming conflicts when loading with `tf.keras.models.load_model`. If renaming is not possible, pass the object in the `custom_objects` parameter of the load function.\n"
          ]
        },
        {
          "output_type": "stream",
          "name": "stdout",
          "text": [
            "Save results in file model_20220118173517_30 successfully!\n",
            "\n",
            "Training the 2th epoch!\n",
            "391/391 [==============================] - 384s 978ms/step - loss: 0.6001 - accuracy: 0.6523 - val_loss: 0.5213 - val_accuracy: 0.7552\n"
          ]
        },
        {
          "output_type": "stream",
          "name": "stderr",
          "text": [
            "WARNING:absl:Found untraced functions such as lstm_cell_layer_call_fn, lstm_cell_layer_call_and_return_conditional_losses, lstm_cell_layer_call_fn, lstm_cell_layer_call_and_return_conditional_losses, lstm_cell_layer_call_and_return_conditional_losses while saving (showing 5 of 5). These functions will not be directly callable after loading.\n"
          ]
        },
        {
          "output_type": "stream",
          "name": "stdout",
          "text": [
            "INFO:tensorflow:Assets written to: /content/drive/MyDrive/RNN_memtrainsistor_ckpts/model_20220118174200_30/assets\n"
          ]
        },
        {
          "output_type": "stream",
          "name": "stderr",
          "text": [
            "INFO:tensorflow:Assets written to: /content/drive/MyDrive/RNN_memtrainsistor_ckpts/model_20220118174200_30/assets\n",
            "WARNING:absl:<keras.layers.recurrent.LSTMCell object at 0x7f52f40d2bd0> has the same name 'LSTMCell' as a built-in Keras object. Consider renaming <class 'keras.layers.recurrent.LSTMCell'> to avoid naming conflicts when loading with `tf.keras.models.load_model`. If renaming is not possible, pass the object in the `custom_objects` parameter of the load function.\n"
          ]
        },
        {
          "output_type": "stream",
          "name": "stdout",
          "text": [
            "Save results in file model_20220118174200_30 successfully!\n",
            "\n",
            "Training the 3th epoch!\n",
            "391/391 [==============================] - 379s 967ms/step - loss: 0.5718 - accuracy: 0.6927 - val_loss: 0.5167 - val_accuracy: 0.7500\n"
          ]
        },
        {
          "output_type": "stream",
          "name": "stderr",
          "text": [
            "WARNING:absl:Found untraced functions such as lstm_cell_layer_call_fn, lstm_cell_layer_call_and_return_conditional_losses, lstm_cell_layer_call_fn, lstm_cell_layer_call_and_return_conditional_losses, lstm_cell_layer_call_and_return_conditional_losses while saving (showing 5 of 5). These functions will not be directly callable after loading.\n"
          ]
        },
        {
          "output_type": "stream",
          "name": "stdout",
          "text": [
            "INFO:tensorflow:Assets written to: /content/drive/MyDrive/RNN_memtrainsistor_ckpts/model_20220118174942_30/assets\n"
          ]
        },
        {
          "output_type": "stream",
          "name": "stderr",
          "text": [
            "INFO:tensorflow:Assets written to: /content/drive/MyDrive/RNN_memtrainsistor_ckpts/model_20220118174942_30/assets\n",
            "WARNING:absl:<keras.layers.recurrent.LSTMCell object at 0x7f52f40d2bd0> has the same name 'LSTMCell' as a built-in Keras object. Consider renaming <class 'keras.layers.recurrent.LSTMCell'> to avoid naming conflicts when loading with `tf.keras.models.load_model`. If renaming is not possible, pass the object in the `custom_objects` parameter of the load function.\n"
          ]
        },
        {
          "output_type": "stream",
          "name": "stdout",
          "text": [
            "Save results in file model_20220118174942_30 successfully!\n",
            "\n",
            "Training the 4th epoch!\n",
            "391/391 [==============================] - 380s 970ms/step - loss: 0.5772 - accuracy: 0.6840 - val_loss: 0.5264 - val_accuracy: 0.7260\n"
          ]
        },
        {
          "output_type": "stream",
          "name": "stderr",
          "text": [
            "WARNING:absl:Found untraced functions such as lstm_cell_layer_call_fn, lstm_cell_layer_call_and_return_conditional_losses, lstm_cell_layer_call_fn, lstm_cell_layer_call_and_return_conditional_losses, lstm_cell_layer_call_and_return_conditional_losses while saving (showing 5 of 5). These functions will not be directly callable after loading.\n"
          ]
        },
        {
          "output_type": "stream",
          "name": "stdout",
          "text": [
            "INFO:tensorflow:Assets written to: /content/drive/MyDrive/RNN_memtrainsistor_ckpts/model_20220118175622_30/assets\n"
          ]
        },
        {
          "output_type": "stream",
          "name": "stderr",
          "text": [
            "INFO:tensorflow:Assets written to: /content/drive/MyDrive/RNN_memtrainsistor_ckpts/model_20220118175622_30/assets\n",
            "WARNING:absl:<keras.layers.recurrent.LSTMCell object at 0x7f52f40d2bd0> has the same name 'LSTMCell' as a built-in Keras object. Consider renaming <class 'keras.layers.recurrent.LSTMCell'> to avoid naming conflicts when loading with `tf.keras.models.load_model`. If renaming is not possible, pass the object in the `custom_objects` parameter of the load function.\n"
          ]
        },
        {
          "output_type": "stream",
          "name": "stdout",
          "text": [
            "Save results in file model_20220118175622_30 successfully!\n",
            "\n",
            "Training the 5th epoch!\n",
            "391/391 [==============================] - 382s 975ms/step - loss: 0.5761 - accuracy: 0.6982 - val_loss: 0.5440 - val_accuracy: 0.6995\n"
          ]
        },
        {
          "output_type": "stream",
          "name": "stderr",
          "text": [
            "WARNING:absl:Found untraced functions such as lstm_cell_layer_call_fn, lstm_cell_layer_call_and_return_conditional_losses, lstm_cell_layer_call_fn, lstm_cell_layer_call_and_return_conditional_losses, lstm_cell_layer_call_and_return_conditional_losses while saving (showing 5 of 5). These functions will not be directly callable after loading.\n"
          ]
        },
        {
          "output_type": "stream",
          "name": "stdout",
          "text": [
            "INFO:tensorflow:Assets written to: /content/drive/MyDrive/RNN_memtrainsistor_ckpts/model_20220118180305_30/assets\n"
          ]
        },
        {
          "output_type": "stream",
          "name": "stderr",
          "text": [
            "INFO:tensorflow:Assets written to: /content/drive/MyDrive/RNN_memtrainsistor_ckpts/model_20220118180305_30/assets\n",
            "WARNING:absl:<keras.layers.recurrent.LSTMCell object at 0x7f52f40d2bd0> has the same name 'LSTMCell' as a built-in Keras object. Consider renaming <class 'keras.layers.recurrent.LSTMCell'> to avoid naming conflicts when loading with `tf.keras.models.load_model`. If renaming is not possible, pass the object in the `custom_objects` parameter of the load function.\n"
          ]
        },
        {
          "output_type": "stream",
          "name": "stdout",
          "text": [
            "Save results in file model_20220118180305_30 successfully!\n",
            "\n",
            "Training the 6th epoch!\n",
            "391/391 [==============================] - 379s 968ms/step - loss: 0.6825 - accuracy: 0.5522 - val_loss: 0.6401 - val_accuracy: 0.6182\n"
          ]
        },
        {
          "output_type": "stream",
          "name": "stderr",
          "text": [
            "WARNING:absl:Found untraced functions such as lstm_cell_layer_call_fn, lstm_cell_layer_call_and_return_conditional_losses, lstm_cell_layer_call_fn, lstm_cell_layer_call_and_return_conditional_losses, lstm_cell_layer_call_and_return_conditional_losses while saving (showing 5 of 5). These functions will not be directly callable after loading.\n"
          ]
        },
        {
          "output_type": "stream",
          "name": "stdout",
          "text": [
            "INFO:tensorflow:Assets written to: /content/drive/MyDrive/RNN_memtrainsistor_ckpts/model_20220118180947_30/assets\n"
          ]
        },
        {
          "output_type": "stream",
          "name": "stderr",
          "text": [
            "INFO:tensorflow:Assets written to: /content/drive/MyDrive/RNN_memtrainsistor_ckpts/model_20220118180947_30/assets\n",
            "WARNING:absl:<keras.layers.recurrent.LSTMCell object at 0x7f52f40d2bd0> has the same name 'LSTMCell' as a built-in Keras object. Consider renaming <class 'keras.layers.recurrent.LSTMCell'> to avoid naming conflicts when loading with `tf.keras.models.load_model`. If renaming is not possible, pass the object in the `custom_objects` parameter of the load function.\n"
          ]
        },
        {
          "output_type": "stream",
          "name": "stdout",
          "text": [
            "Save results in file model_20220118180947_30 successfully!\n",
            "\n",
            "Training the 7th epoch!\n",
            "391/391 [==============================] - 382s 976ms/step - loss: 0.6521 - accuracy: 0.5980 - val_loss: 0.6174 - val_accuracy: 0.6427\n"
          ]
        },
        {
          "output_type": "stream",
          "name": "stderr",
          "text": [
            "WARNING:absl:Found untraced functions such as lstm_cell_layer_call_fn, lstm_cell_layer_call_and_return_conditional_losses, lstm_cell_layer_call_fn, lstm_cell_layer_call_and_return_conditional_losses, lstm_cell_layer_call_and_return_conditional_losses while saving (showing 5 of 5). These functions will not be directly callable after loading.\n"
          ]
        },
        {
          "output_type": "stream",
          "name": "stdout",
          "text": [
            "INFO:tensorflow:Assets written to: /content/drive/MyDrive/RNN_memtrainsistor_ckpts/model_20220118181630_30/assets\n"
          ]
        },
        {
          "output_type": "stream",
          "name": "stderr",
          "text": [
            "INFO:tensorflow:Assets written to: /content/drive/MyDrive/RNN_memtrainsistor_ckpts/model_20220118181630_30/assets\n",
            "WARNING:absl:<keras.layers.recurrent.LSTMCell object at 0x7f52f40d2bd0> has the same name 'LSTMCell' as a built-in Keras object. Consider renaming <class 'keras.layers.recurrent.LSTMCell'> to avoid naming conflicts when loading with `tf.keras.models.load_model`. If renaming is not possible, pass the object in the `custom_objects` parameter of the load function.\n"
          ]
        },
        {
          "output_type": "stream",
          "name": "stdout",
          "text": [
            "Save results in file model_20220118181630_30 successfully!\n",
            "\n",
            "Training the 8th epoch!\n",
            "391/391 [==============================] - 376s 962ms/step - loss: 0.6676 - accuracy: 0.5868 - val_loss: 0.6563 - val_accuracy: 0.5953\n"
          ]
        },
        {
          "output_type": "stream",
          "name": "stderr",
          "text": [
            "WARNING:absl:Found untraced functions such as lstm_cell_layer_call_fn, lstm_cell_layer_call_and_return_conditional_losses, lstm_cell_layer_call_fn, lstm_cell_layer_call_and_return_conditional_losses, lstm_cell_layer_call_and_return_conditional_losses while saving (showing 5 of 5). These functions will not be directly callable after loading.\n"
          ]
        },
        {
          "output_type": "stream",
          "name": "stdout",
          "text": [
            "INFO:tensorflow:Assets written to: /content/drive/MyDrive/RNN_memtrainsistor_ckpts/model_20220118182413_30/assets\n"
          ]
        },
        {
          "output_type": "stream",
          "name": "stderr",
          "text": [
            "INFO:tensorflow:Assets written to: /content/drive/MyDrive/RNN_memtrainsistor_ckpts/model_20220118182413_30/assets\n",
            "WARNING:absl:<keras.layers.recurrent.LSTMCell object at 0x7f52f40d2bd0> has the same name 'LSTMCell' as a built-in Keras object. Consider renaming <class 'keras.layers.recurrent.LSTMCell'> to avoid naming conflicts when loading with `tf.keras.models.load_model`. If renaming is not possible, pass the object in the `custom_objects` parameter of the load function.\n"
          ]
        },
        {
          "output_type": "stream",
          "name": "stdout",
          "text": [
            "Save results in file model_20220118182413_30 successfully!\n",
            "\n",
            "Training the 9th epoch!\n",
            "391/391 [==============================] - 378s 965ms/step - loss: 0.6865 - accuracy: 0.5864 - val_loss: 0.6725 - val_accuracy: 0.6089\n"
          ]
        },
        {
          "output_type": "stream",
          "name": "stderr",
          "text": [
            "WARNING:absl:Found untraced functions such as lstm_cell_layer_call_fn, lstm_cell_layer_call_and_return_conditional_losses, lstm_cell_layer_call_fn, lstm_cell_layer_call_and_return_conditional_losses, lstm_cell_layer_call_and_return_conditional_losses while saving (showing 5 of 5). These functions will not be directly callable after loading.\n"
          ]
        },
        {
          "output_type": "stream",
          "name": "stdout",
          "text": [
            "INFO:tensorflow:Assets written to: /content/drive/MyDrive/RNN_memtrainsistor_ckpts/model_20220118183050_30/assets\n"
          ]
        },
        {
          "output_type": "stream",
          "name": "stderr",
          "text": [
            "INFO:tensorflow:Assets written to: /content/drive/MyDrive/RNN_memtrainsistor_ckpts/model_20220118183050_30/assets\n",
            "WARNING:absl:<keras.layers.recurrent.LSTMCell object at 0x7f52f40d2bd0> has the same name 'LSTMCell' as a built-in Keras object. Consider renaming <class 'keras.layers.recurrent.LSTMCell'> to avoid naming conflicts when loading with `tf.keras.models.load_model`. If renaming is not possible, pass the object in the `custom_objects` parameter of the load function.\n"
          ]
        },
        {
          "output_type": "stream",
          "name": "stdout",
          "text": [
            "Save results in file model_20220118183050_30 successfully!\n",
            "\n",
            "Training the 10th epoch!\n",
            "391/391 [==============================] - 377s 963ms/step - loss: 0.6835 - accuracy: 0.5830 - val_loss: 0.6506 - val_accuracy: 0.5990\n"
          ]
        },
        {
          "output_type": "stream",
          "name": "stderr",
          "text": [
            "WARNING:absl:Found untraced functions such as lstm_cell_layer_call_fn, lstm_cell_layer_call_and_return_conditional_losses, lstm_cell_layer_call_fn, lstm_cell_layer_call_and_return_conditional_losses, lstm_cell_layer_call_and_return_conditional_losses while saving (showing 5 of 5). These functions will not be directly callable after loading.\n"
          ]
        },
        {
          "output_type": "stream",
          "name": "stdout",
          "text": [
            "INFO:tensorflow:Assets written to: /content/drive/MyDrive/RNN_memtrainsistor_ckpts/model_20220118183733_30/assets\n"
          ]
        },
        {
          "output_type": "stream",
          "name": "stderr",
          "text": [
            "INFO:tensorflow:Assets written to: /content/drive/MyDrive/RNN_memtrainsistor_ckpts/model_20220118183733_30/assets\n",
            "WARNING:absl:<keras.layers.recurrent.LSTMCell object at 0x7f52f40d2bd0> has the same name 'LSTMCell' as a built-in Keras object. Consider renaming <class 'keras.layers.recurrent.LSTMCell'> to avoid naming conflicts when loading with `tf.keras.models.load_model`. If renaming is not possible, pass the object in the `custom_objects` parameter of the load function.\n"
          ]
        },
        {
          "output_type": "stream",
          "name": "stdout",
          "text": [
            "Save results in file model_20220118183733_30 successfully!\n",
            "\n",
            "Training the 11th epoch!\n",
            "391/391 [==============================] - 378s 965ms/step - loss: 0.6657 - accuracy: 0.6070 - val_loss: 0.6561 - val_accuracy: 0.6167\n"
          ]
        },
        {
          "output_type": "stream",
          "name": "stderr",
          "text": [
            "WARNING:absl:Found untraced functions such as lstm_cell_layer_call_fn, lstm_cell_layer_call_and_return_conditional_losses, lstm_cell_layer_call_fn, lstm_cell_layer_call_and_return_conditional_losses, lstm_cell_layer_call_and_return_conditional_losses while saving (showing 5 of 5). These functions will not be directly callable after loading.\n"
          ]
        },
        {
          "output_type": "stream",
          "name": "stdout",
          "text": [
            "INFO:tensorflow:Assets written to: /content/drive/MyDrive/RNN_memtrainsistor_ckpts/model_20220118184415_30/assets\n"
          ]
        },
        {
          "output_type": "stream",
          "name": "stderr",
          "text": [
            "INFO:tensorflow:Assets written to: /content/drive/MyDrive/RNN_memtrainsistor_ckpts/model_20220118184415_30/assets\n",
            "WARNING:absl:<keras.layers.recurrent.LSTMCell object at 0x7f52f40d2bd0> has the same name 'LSTMCell' as a built-in Keras object. Consider renaming <class 'keras.layers.recurrent.LSTMCell'> to avoid naming conflicts when loading with `tf.keras.models.load_model`. If renaming is not possible, pass the object in the `custom_objects` parameter of the load function.\n"
          ]
        },
        {
          "output_type": "stream",
          "name": "stdout",
          "text": [
            "Save results in file model_20220118184415_30 successfully!\n",
            "\n",
            "Training the 12th epoch!\n",
            "391/391 [==============================] - 384s 980ms/step - loss: 0.6645 - accuracy: 0.6145 - val_loss: 0.6581 - val_accuracy: 0.6125\n"
          ]
        },
        {
          "output_type": "stream",
          "name": "stderr",
          "text": [
            "WARNING:absl:Found untraced functions such as lstm_cell_layer_call_fn, lstm_cell_layer_call_and_return_conditional_losses, lstm_cell_layer_call_fn, lstm_cell_layer_call_and_return_conditional_losses, lstm_cell_layer_call_and_return_conditional_losses while saving (showing 5 of 5). These functions will not be directly callable after loading.\n"
          ]
        },
        {
          "output_type": "stream",
          "name": "stdout",
          "text": [
            "INFO:tensorflow:Assets written to: /content/drive/MyDrive/RNN_memtrainsistor_ckpts/model_20220118185058_30/assets\n"
          ]
        },
        {
          "output_type": "stream",
          "name": "stderr",
          "text": [
            "INFO:tensorflow:Assets written to: /content/drive/MyDrive/RNN_memtrainsistor_ckpts/model_20220118185058_30/assets\n",
            "WARNING:absl:<keras.layers.recurrent.LSTMCell object at 0x7f52f40d2bd0> has the same name 'LSTMCell' as a built-in Keras object. Consider renaming <class 'keras.layers.recurrent.LSTMCell'> to avoid naming conflicts when loading with `tf.keras.models.load_model`. If renaming is not possible, pass the object in the `custom_objects` parameter of the load function.\n"
          ]
        },
        {
          "output_type": "stream",
          "name": "stdout",
          "text": [
            "Save results in file model_20220118185058_30 successfully!\n",
            "\n",
            "Training the 13th epoch!\n",
            "391/391 [==============================] - 382s 976ms/step - loss: 0.6577 - accuracy: 0.6355 - val_loss: 0.6530 - val_accuracy: 0.6464\n"
          ]
        },
        {
          "output_type": "stream",
          "name": "stderr",
          "text": [
            "WARNING:absl:Found untraced functions such as lstm_cell_layer_call_fn, lstm_cell_layer_call_and_return_conditional_losses, lstm_cell_layer_call_fn, lstm_cell_layer_call_and_return_conditional_losses, lstm_cell_layer_call_and_return_conditional_losses while saving (showing 5 of 5). These functions will not be directly callable after loading.\n"
          ]
        },
        {
          "output_type": "stream",
          "name": "stdout",
          "text": [
            "INFO:tensorflow:Assets written to: /content/drive/MyDrive/RNN_memtrainsistor_ckpts/model_20220118185841_30/assets\n"
          ]
        },
        {
          "output_type": "stream",
          "name": "stderr",
          "text": [
            "INFO:tensorflow:Assets written to: /content/drive/MyDrive/RNN_memtrainsistor_ckpts/model_20220118185841_30/assets\n",
            "WARNING:absl:<keras.layers.recurrent.LSTMCell object at 0x7f52f40d2bd0> has the same name 'LSTMCell' as a built-in Keras object. Consider renaming <class 'keras.layers.recurrent.LSTMCell'> to avoid naming conflicts when loading with `tf.keras.models.load_model`. If renaming is not possible, pass the object in the `custom_objects` parameter of the load function.\n"
          ]
        },
        {
          "output_type": "stream",
          "name": "stdout",
          "text": [
            "Save results in file model_20220118185841_30 successfully!\n",
            "\n",
            "Training the 14th epoch!\n",
            "391/391 [==============================] - 383s 980ms/step - loss: 0.6419 - accuracy: 0.6447 - val_loss: 0.6286 - val_accuracy: 0.6557\n"
          ]
        },
        {
          "output_type": "stream",
          "name": "stderr",
          "text": [
            "WARNING:absl:Found untraced functions such as lstm_cell_layer_call_fn, lstm_cell_layer_call_and_return_conditional_losses, lstm_cell_layer_call_fn, lstm_cell_layer_call_and_return_conditional_losses, lstm_cell_layer_call_and_return_conditional_losses while saving (showing 5 of 5). These functions will not be directly callable after loading.\n"
          ]
        },
        {
          "output_type": "stream",
          "name": "stdout",
          "text": [
            "INFO:tensorflow:Assets written to: /content/drive/MyDrive/RNN_memtrainsistor_ckpts/model_20220118190623_30/assets\n"
          ]
        },
        {
          "output_type": "stream",
          "name": "stderr",
          "text": [
            "INFO:tensorflow:Assets written to: /content/drive/MyDrive/RNN_memtrainsistor_ckpts/model_20220118190623_30/assets\n",
            "WARNING:absl:<keras.layers.recurrent.LSTMCell object at 0x7f52f40d2bd0> has the same name 'LSTMCell' as a built-in Keras object. Consider renaming <class 'keras.layers.recurrent.LSTMCell'> to avoid naming conflicts when loading with `tf.keras.models.load_model`. If renaming is not possible, pass the object in the `custom_objects` parameter of the load function.\n"
          ]
        },
        {
          "output_type": "stream",
          "name": "stdout",
          "text": [
            "Save results in file model_20220118190623_30 successfully!\n",
            "\n",
            "Training the 15th epoch!\n",
            "391/391 [==============================] - 386s 985ms/step - loss: 0.6574 - accuracy: 0.6306 - val_loss: 0.6388 - val_accuracy: 0.6500\n"
          ]
        },
        {
          "output_type": "stream",
          "name": "stderr",
          "text": [
            "WARNING:absl:Found untraced functions such as lstm_cell_layer_call_fn, lstm_cell_layer_call_and_return_conditional_losses, lstm_cell_layer_call_fn, lstm_cell_layer_call_and_return_conditional_losses, lstm_cell_layer_call_and_return_conditional_losses while saving (showing 5 of 5). These functions will not be directly callable after loading.\n"
          ]
        },
        {
          "output_type": "stream",
          "name": "stdout",
          "text": [
            "INFO:tensorflow:Assets written to: /content/drive/MyDrive/RNN_memtrainsistor_ckpts/model_20220118191307_30/assets\n"
          ]
        },
        {
          "output_type": "stream",
          "name": "stderr",
          "text": [
            "INFO:tensorflow:Assets written to: /content/drive/MyDrive/RNN_memtrainsistor_ckpts/model_20220118191307_30/assets\n",
            "WARNING:absl:<keras.layers.recurrent.LSTMCell object at 0x7f52f40d2bd0> has the same name 'LSTMCell' as a built-in Keras object. Consider renaming <class 'keras.layers.recurrent.LSTMCell'> to avoid naming conflicts when loading with `tf.keras.models.load_model`. If renaming is not possible, pass the object in the `custom_objects` parameter of the load function.\n"
          ]
        },
        {
          "output_type": "stream",
          "name": "stdout",
          "text": [
            "Save results in file model_20220118191307_30 successfully!\n",
            "\n",
            "Training the 16th epoch!\n",
            "391/391 [==============================] - 389s 989ms/step - loss: 0.6584 - accuracy: 0.6491 - val_loss: 0.6447 - val_accuracy: 0.6542\n"
          ]
        },
        {
          "output_type": "stream",
          "name": "stderr",
          "text": [
            "WARNING:absl:Found untraced functions such as lstm_cell_layer_call_fn, lstm_cell_layer_call_and_return_conditional_losses, lstm_cell_layer_call_fn, lstm_cell_layer_call_and_return_conditional_losses, lstm_cell_layer_call_and_return_conditional_losses while saving (showing 5 of 5). These functions will not be directly callable after loading.\n"
          ]
        },
        {
          "output_type": "stream",
          "name": "stdout",
          "text": [
            "INFO:tensorflow:Assets written to: /content/drive/MyDrive/RNN_memtrainsistor_ckpts/model_20220118191954_30/assets\n"
          ]
        },
        {
          "output_type": "stream",
          "name": "stderr",
          "text": [
            "INFO:tensorflow:Assets written to: /content/drive/MyDrive/RNN_memtrainsistor_ckpts/model_20220118191954_30/assets\n",
            "WARNING:absl:<keras.layers.recurrent.LSTMCell object at 0x7f52f40d2bd0> has the same name 'LSTMCell' as a built-in Keras object. Consider renaming <class 'keras.layers.recurrent.LSTMCell'> to avoid naming conflicts when loading with `tf.keras.models.load_model`. If renaming is not possible, pass the object in the `custom_objects` parameter of the load function.\n"
          ]
        },
        {
          "output_type": "stream",
          "name": "stdout",
          "text": [
            "Save results in file model_20220118191954_30 successfully!\n",
            "\n",
            "Training the 17th epoch!\n",
            "391/391 [==============================] - 387s 987ms/step - loss: 0.6696 - accuracy: 0.6148 - val_loss: 0.6625 - val_accuracy: 0.6250\n"
          ]
        },
        {
          "output_type": "stream",
          "name": "stderr",
          "text": [
            "WARNING:absl:Found untraced functions such as lstm_cell_layer_call_fn, lstm_cell_layer_call_and_return_conditional_losses, lstm_cell_layer_call_fn, lstm_cell_layer_call_and_return_conditional_losses, lstm_cell_layer_call_and_return_conditional_losses while saving (showing 5 of 5). These functions will not be directly callable after loading.\n"
          ]
        },
        {
          "output_type": "stream",
          "name": "stdout",
          "text": [
            "INFO:tensorflow:Assets written to: /content/drive/MyDrive/RNN_memtrainsistor_ckpts/model_20220118192643_30/assets\n"
          ]
        },
        {
          "output_type": "stream",
          "name": "stderr",
          "text": [
            "INFO:tensorflow:Assets written to: /content/drive/MyDrive/RNN_memtrainsistor_ckpts/model_20220118192643_30/assets\n",
            "WARNING:absl:<keras.layers.recurrent.LSTMCell object at 0x7f52f40d2bd0> has the same name 'LSTMCell' as a built-in Keras object. Consider renaming <class 'keras.layers.recurrent.LSTMCell'> to avoid naming conflicts when loading with `tf.keras.models.load_model`. If renaming is not possible, pass the object in the `custom_objects` parameter of the load function.\n"
          ]
        },
        {
          "output_type": "stream",
          "name": "stdout",
          "text": [
            "Save results in file model_20220118192643_30 successfully!\n",
            "\n",
            "Training the 18th epoch!\n",
            "391/391 [==============================] - 384s 979ms/step - loss: 0.6866 - accuracy: 0.6109 - val_loss: 0.6627 - val_accuracy: 0.6349\n"
          ]
        },
        {
          "output_type": "stream",
          "name": "stderr",
          "text": [
            "WARNING:absl:Found untraced functions such as lstm_cell_layer_call_fn, lstm_cell_layer_call_and_return_conditional_losses, lstm_cell_layer_call_fn, lstm_cell_layer_call_and_return_conditional_losses, lstm_cell_layer_call_and_return_conditional_losses while saving (showing 5 of 5). These functions will not be directly callable after loading.\n"
          ]
        },
        {
          "output_type": "stream",
          "name": "stdout",
          "text": [
            "INFO:tensorflow:Assets written to: /content/drive/MyDrive/RNN_memtrainsistor_ckpts/model_20220118193331_30/assets\n"
          ]
        },
        {
          "output_type": "stream",
          "name": "stderr",
          "text": [
            "INFO:tensorflow:Assets written to: /content/drive/MyDrive/RNN_memtrainsistor_ckpts/model_20220118193331_30/assets\n",
            "WARNING:absl:<keras.layers.recurrent.LSTMCell object at 0x7f52f40d2bd0> has the same name 'LSTMCell' as a built-in Keras object. Consider renaming <class 'keras.layers.recurrent.LSTMCell'> to avoid naming conflicts when loading with `tf.keras.models.load_model`. If renaming is not possible, pass the object in the `custom_objects` parameter of the load function.\n"
          ]
        },
        {
          "output_type": "stream",
          "name": "stdout",
          "text": [
            "Save results in file model_20220118193331_30 successfully!\n",
            "\n",
            "Training the 19th epoch!\n",
            "391/391 [==============================] - 386s 986ms/step - loss: 0.6792 - accuracy: 0.5973 - val_loss: 0.6828 - val_accuracy: 0.6021\n"
          ]
        },
        {
          "output_type": "stream",
          "name": "stderr",
          "text": [
            "WARNING:absl:Found untraced functions such as lstm_cell_layer_call_fn, lstm_cell_layer_call_and_return_conditional_losses, lstm_cell_layer_call_fn, lstm_cell_layer_call_and_return_conditional_losses, lstm_cell_layer_call_and_return_conditional_losses while saving (showing 5 of 5). These functions will not be directly callable after loading.\n"
          ]
        },
        {
          "output_type": "stream",
          "name": "stdout",
          "text": [
            "INFO:tensorflow:Assets written to: /content/drive/MyDrive/RNN_memtrainsistor_ckpts/model_20220118194016_30/assets\n"
          ]
        },
        {
          "output_type": "stream",
          "name": "stderr",
          "text": [
            "INFO:tensorflow:Assets written to: /content/drive/MyDrive/RNN_memtrainsistor_ckpts/model_20220118194016_30/assets\n",
            "WARNING:absl:<keras.layers.recurrent.LSTMCell object at 0x7f52f40d2bd0> has the same name 'LSTMCell' as a built-in Keras object. Consider renaming <class 'keras.layers.recurrent.LSTMCell'> to avoid naming conflicts when loading with `tf.keras.models.load_model`. If renaming is not possible, pass the object in the `custom_objects` parameter of the load function.\n"
          ]
        },
        {
          "output_type": "stream",
          "name": "stdout",
          "text": [
            "Save results in file model_20220118194016_30 successfully!\n",
            "\n",
            "Training the 20th epoch!\n",
            "391/391 [==============================] - 385s 983ms/step - loss: 0.7031 - accuracy: 0.5619 - val_loss: 0.6837 - val_accuracy: 0.5823\n"
          ]
        },
        {
          "output_type": "stream",
          "name": "stderr",
          "text": [
            "WARNING:absl:Found untraced functions such as lstm_cell_layer_call_fn, lstm_cell_layer_call_and_return_conditional_losses, lstm_cell_layer_call_fn, lstm_cell_layer_call_and_return_conditional_losses, lstm_cell_layer_call_and_return_conditional_losses while saving (showing 5 of 5). These functions will not be directly callable after loading.\n"
          ]
        },
        {
          "output_type": "stream",
          "name": "stdout",
          "text": [
            "INFO:tensorflow:Assets written to: /content/drive/MyDrive/RNN_memtrainsistor_ckpts/model_20220118194702_30/assets\n"
          ]
        },
        {
          "output_type": "stream",
          "name": "stderr",
          "text": [
            "INFO:tensorflow:Assets written to: /content/drive/MyDrive/RNN_memtrainsistor_ckpts/model_20220118194702_30/assets\n",
            "WARNING:absl:<keras.layers.recurrent.LSTMCell object at 0x7f52f40d2bd0> has the same name 'LSTMCell' as a built-in Keras object. Consider renaming <class 'keras.layers.recurrent.LSTMCell'> to avoid naming conflicts when loading with `tf.keras.models.load_model`. If renaming is not possible, pass the object in the `custom_objects` parameter of the load function.\n"
          ]
        },
        {
          "output_type": "stream",
          "name": "stdout",
          "text": [
            "Save results in file model_20220118194702_30 successfully!\n",
            "\n",
            "Training the 21th epoch!\n",
            "391/391 [==============================] - 382s 975ms/step - loss: 0.6992 - accuracy: 0.5605 - val_loss: 0.6984 - val_accuracy: 0.5620\n"
          ]
        },
        {
          "output_type": "stream",
          "name": "stderr",
          "text": [
            "WARNING:absl:Found untraced functions such as lstm_cell_layer_call_fn, lstm_cell_layer_call_and_return_conditional_losses, lstm_cell_layer_call_fn, lstm_cell_layer_call_and_return_conditional_losses, lstm_cell_layer_call_and_return_conditional_losses while saving (showing 5 of 5). These functions will not be directly callable after loading.\n"
          ]
        },
        {
          "output_type": "stream",
          "name": "stdout",
          "text": [
            "INFO:tensorflow:Assets written to: /content/drive/MyDrive/RNN_memtrainsistor_ckpts/model_20220118195348_30/assets\n"
          ]
        },
        {
          "output_type": "stream",
          "name": "stderr",
          "text": [
            "INFO:tensorflow:Assets written to: /content/drive/MyDrive/RNN_memtrainsistor_ckpts/model_20220118195348_30/assets\n",
            "WARNING:absl:<keras.layers.recurrent.LSTMCell object at 0x7f52f40d2bd0> has the same name 'LSTMCell' as a built-in Keras object. Consider renaming <class 'keras.layers.recurrent.LSTMCell'> to avoid naming conflicts when loading with `tf.keras.models.load_model`. If renaming is not possible, pass the object in the `custom_objects` parameter of the load function.\n"
          ]
        },
        {
          "output_type": "stream",
          "name": "stdout",
          "text": [
            "Save results in file model_20220118195348_30 successfully!\n",
            "\n",
            "Training the 22th epoch!\n",
            "391/391 [==============================] - 384s 981ms/step - loss: 0.7243 - accuracy: 0.5459 - val_loss: 0.7096 - val_accuracy: 0.5500\n"
          ]
        },
        {
          "output_type": "stream",
          "name": "stderr",
          "text": [
            "WARNING:absl:Found untraced functions such as lstm_cell_layer_call_fn, lstm_cell_layer_call_and_return_conditional_losses, lstm_cell_layer_call_fn, lstm_cell_layer_call_and_return_conditional_losses, lstm_cell_layer_call_and_return_conditional_losses while saving (showing 5 of 5). These functions will not be directly callable after loading.\n"
          ]
        },
        {
          "output_type": "stream",
          "name": "stdout",
          "text": [
            "INFO:tensorflow:Assets written to: /content/drive/MyDrive/RNN_memtrainsistor_ckpts/model_20220118200031_30/assets\n"
          ]
        },
        {
          "output_type": "stream",
          "name": "stderr",
          "text": [
            "INFO:tensorflow:Assets written to: /content/drive/MyDrive/RNN_memtrainsistor_ckpts/model_20220118200031_30/assets\n",
            "WARNING:absl:<keras.layers.recurrent.LSTMCell object at 0x7f52f40d2bd0> has the same name 'LSTMCell' as a built-in Keras object. Consider renaming <class 'keras.layers.recurrent.LSTMCell'> to avoid naming conflicts when loading with `tf.keras.models.load_model`. If renaming is not possible, pass the object in the `custom_objects` parameter of the load function.\n"
          ]
        },
        {
          "output_type": "stream",
          "name": "stdout",
          "text": [
            "Save results in file model_20220118200031_30 successfully!\n",
            "\n",
            "Training the 23th epoch!\n",
            "391/391 [==============================] - 380s 971ms/step - loss: 0.7156 - accuracy: 0.5420 - val_loss: 0.7095 - val_accuracy: 0.5417\n"
          ]
        },
        {
          "output_type": "stream",
          "name": "stderr",
          "text": [
            "WARNING:absl:Found untraced functions such as lstm_cell_layer_call_fn, lstm_cell_layer_call_and_return_conditional_losses, lstm_cell_layer_call_fn, lstm_cell_layer_call_and_return_conditional_losses, lstm_cell_layer_call_and_return_conditional_losses while saving (showing 5 of 5). These functions will not be directly callable after loading.\n"
          ]
        },
        {
          "output_type": "stream",
          "name": "stdout",
          "text": [
            "INFO:tensorflow:Assets written to: /content/drive/MyDrive/RNN_memtrainsistor_ckpts/model_20220118200716_30/assets\n"
          ]
        },
        {
          "output_type": "stream",
          "name": "stderr",
          "text": [
            "INFO:tensorflow:Assets written to: /content/drive/MyDrive/RNN_memtrainsistor_ckpts/model_20220118200716_30/assets\n",
            "WARNING:absl:<keras.layers.recurrent.LSTMCell object at 0x7f52f40d2bd0> has the same name 'LSTMCell' as a built-in Keras object. Consider renaming <class 'keras.layers.recurrent.LSTMCell'> to avoid naming conflicts when loading with `tf.keras.models.load_model`. If renaming is not possible, pass the object in the `custom_objects` parameter of the load function.\n"
          ]
        },
        {
          "output_type": "stream",
          "name": "stdout",
          "text": [
            "Save results in file model_20220118200716_30 successfully!\n",
            "\n",
            "Training the 24th epoch!\n",
            "391/391 [==============================] - 380s 972ms/step - loss: 0.7033 - accuracy: 0.5624 - val_loss: 0.6827 - val_accuracy: 0.5776\n"
          ]
        },
        {
          "output_type": "stream",
          "name": "stderr",
          "text": [
            "WARNING:absl:Found untraced functions such as lstm_cell_layer_call_fn, lstm_cell_layer_call_and_return_conditional_losses, lstm_cell_layer_call_fn, lstm_cell_layer_call_and_return_conditional_losses, lstm_cell_layer_call_and_return_conditional_losses while saving (showing 5 of 5). These functions will not be directly callable after loading.\n"
          ]
        },
        {
          "output_type": "stream",
          "name": "stdout",
          "text": [
            "INFO:tensorflow:Assets written to: /content/drive/MyDrive/RNN_memtrainsistor_ckpts/model_20220118201359_30/assets\n"
          ]
        },
        {
          "output_type": "stream",
          "name": "stderr",
          "text": [
            "INFO:tensorflow:Assets written to: /content/drive/MyDrive/RNN_memtrainsistor_ckpts/model_20220118201359_30/assets\n",
            "WARNING:absl:<keras.layers.recurrent.LSTMCell object at 0x7f52f40d2bd0> has the same name 'LSTMCell' as a built-in Keras object. Consider renaming <class 'keras.layers.recurrent.LSTMCell'> to avoid naming conflicts when loading with `tf.keras.models.load_model`. If renaming is not possible, pass the object in the `custom_objects` parameter of the load function.\n"
          ]
        },
        {
          "output_type": "stream",
          "name": "stdout",
          "text": [
            "Save results in file model_20220118201359_30 successfully!\n",
            "\n",
            "Training the 25th epoch!\n",
            "391/391 [==============================] - 387s 990ms/step - loss: 0.7176 - accuracy: 0.5476 - val_loss: 0.7093 - val_accuracy: 0.5521\n"
          ]
        },
        {
          "output_type": "stream",
          "name": "stderr",
          "text": [
            "WARNING:absl:Found untraced functions such as lstm_cell_layer_call_fn, lstm_cell_layer_call_and_return_conditional_losses, lstm_cell_layer_call_fn, lstm_cell_layer_call_and_return_conditional_losses, lstm_cell_layer_call_and_return_conditional_losses while saving (showing 5 of 5). These functions will not be directly callable after loading.\n"
          ]
        },
        {
          "output_type": "stream",
          "name": "stdout",
          "text": [
            "INFO:tensorflow:Assets written to: /content/drive/MyDrive/RNN_memtrainsistor_ckpts/model_20220118202040_30/assets\n"
          ]
        },
        {
          "output_type": "stream",
          "name": "stderr",
          "text": [
            "INFO:tensorflow:Assets written to: /content/drive/MyDrive/RNN_memtrainsistor_ckpts/model_20220118202040_30/assets\n",
            "WARNING:absl:<keras.layers.recurrent.LSTMCell object at 0x7f52f40d2bd0> has the same name 'LSTMCell' as a built-in Keras object. Consider renaming <class 'keras.layers.recurrent.LSTMCell'> to avoid naming conflicts when loading with `tf.keras.models.load_model`. If renaming is not possible, pass the object in the `custom_objects` parameter of the load function.\n"
          ]
        },
        {
          "output_type": "stream",
          "name": "stdout",
          "text": [
            "Save results in file model_20220118202040_30 successfully!\n",
            "\n",
            "Training the 26th epoch!\n",
            "391/391 [==============================] - 385s 984ms/step - loss: 0.7422 - accuracy: 0.5371 - val_loss: 0.7274 - val_accuracy: 0.5271\n"
          ]
        },
        {
          "output_type": "stream",
          "name": "stderr",
          "text": [
            "WARNING:absl:Found untraced functions such as lstm_cell_layer_call_fn, lstm_cell_layer_call_and_return_conditional_losses, lstm_cell_layer_call_fn, lstm_cell_layer_call_and_return_conditional_losses, lstm_cell_layer_call_and_return_conditional_losses while saving (showing 5 of 5). These functions will not be directly callable after loading.\n"
          ]
        },
        {
          "output_type": "stream",
          "name": "stdout",
          "text": [
            "INFO:tensorflow:Assets written to: /content/drive/MyDrive/RNN_memtrainsistor_ckpts/model_20220118202822_30/assets\n"
          ]
        },
        {
          "output_type": "stream",
          "name": "stderr",
          "text": [
            "INFO:tensorflow:Assets written to: /content/drive/MyDrive/RNN_memtrainsistor_ckpts/model_20220118202822_30/assets\n",
            "WARNING:absl:<keras.layers.recurrent.LSTMCell object at 0x7f52f40d2bd0> has the same name 'LSTMCell' as a built-in Keras object. Consider renaming <class 'keras.layers.recurrent.LSTMCell'> to avoid naming conflicts when loading with `tf.keras.models.load_model`. If renaming is not possible, pass the object in the `custom_objects` parameter of the load function.\n"
          ]
        },
        {
          "output_type": "stream",
          "name": "stdout",
          "text": [
            "Save results in file model_20220118202822_30 successfully!\n",
            "\n",
            "Training the 27th epoch!\n",
            "391/391 [==============================] - 380s 972ms/step - loss: 0.7221 - accuracy: 0.5474 - val_loss: 0.7236 - val_accuracy: 0.5417\n"
          ]
        },
        {
          "output_type": "stream",
          "name": "stderr",
          "text": [
            "WARNING:absl:Found untraced functions such as lstm_cell_layer_call_fn, lstm_cell_layer_call_and_return_conditional_losses, lstm_cell_layer_call_fn, lstm_cell_layer_call_and_return_conditional_losses, lstm_cell_layer_call_and_return_conditional_losses while saving (showing 5 of 5). These functions will not be directly callable after loading.\n"
          ]
        },
        {
          "output_type": "stream",
          "name": "stdout",
          "text": [
            "INFO:tensorflow:Assets written to: /content/drive/MyDrive/RNN_memtrainsistor_ckpts/model_20220118203605_30/assets\n"
          ]
        },
        {
          "output_type": "stream",
          "name": "stderr",
          "text": [
            "INFO:tensorflow:Assets written to: /content/drive/MyDrive/RNN_memtrainsistor_ckpts/model_20220118203605_30/assets\n",
            "WARNING:absl:<keras.layers.recurrent.LSTMCell object at 0x7f52f40d2bd0> has the same name 'LSTMCell' as a built-in Keras object. Consider renaming <class 'keras.layers.recurrent.LSTMCell'> to avoid naming conflicts when loading with `tf.keras.models.load_model`. If renaming is not possible, pass the object in the `custom_objects` parameter of the load function.\n"
          ]
        },
        {
          "output_type": "stream",
          "name": "stdout",
          "text": [
            "Save results in file model_20220118203605_30 successfully!\n",
            "\n",
            "Training the 28th epoch!\n",
            "391/391 [==============================] - 385s 983ms/step - loss: 0.7181 - accuracy: 0.5593 - val_loss: 0.7090 - val_accuracy: 0.5443\n"
          ]
        },
        {
          "output_type": "stream",
          "name": "stderr",
          "text": [
            "WARNING:absl:Found untraced functions such as lstm_cell_layer_call_fn, lstm_cell_layer_call_and_return_conditional_losses, lstm_cell_layer_call_fn, lstm_cell_layer_call_and_return_conditional_losses, lstm_cell_layer_call_and_return_conditional_losses while saving (showing 5 of 5). These functions will not be directly callable after loading.\n"
          ]
        },
        {
          "output_type": "stream",
          "name": "stdout",
          "text": [
            "INFO:tensorflow:Assets written to: /content/drive/MyDrive/RNN_memtrainsistor_ckpts/model_20220118204248_30/assets\n"
          ]
        },
        {
          "output_type": "stream",
          "name": "stderr",
          "text": [
            "INFO:tensorflow:Assets written to: /content/drive/MyDrive/RNN_memtrainsistor_ckpts/model_20220118204248_30/assets\n",
            "WARNING:absl:<keras.layers.recurrent.LSTMCell object at 0x7f52f40d2bd0> has the same name 'LSTMCell' as a built-in Keras object. Consider renaming <class 'keras.layers.recurrent.LSTMCell'> to avoid naming conflicts when loading with `tf.keras.models.load_model`. If renaming is not possible, pass the object in the `custom_objects` parameter of the load function.\n"
          ]
        },
        {
          "output_type": "stream",
          "name": "stdout",
          "text": [
            "Save results in file model_20220118204248_30 successfully!\n",
            "\n",
            "Training the 29th epoch!\n",
            "391/391 [==============================] - 382s 975ms/step - loss: 0.7203 - accuracy: 0.5446 - val_loss: 0.7208 - val_accuracy: 0.5297\n"
          ]
        },
        {
          "output_type": "stream",
          "name": "stderr",
          "text": [
            "WARNING:absl:Found untraced functions such as lstm_cell_layer_call_fn, lstm_cell_layer_call_and_return_conditional_losses, lstm_cell_layer_call_fn, lstm_cell_layer_call_and_return_conditional_losses, lstm_cell_layer_call_and_return_conditional_losses while saving (showing 5 of 5). These functions will not be directly callable after loading.\n"
          ]
        },
        {
          "output_type": "stream",
          "name": "stdout",
          "text": [
            "INFO:tensorflow:Assets written to: /content/drive/MyDrive/RNN_memtrainsistor_ckpts/model_20220118205031_30/assets\n"
          ]
        },
        {
          "output_type": "stream",
          "name": "stderr",
          "text": [
            "INFO:tensorflow:Assets written to: /content/drive/MyDrive/RNN_memtrainsistor_ckpts/model_20220118205031_30/assets\n",
            "WARNING:absl:<keras.layers.recurrent.LSTMCell object at 0x7f52f40d2bd0> has the same name 'LSTMCell' as a built-in Keras object. Consider renaming <class 'keras.layers.recurrent.LSTMCell'> to avoid naming conflicts when loading with `tf.keras.models.load_model`. If renaming is not possible, pass the object in the `custom_objects` parameter of the load function.\n"
          ]
        },
        {
          "output_type": "stream",
          "name": "stdout",
          "text": [
            "Save results in file model_20220118205031_30 successfully!\n",
            "\n"
          ]
        }
      ]
    },
    {
      "cell_type": "code",
      "source": [
        "DEVICE_STATES = import_data_from_csv('/content/drive/MyDrive/learning_curve_vinod.csv')\n",
        "model, test_accuracy_ls_mem, train_accuracy_ls_mem = run_MLP_simulation(save_results_input=True,\n",
        "            num_epochs_input=10, \n",
        "            hardware_simulation_input=True, \n",
        "            device_states_input=DEVICE_STATES,\n",
        "            read_noise_mean_input=0,\n",
        "            read_noise_stddev_input=0.1,\n",
        "            device_variation_stddev_input=0.1,\n",
        "            device_stuck_on_prob_input=0,\n",
        "            device_stuck_off_prob_input=0)"
      ],
      "metadata": {
        "colab": {
          "base_uri": "https://localhost:8080/"
        },
        "id": "Yrp8UgA0hoik",
        "outputId": "d3829ab9-49a0-4a11-eaa8-4b8ce67609c5"
      },
      "execution_count": null,
      "outputs": [
        {
          "output_type": "stream",
          "name": "stdout",
          "text": [
            "Training the 0th epoch!\n",
            "391/391 [==============================] - 445s 1s/step - loss: 0.6525 - accuracy: 0.5634 - val_loss: 0.5316 - val_accuracy: 0.7292\n"
          ]
        },
        {
          "output_type": "stream",
          "name": "stderr",
          "text": [
            "WARNING:absl:Found untraced functions such as lstm_cell_4_layer_call_fn, lstm_cell_4_layer_call_and_return_conditional_losses, lstm_cell_4_layer_call_fn, lstm_cell_4_layer_call_and_return_conditional_losses, lstm_cell_4_layer_call_and_return_conditional_losses while saving (showing 5 of 5). These functions will not be directly callable after loading.\n"
          ]
        },
        {
          "output_type": "stream",
          "name": "stdout",
          "text": [
            "INFO:tensorflow:Assets written to: /content/drive/MyDrive/RNN_memtrainsistor_ckpts/model_20220114194254 10/assets\n"
          ]
        },
        {
          "output_type": "stream",
          "name": "stderr",
          "text": [
            "INFO:tensorflow:Assets written to: /content/drive/MyDrive/RNN_memtrainsistor_ckpts/model_20220114194254 10/assets\n",
            "WARNING:absl:<keras.layers.recurrent.LSTMCell object at 0x7fb514bdbb10> has the same name 'LSTMCell' as a built-in Keras object. Consider renaming <class 'keras.layers.recurrent.LSTMCell'> to avoid naming conflicts when loading with `tf.keras.models.load_model`. If renaming is not possible, pass the object in the `custom_objects` parameter of the load function.\n"
          ]
        },
        {
          "output_type": "stream",
          "name": "stdout",
          "text": [
            "Ssve results in file model_20220114194254 10 successfully!\n",
            "\n",
            "Training the 1th epoch!\n",
            "391/391 [==============================] - 437s 1s/step - loss: 0.6567 - accuracy: 0.5486 - val_loss: 0.5703 - val_accuracy: 0.6604\n"
          ]
        },
        {
          "output_type": "stream",
          "name": "stderr",
          "text": [
            "WARNING:absl:Found untraced functions such as lstm_cell_4_layer_call_fn, lstm_cell_4_layer_call_and_return_conditional_losses, lstm_cell_4_layer_call_fn, lstm_cell_4_layer_call_and_return_conditional_losses, lstm_cell_4_layer_call_and_return_conditional_losses while saving (showing 5 of 5). These functions will not be directly callable after loading.\n"
          ]
        },
        {
          "output_type": "stream",
          "name": "stdout",
          "text": [
            "INFO:tensorflow:Assets written to: /content/drive/MyDrive/RNN_memtrainsistor_ckpts/model_20220114194254 10/assets\n"
          ]
        },
        {
          "output_type": "stream",
          "name": "stderr",
          "text": [
            "INFO:tensorflow:Assets written to: /content/drive/MyDrive/RNN_memtrainsistor_ckpts/model_20220114194254 10/assets\n",
            "WARNING:absl:<keras.layers.recurrent.LSTMCell object at 0x7fb514bdbb10> has the same name 'LSTMCell' as a built-in Keras object. Consider renaming <class 'keras.layers.recurrent.LSTMCell'> to avoid naming conflicts when loading with `tf.keras.models.load_model`. If renaming is not possible, pass the object in the `custom_objects` parameter of the load function.\n"
          ]
        },
        {
          "output_type": "stream",
          "name": "stdout",
          "text": [
            "Ssve results in file model_20220114194254 10 successfully!\n",
            "\n",
            "Training the 2th epoch!\n",
            "391/391 [==============================] - 437s 1s/step - loss: 0.6047 - accuracy: 0.6386 - val_loss: 0.5472 - val_accuracy: 0.6875\n"
          ]
        },
        {
          "output_type": "stream",
          "name": "stderr",
          "text": [
            "WARNING:absl:Found untraced functions such as lstm_cell_4_layer_call_fn, lstm_cell_4_layer_call_and_return_conditional_losses, lstm_cell_4_layer_call_fn, lstm_cell_4_layer_call_and_return_conditional_losses, lstm_cell_4_layer_call_and_return_conditional_losses while saving (showing 5 of 5). These functions will not be directly callable after loading.\n"
          ]
        },
        {
          "output_type": "stream",
          "name": "stdout",
          "text": [
            "INFO:tensorflow:Assets written to: /content/drive/MyDrive/RNN_memtrainsistor_ckpts/model_20220114194254 10/assets\n"
          ]
        },
        {
          "output_type": "stream",
          "name": "stderr",
          "text": [
            "INFO:tensorflow:Assets written to: /content/drive/MyDrive/RNN_memtrainsistor_ckpts/model_20220114194254 10/assets\n",
            "WARNING:absl:<keras.layers.recurrent.LSTMCell object at 0x7fb514bdbb10> has the same name 'LSTMCell' as a built-in Keras object. Consider renaming <class 'keras.layers.recurrent.LSTMCell'> to avoid naming conflicts when loading with `tf.keras.models.load_model`. If renaming is not possible, pass the object in the `custom_objects` parameter of the load function.\n"
          ]
        },
        {
          "output_type": "stream",
          "name": "stdout",
          "text": [
            "Ssve results in file model_20220114194254 10 successfully!\n",
            "\n",
            "Training the 3th epoch!\n",
            "391/391 [==============================] - 445s 1s/step - loss: 0.6186 - accuracy: 0.6269 - val_loss: 0.5339 - val_accuracy: 0.7198\n"
          ]
        },
        {
          "output_type": "stream",
          "name": "stderr",
          "text": [
            "WARNING:absl:Found untraced functions such as lstm_cell_4_layer_call_fn, lstm_cell_4_layer_call_and_return_conditional_losses, lstm_cell_4_layer_call_fn, lstm_cell_4_layer_call_and_return_conditional_losses, lstm_cell_4_layer_call_and_return_conditional_losses while saving (showing 5 of 5). These functions will not be directly callable after loading.\n"
          ]
        },
        {
          "output_type": "stream",
          "name": "stdout",
          "text": [
            "INFO:tensorflow:Assets written to: /content/drive/MyDrive/RNN_memtrainsistor_ckpts/model_20220114194254 10/assets\n"
          ]
        },
        {
          "output_type": "stream",
          "name": "stderr",
          "text": [
            "INFO:tensorflow:Assets written to: /content/drive/MyDrive/RNN_memtrainsistor_ckpts/model_20220114194254 10/assets\n",
            "WARNING:absl:<keras.layers.recurrent.LSTMCell object at 0x7fb514bdbb10> has the same name 'LSTMCell' as a built-in Keras object. Consider renaming <class 'keras.layers.recurrent.LSTMCell'> to avoid naming conflicts when loading with `tf.keras.models.load_model`. If renaming is not possible, pass the object in the `custom_objects` parameter of the load function.\n"
          ]
        },
        {
          "output_type": "stream",
          "name": "stdout",
          "text": [
            "Ssve results in file model_20220114194254 10 successfully!\n",
            "\n",
            "Training the 4th epoch!\n",
            "391/391 [==============================] - 440s 1s/step - loss: 0.5942 - accuracy: 0.6770 - val_loss: 0.5599 - val_accuracy: 0.7042\n"
          ]
        },
        {
          "output_type": "stream",
          "name": "stderr",
          "text": [
            "WARNING:absl:Found untraced functions such as lstm_cell_4_layer_call_fn, lstm_cell_4_layer_call_and_return_conditional_losses, lstm_cell_4_layer_call_fn, lstm_cell_4_layer_call_and_return_conditional_losses, lstm_cell_4_layer_call_and_return_conditional_losses while saving (showing 5 of 5). These functions will not be directly callable after loading.\n"
          ]
        },
        {
          "output_type": "stream",
          "name": "stdout",
          "text": [
            "INFO:tensorflow:Assets written to: /content/drive/MyDrive/RNN_memtrainsistor_ckpts/model_20220114194254 10/assets\n"
          ]
        },
        {
          "output_type": "stream",
          "name": "stderr",
          "text": [
            "INFO:tensorflow:Assets written to: /content/drive/MyDrive/RNN_memtrainsistor_ckpts/model_20220114194254 10/assets\n",
            "WARNING:absl:<keras.layers.recurrent.LSTMCell object at 0x7fb514bdbb10> has the same name 'LSTMCell' as a built-in Keras object. Consider renaming <class 'keras.layers.recurrent.LSTMCell'> to avoid naming conflicts when loading with `tf.keras.models.load_model`. If renaming is not possible, pass the object in the `custom_objects` parameter of the load function.\n"
          ]
        },
        {
          "output_type": "stream",
          "name": "stdout",
          "text": [
            "Ssve results in file model_20220114194254 10 successfully!\n",
            "\n",
            "Training the 5th epoch!\n",
            "391/391 [==============================] - 439s 1s/step - loss: 0.6098 - accuracy: 0.6681 - val_loss: 0.5840 - val_accuracy: 0.6615\n"
          ]
        },
        {
          "output_type": "stream",
          "name": "stderr",
          "text": [
            "WARNING:absl:Found untraced functions such as lstm_cell_4_layer_call_fn, lstm_cell_4_layer_call_and_return_conditional_losses, lstm_cell_4_layer_call_fn, lstm_cell_4_layer_call_and_return_conditional_losses, lstm_cell_4_layer_call_and_return_conditional_losses while saving (showing 5 of 5). These functions will not be directly callable after loading.\n"
          ]
        },
        {
          "output_type": "stream",
          "name": "stdout",
          "text": [
            "INFO:tensorflow:Assets written to: /content/drive/MyDrive/RNN_memtrainsistor_ckpts/model_20220114194254 10/assets\n"
          ]
        },
        {
          "output_type": "stream",
          "name": "stderr",
          "text": [
            "INFO:tensorflow:Assets written to: /content/drive/MyDrive/RNN_memtrainsistor_ckpts/model_20220114194254 10/assets\n",
            "WARNING:absl:<keras.layers.recurrent.LSTMCell object at 0x7fb514bdbb10> has the same name 'LSTMCell' as a built-in Keras object. Consider renaming <class 'keras.layers.recurrent.LSTMCell'> to avoid naming conflicts when loading with `tf.keras.models.load_model`. If renaming is not possible, pass the object in the `custom_objects` parameter of the load function.\n"
          ]
        },
        {
          "output_type": "stream",
          "name": "stdout",
          "text": [
            "Ssve results in file model_20220114194254 10 successfully!\n",
            "\n",
            "Training the 6th epoch!\n",
            "391/391 [==============================] - 437s 1s/step - loss: 0.6307 - accuracy: 0.6410 - val_loss: 0.5953 - val_accuracy: 0.6646\n"
          ]
        },
        {
          "output_type": "stream",
          "name": "stderr",
          "text": [
            "WARNING:absl:Found untraced functions such as lstm_cell_4_layer_call_fn, lstm_cell_4_layer_call_and_return_conditional_losses, lstm_cell_4_layer_call_fn, lstm_cell_4_layer_call_and_return_conditional_losses, lstm_cell_4_layer_call_and_return_conditional_losses while saving (showing 5 of 5). These functions will not be directly callable after loading.\n"
          ]
        },
        {
          "output_type": "stream",
          "name": "stdout",
          "text": [
            "INFO:tensorflow:Assets written to: /content/drive/MyDrive/RNN_memtrainsistor_ckpts/model_20220114194254 10/assets\n"
          ]
        },
        {
          "output_type": "stream",
          "name": "stderr",
          "text": [
            "INFO:tensorflow:Assets written to: /content/drive/MyDrive/RNN_memtrainsistor_ckpts/model_20220114194254 10/assets\n",
            "WARNING:absl:<keras.layers.recurrent.LSTMCell object at 0x7fb514bdbb10> has the same name 'LSTMCell' as a built-in Keras object. Consider renaming <class 'keras.layers.recurrent.LSTMCell'> to avoid naming conflicts when loading with `tf.keras.models.load_model`. If renaming is not possible, pass the object in the `custom_objects` parameter of the load function.\n"
          ]
        },
        {
          "output_type": "stream",
          "name": "stdout",
          "text": [
            "Ssve results in file model_20220114194254 10 successfully!\n",
            "\n",
            "Training the 7th epoch!\n",
            "391/391 [==============================] - 438s 1s/step - loss: 0.6374 - accuracy: 0.6403 - val_loss: 0.6075 - val_accuracy: 0.6859\n"
          ]
        },
        {
          "output_type": "stream",
          "name": "stderr",
          "text": [
            "WARNING:absl:Found untraced functions such as lstm_cell_4_layer_call_fn, lstm_cell_4_layer_call_and_return_conditional_losses, lstm_cell_4_layer_call_fn, lstm_cell_4_layer_call_and_return_conditional_losses, lstm_cell_4_layer_call_and_return_conditional_losses while saving (showing 5 of 5). These functions will not be directly callable after loading.\n"
          ]
        },
        {
          "output_type": "stream",
          "name": "stdout",
          "text": [
            "INFO:tensorflow:Assets written to: /content/drive/MyDrive/RNN_memtrainsistor_ckpts/model_20220114194254 10/assets\n"
          ]
        },
        {
          "output_type": "stream",
          "name": "stderr",
          "text": [
            "INFO:tensorflow:Assets written to: /content/drive/MyDrive/RNN_memtrainsistor_ckpts/model_20220114194254 10/assets\n",
            "WARNING:absl:<keras.layers.recurrent.LSTMCell object at 0x7fb514bdbb10> has the same name 'LSTMCell' as a built-in Keras object. Consider renaming <class 'keras.layers.recurrent.LSTMCell'> to avoid naming conflicts when loading with `tf.keras.models.load_model`. If renaming is not possible, pass the object in the `custom_objects` parameter of the load function.\n"
          ]
        },
        {
          "output_type": "stream",
          "name": "stdout",
          "text": [
            "Ssve results in file model_20220114194254 10 successfully!\n",
            "\n",
            "Training the 8th epoch!\n",
            "391/391 [==============================] - 437s 1s/step - loss: 0.7056 - accuracy: 0.5786 - val_loss: 0.6753 - val_accuracy: 0.5615\n"
          ]
        },
        {
          "output_type": "stream",
          "name": "stderr",
          "text": [
            "WARNING:absl:Found untraced functions such as lstm_cell_4_layer_call_fn, lstm_cell_4_layer_call_and_return_conditional_losses, lstm_cell_4_layer_call_fn, lstm_cell_4_layer_call_and_return_conditional_losses, lstm_cell_4_layer_call_and_return_conditional_losses while saving (showing 5 of 5). These functions will not be directly callable after loading.\n"
          ]
        },
        {
          "output_type": "stream",
          "name": "stdout",
          "text": [
            "INFO:tensorflow:Assets written to: /content/drive/MyDrive/RNN_memtrainsistor_ckpts/model_20220114194254 10/assets\n"
          ]
        },
        {
          "output_type": "stream",
          "name": "stderr",
          "text": [
            "INFO:tensorflow:Assets written to: /content/drive/MyDrive/RNN_memtrainsistor_ckpts/model_20220114194254 10/assets\n",
            "WARNING:absl:<keras.layers.recurrent.LSTMCell object at 0x7fb514bdbb10> has the same name 'LSTMCell' as a built-in Keras object. Consider renaming <class 'keras.layers.recurrent.LSTMCell'> to avoid naming conflicts when loading with `tf.keras.models.load_model`. If renaming is not possible, pass the object in the `custom_objects` parameter of the load function.\n"
          ]
        },
        {
          "output_type": "stream",
          "name": "stdout",
          "text": [
            "Ssve results in file model_20220114194254 10 successfully!\n",
            "\n",
            "Training the 9th epoch!\n",
            "391/391 [==============================] - 436s 1s/step - loss: 0.6908 - accuracy: 0.5636 - val_loss: 0.6763 - val_accuracy: 0.5865\n"
          ]
        },
        {
          "output_type": "stream",
          "name": "stderr",
          "text": [
            "WARNING:absl:Found untraced functions such as lstm_cell_4_layer_call_fn, lstm_cell_4_layer_call_and_return_conditional_losses, lstm_cell_4_layer_call_fn, lstm_cell_4_layer_call_and_return_conditional_losses, lstm_cell_4_layer_call_and_return_conditional_losses while saving (showing 5 of 5). These functions will not be directly callable after loading.\n"
          ]
        },
        {
          "output_type": "stream",
          "name": "stdout",
          "text": [
            "INFO:tensorflow:Assets written to: /content/drive/MyDrive/RNN_memtrainsistor_ckpts/model_20220114194254 10/assets\n"
          ]
        },
        {
          "output_type": "stream",
          "name": "stderr",
          "text": [
            "INFO:tensorflow:Assets written to: /content/drive/MyDrive/RNN_memtrainsistor_ckpts/model_20220114194254 10/assets\n",
            "WARNING:absl:<keras.layers.recurrent.LSTMCell object at 0x7fb514bdbb10> has the same name 'LSTMCell' as a built-in Keras object. Consider renaming <class 'keras.layers.recurrent.LSTMCell'> to avoid naming conflicts when loading with `tf.keras.models.load_model`. If renaming is not possible, pass the object in the `custom_objects` parameter of the load function.\n"
          ]
        },
        {
          "output_type": "stream",
          "name": "stdout",
          "text": [
            "Ssve results in file model_20220114194254 10 successfully!\n",
            "\n"
          ]
        }
      ]
    },
    {
      "cell_type": "code",
      "source": [
        "plt.figure(figsize=(8, 6))\n",
        "plt.plot(np.arange(len(train_accuracy_ls_mem)), train_accuracy_ls_mem, label = 'train')\n",
        "plt.plot(np.arange(len(test_accuracy_ls_mem)), test_accuracy_ls_mem, label = 'test')\n",
        "plt.legend(fontsize=15)\n",
        "plt.xticks(fontsize=15)\n",
        "plt.yticks(fontsize=15)\n",
        "plt.xlabel(\"epoch\", fontsize=15)\n",
        "plt.ylabel(\"accuracy\", fontsize=15)\n",
        "plt.show()"
      ],
      "metadata": {
        "colab": {
          "base_uri": "https://localhost:8080/",
          "height": 398
        },
        "id": "LorDchqZEq4M",
        "outputId": "a424c80b-774f-4b85-fa11-bc760451e13e"
      },
      "execution_count": 6,
      "outputs": [
        {
          "output_type": "display_data",
          "data": {
            "image/png": "[encoded data removed]",
            "text/plain": [
              "<Figure size 576x432 with 1 Axes>"
            ]
          },
          "metadata": {
            "needs_background": "light"
          }
        }
      ]
    },
    {
      "cell_type": "code",
      "source": [
        "model, test_accuracy_ls, train_accuracy_ls = run_MLP_simulation(save_results_input=True,\n",
        "            num_epochs_input=20, \n",
        "            hardware_simulation_input=False, \n",
        "            device_states_input=DEVICE_STATES,\n",
        "            read_noise_mean_input=0,\n",
        "            read_noise_stddev_input=0.1,\n",
        "            device_variation_stddev_input=0.1,\n",
        "            device_stuck_on_prob_input=0,\n",
        "            device_stuck_off_prob_input=0)"
      ],
      "metadata": {
        "colab": {
          "base_uri": "https://localhost:8080/"
        },
        "id": "st8WnKpRZFiR",
        "outputId": "8537e051-adb4-4357-ba66-ea9c89041f8a"
      },
      "execution_count": null,
      "outputs": [
        {
          "output_type": "stream",
          "name": "stdout",
          "text": [
            "391/391 [==============================] - 437s 1s/step - loss: 0.6525 - accuracy: 0.5634 - val_loss: 0.5316 - val_accuracy: 0.7292\n"
          ]
        },
        {
          "output_type": "stream",
          "name": "stderr",
          "text": [
            "WARNING:absl:Found untraced functions such as lstm_cell_1_layer_call_fn, lstm_cell_1_layer_call_and_return_conditional_losses, lstm_cell_1_layer_call_fn, lstm_cell_1_layer_call_and_return_conditional_losses, lstm_cell_1_layer_call_and_return_conditional_losses while saving (showing 5 of 5). These functions will not be directly callable after loading.\n"
          ]
        },
        {
          "output_type": "stream",
          "name": "stdout",
          "text": [
            "INFO:tensorflow:Assets written to: /content/drive/MyDrive/RNN_memtrainsistor_ckpts/model_20220114164037 20/assets\n"
          ]
        },
        {
          "output_type": "stream",
          "name": "stderr",
          "text": [
            "INFO:tensorflow:Assets written to: /content/drive/MyDrive/RNN_memtrainsistor_ckpts/model_20220114164037 20/assets\n",
            "WARNING:absl:<keras.layers.recurrent.LSTMCell object at 0x7fb514f6b6d0> has the same name 'LSTMCell' as a built-in Keras object. Consider renaming <class 'keras.layers.recurrent.LSTMCell'> to avoid naming conflicts when loading with `tf.keras.models.load_model`. If renaming is not possible, pass the object in the `custom_objects` parameter of the load function.\n"
          ]
        },
        {
          "output_type": "stream",
          "name": "stdout",
          "text": [
            "391/391 [==============================] - 433s 1s/step - loss: 0.4437 - accuracy: 0.8015 - val_loss: 0.4076 - val_accuracy: 0.7995\n"
          ]
        },
        {
          "output_type": "stream",
          "name": "stderr",
          "text": [
            "WARNING:absl:Found untraced functions such as lstm_cell_1_layer_call_fn, lstm_cell_1_layer_call_and_return_conditional_losses, lstm_cell_1_layer_call_fn, lstm_cell_1_layer_call_and_return_conditional_losses, lstm_cell_1_layer_call_and_return_conditional_losses while saving (showing 5 of 5). These functions will not be directly callable after loading.\n"
          ]
        },
        {
          "output_type": "stream",
          "name": "stdout",
          "text": [
            "INFO:tensorflow:Assets written to: /content/drive/MyDrive/RNN_memtrainsistor_ckpts/model_20220114164037 20/assets\n"
          ]
        },
        {
          "output_type": "stream",
          "name": "stderr",
          "text": [
            "INFO:tensorflow:Assets written to: /content/drive/MyDrive/RNN_memtrainsistor_ckpts/model_20220114164037 20/assets\n",
            "WARNING:absl:<keras.layers.recurrent.LSTMCell object at 0x7fb514f6b6d0> has the same name 'LSTMCell' as a built-in Keras object. Consider renaming <class 'keras.layers.recurrent.LSTMCell'> to avoid naming conflicts when loading with `tf.keras.models.load_model`. If renaming is not possible, pass the object in the `custom_objects` parameter of the load function.\n"
          ]
        },
        {
          "output_type": "stream",
          "name": "stdout",
          "text": [
            "391/391 [==============================] - 434s 1s/step - loss: 0.3560 - accuracy: 0.8457 - val_loss: 0.3537 - val_accuracy: 0.8438\n"
          ]
        },
        {
          "output_type": "stream",
          "name": "stderr",
          "text": [
            "WARNING:absl:Found untraced functions such as lstm_cell_1_layer_call_fn, lstm_cell_1_layer_call_and_return_conditional_losses, lstm_cell_1_layer_call_fn, lstm_cell_1_layer_call_and_return_conditional_losses, lstm_cell_1_layer_call_and_return_conditional_losses while saving (showing 5 of 5). These functions will not be directly callable after loading.\n"
          ]
        },
        {
          "output_type": "stream",
          "name": "stdout",
          "text": [
            "INFO:tensorflow:Assets written to: /content/drive/MyDrive/RNN_memtrainsistor_ckpts/model_20220114164037 20/assets\n"
          ]
        },
        {
          "output_type": "stream",
          "name": "stderr",
          "text": [
            "INFO:tensorflow:Assets written to: /content/drive/MyDrive/RNN_memtrainsistor_ckpts/model_20220114164037 20/assets\n",
            "WARNING:absl:<keras.layers.recurrent.LSTMCell object at 0x7fb514f6b6d0> has the same name 'LSTMCell' as a built-in Keras object. Consider renaming <class 'keras.layers.recurrent.LSTMCell'> to avoid naming conflicts when loading with `tf.keras.models.load_model`. If renaming is not possible, pass the object in the `custom_objects` parameter of the load function.\n"
          ]
        },
        {
          "output_type": "stream",
          "name": "stdout",
          "text": [
            "391/391 [==============================] - 433s 1s/step - loss: 0.3300 - accuracy: 0.8606 - val_loss: 0.3462 - val_accuracy: 0.8505\n"
          ]
        },
        {
          "output_type": "stream",
          "name": "stderr",
          "text": [
            "WARNING:absl:Found untraced functions such as lstm_cell_1_layer_call_fn, lstm_cell_1_layer_call_and_return_conditional_losses, lstm_cell_1_layer_call_fn, lstm_cell_1_layer_call_and_return_conditional_losses, lstm_cell_1_layer_call_and_return_conditional_losses while saving (showing 5 of 5). These functions will not be directly callable after loading.\n"
          ]
        },
        {
          "output_type": "stream",
          "name": "stdout",
          "text": [
            "INFO:tensorflow:Assets written to: /content/drive/MyDrive/RNN_memtrainsistor_ckpts/model_20220114164037 20/assets\n"
          ]
        },
        {
          "output_type": "stream",
          "name": "stderr",
          "text": [
            "INFO:tensorflow:Assets written to: /content/drive/MyDrive/RNN_memtrainsistor_ckpts/model_20220114164037 20/assets\n",
            "WARNING:absl:<keras.layers.recurrent.LSTMCell object at 0x7fb514f6b6d0> has the same name 'LSTMCell' as a built-in Keras object. Consider renaming <class 'keras.layers.recurrent.LSTMCell'> to avoid naming conflicts when loading with `tf.keras.models.load_model`. If renaming is not possible, pass the object in the `custom_objects` parameter of the load function.\n"
          ]
        },
        {
          "output_type": "stream",
          "name": "stdout",
          "text": [
            "391/391 [==============================] - 438s 1s/step - loss: 0.3184 - accuracy: 0.8661 - val_loss: 0.3327 - val_accuracy: 0.8578\n"
          ]
        },
        {
          "output_type": "stream",
          "name": "stderr",
          "text": [
            "WARNING:absl:Found untraced functions such as lstm_cell_1_layer_call_fn, lstm_cell_1_layer_call_and_return_conditional_losses, lstm_cell_1_layer_call_fn, lstm_cell_1_layer_call_and_return_conditional_losses, lstm_cell_1_layer_call_and_return_conditional_losses while saving (showing 5 of 5). These functions will not be directly callable after loading.\n"
          ]
        },
        {
          "output_type": "stream",
          "name": "stdout",
          "text": [
            "INFO:tensorflow:Assets written to: /content/drive/MyDrive/RNN_memtrainsistor_ckpts/model_20220114164037 20/assets\n"
          ]
        },
        {
          "output_type": "stream",
          "name": "stderr",
          "text": [
            "INFO:tensorflow:Assets written to: /content/drive/MyDrive/RNN_memtrainsistor_ckpts/model_20220114164037 20/assets\n",
            "WARNING:absl:<keras.layers.recurrent.LSTMCell object at 0x7fb514f6b6d0> has the same name 'LSTMCell' as a built-in Keras object. Consider renaming <class 'keras.layers.recurrent.LSTMCell'> to avoid naming conflicts when loading with `tf.keras.models.load_model`. If renaming is not possible, pass the object in the `custom_objects` parameter of the load function.\n"
          ]
        },
        {
          "output_type": "stream",
          "name": "stdout",
          "text": [
            "391/391 [==============================] - 438s 1s/step - loss: 0.3131 - accuracy: 0.8680 - val_loss: 0.3364 - val_accuracy: 0.8490\n"
          ]
        },
        {
          "output_type": "stream",
          "name": "stderr",
          "text": [
            "WARNING:absl:Found untraced functions such as lstm_cell_1_layer_call_fn, lstm_cell_1_layer_call_and_return_conditional_losses, lstm_cell_1_layer_call_fn, lstm_cell_1_layer_call_and_return_conditional_losses, lstm_cell_1_layer_call_and_return_conditional_losses while saving (showing 5 of 5). These functions will not be directly callable after loading.\n"
          ]
        },
        {
          "output_type": "stream",
          "name": "stdout",
          "text": [
            "INFO:tensorflow:Assets written to: /content/drive/MyDrive/RNN_memtrainsistor_ckpts/model_20220114164037 20/assets\n"
          ]
        },
        {
          "output_type": "stream",
          "name": "stderr",
          "text": [
            "INFO:tensorflow:Assets written to: /content/drive/MyDrive/RNN_memtrainsistor_ckpts/model_20220114164037 20/assets\n",
            "WARNING:absl:<keras.layers.recurrent.LSTMCell object at 0x7fb514f6b6d0> has the same name 'LSTMCell' as a built-in Keras object. Consider renaming <class 'keras.layers.recurrent.LSTMCell'> to avoid naming conflicts when loading with `tf.keras.models.load_model`. If renaming is not possible, pass the object in the `custom_objects` parameter of the load function.\n"
          ]
        },
        {
          "output_type": "stream",
          "name": "stdout",
          "text": [
            "391/391 [==============================] - 440s 1s/step - loss: 0.3086 - accuracy: 0.8709 - val_loss: 0.3267 - val_accuracy: 0.8573\n"
          ]
        },
        {
          "output_type": "stream",
          "name": "stderr",
          "text": [
            "WARNING:absl:Found untraced functions such as lstm_cell_1_layer_call_fn, lstm_cell_1_layer_call_and_return_conditional_losses, lstm_cell_1_layer_call_fn, lstm_cell_1_layer_call_and_return_conditional_losses, lstm_cell_1_layer_call_and_return_conditional_losses while saving (showing 5 of 5). These functions will not be directly callable after loading.\n"
          ]
        },
        {
          "output_type": "stream",
          "name": "stdout",
          "text": [
            "INFO:tensorflow:Assets written to: /content/drive/MyDrive/RNN_memtrainsistor_ckpts/model_20220114164037 20/assets\n"
          ]
        },
        {
          "output_type": "stream",
          "name": "stderr",
          "text": [
            "INFO:tensorflow:Assets written to: /content/drive/MyDrive/RNN_memtrainsistor_ckpts/model_20220114164037 20/assets\n",
            "WARNING:absl:<keras.layers.recurrent.LSTMCell object at 0x7fb514f6b6d0> has the same name 'LSTMCell' as a built-in Keras object. Consider renaming <class 'keras.layers.recurrent.LSTMCell'> to avoid naming conflicts when loading with `tf.keras.models.load_model`. If renaming is not possible, pass the object in the `custom_objects` parameter of the load function.\n"
          ]
        },
        {
          "output_type": "stream",
          "name": "stdout",
          "text": [
            "391/391 [==============================] - 434s 1s/step - loss: 0.3075 - accuracy: 0.8716 - val_loss: 0.3283 - val_accuracy: 0.8573\n"
          ]
        },
        {
          "output_type": "stream",
          "name": "stderr",
          "text": [
            "WARNING:absl:Found untraced functions such as lstm_cell_1_layer_call_fn, lstm_cell_1_layer_call_and_return_conditional_losses, lstm_cell_1_layer_call_fn, lstm_cell_1_layer_call_and_return_conditional_losses, lstm_cell_1_layer_call_and_return_conditional_losses while saving (showing 5 of 5). These functions will not be directly callable after loading.\n"
          ]
        },
        {
          "output_type": "stream",
          "name": "stdout",
          "text": [
            "INFO:tensorflow:Assets written to: /content/drive/MyDrive/RNN_memtrainsistor_ckpts/model_20220114164037 20/assets\n"
          ]
        },
        {
          "output_type": "stream",
          "name": "stderr",
          "text": [
            "INFO:tensorflow:Assets written to: /content/drive/MyDrive/RNN_memtrainsistor_ckpts/model_20220114164037 20/assets\n",
            "WARNING:absl:<keras.layers.recurrent.LSTMCell object at 0x7fb514f6b6d0> has the same name 'LSTMCell' as a built-in Keras object. Consider renaming <class 'keras.layers.recurrent.LSTMCell'> to avoid naming conflicts when loading with `tf.keras.models.load_model`. If renaming is not possible, pass the object in the `custom_objects` parameter of the load function.\n"
          ]
        },
        {
          "output_type": "stream",
          "name": "stdout",
          "text": [
            "391/391 [==============================] - 441s 1s/step - loss: 0.3055 - accuracy: 0.8717 - val_loss: 0.3300 - val_accuracy: 0.8604\n"
          ]
        },
        {
          "output_type": "stream",
          "name": "stderr",
          "text": [
            "WARNING:absl:Found untraced functions such as lstm_cell_1_layer_call_fn, lstm_cell_1_layer_call_and_return_conditional_losses, lstm_cell_1_layer_call_fn, lstm_cell_1_layer_call_and_return_conditional_losses, lstm_cell_1_layer_call_and_return_conditional_losses while saving (showing 5 of 5). These functions will not be directly callable after loading.\n"
          ]
        },
        {
          "output_type": "stream",
          "name": "stdout",
          "text": [
            "INFO:tensorflow:Assets written to: /content/drive/MyDrive/RNN_memtrainsistor_ckpts/model_20220114164037 20/assets\n"
          ]
        },
        {
          "output_type": "stream",
          "name": "stderr",
          "text": [
            "INFO:tensorflow:Assets written to: /content/drive/MyDrive/RNN_memtrainsistor_ckpts/model_20220114164037 20/assets\n",
            "WARNING:absl:<keras.layers.recurrent.LSTMCell object at 0x7fb514f6b6d0> has the same name 'LSTMCell' as a built-in Keras object. Consider renaming <class 'keras.layers.recurrent.LSTMCell'> to avoid naming conflicts when loading with `tf.keras.models.load_model`. If renaming is not possible, pass the object in the `custom_objects` parameter of the load function.\n"
          ]
        },
        {
          "output_type": "stream",
          "name": "stdout",
          "text": [
            "391/391 [==============================] - 443s 1s/step - loss: 0.3034 - accuracy: 0.8735 - val_loss: 0.3274 - val_accuracy: 0.8604\n"
          ]
        },
        {
          "output_type": "stream",
          "name": "stderr",
          "text": [
            "WARNING:absl:Found untraced functions such as lstm_cell_1_layer_call_fn, lstm_cell_1_layer_call_and_return_conditional_losses, lstm_cell_1_layer_call_fn, lstm_cell_1_layer_call_and_return_conditional_losses, lstm_cell_1_layer_call_and_return_conditional_losses while saving (showing 5 of 5). These functions will not be directly callable after loading.\n"
          ]
        },
        {
          "output_type": "stream",
          "name": "stdout",
          "text": [
            "INFO:tensorflow:Assets written to: /content/drive/MyDrive/RNN_memtrainsistor_ckpts/model_20220114164037 20/assets\n"
          ]
        },
        {
          "output_type": "stream",
          "name": "stderr",
          "text": [
            "INFO:tensorflow:Assets written to: /content/drive/MyDrive/RNN_memtrainsistor_ckpts/model_20220114164037 20/assets\n",
            "WARNING:absl:<keras.layers.recurrent.LSTMCell object at 0x7fb514f6b6d0> has the same name 'LSTMCell' as a built-in Keras object. Consider renaming <class 'keras.layers.recurrent.LSTMCell'> to avoid naming conflicts when loading with `tf.keras.models.load_model`. If renaming is not possible, pass the object in the `custom_objects` parameter of the load function.\n"
          ]
        },
        {
          "output_type": "stream",
          "name": "stdout",
          "text": [
            "391/391 [==============================] - 444s 1s/step - loss: 0.3047 - accuracy: 0.8732 - val_loss: 0.3251 - val_accuracy: 0.8589\n"
          ]
        },
        {
          "output_type": "stream",
          "name": "stderr",
          "text": [
            "WARNING:absl:Found untraced functions such as lstm_cell_1_layer_call_fn, lstm_cell_1_layer_call_and_return_conditional_losses, lstm_cell_1_layer_call_fn, lstm_cell_1_layer_call_and_return_conditional_losses, lstm_cell_1_layer_call_and_return_conditional_losses while saving (showing 5 of 5). These functions will not be directly callable after loading.\n"
          ]
        },
        {
          "output_type": "stream",
          "name": "stdout",
          "text": [
            "INFO:tensorflow:Assets written to: /content/drive/MyDrive/RNN_memtrainsistor_ckpts/model_20220114164037 20/assets\n"
          ]
        },
        {
          "output_type": "stream",
          "name": "stderr",
          "text": [
            "INFO:tensorflow:Assets written to: /content/drive/MyDrive/RNN_memtrainsistor_ckpts/model_20220114164037 20/assets\n",
            "WARNING:absl:<keras.layers.recurrent.LSTMCell object at 0x7fb514f6b6d0> has the same name 'LSTMCell' as a built-in Keras object. Consider renaming <class 'keras.layers.recurrent.LSTMCell'> to avoid naming conflicts when loading with `tf.keras.models.load_model`. If renaming is not possible, pass the object in the `custom_objects` parameter of the load function.\n"
          ]
        },
        {
          "output_type": "stream",
          "name": "stdout",
          "text": [
            "391/391 [==============================] - 439s 1s/step - loss: 0.3012 - accuracy: 0.8742 - val_loss: 0.3273 - val_accuracy: 0.8604\n"
          ]
        },
        {
          "output_type": "stream",
          "name": "stderr",
          "text": [
            "WARNING:absl:Found untraced functions such as lstm_cell_1_layer_call_fn, lstm_cell_1_layer_call_and_return_conditional_losses, lstm_cell_1_layer_call_fn, lstm_cell_1_layer_call_and_return_conditional_losses, lstm_cell_1_layer_call_and_return_conditional_losses while saving (showing 5 of 5). These functions will not be directly callable after loading.\n"
          ]
        },
        {
          "output_type": "stream",
          "name": "stdout",
          "text": [
            "INFO:tensorflow:Assets written to: /content/drive/MyDrive/RNN_memtrainsistor_ckpts/model_20220114164037 20/assets\n"
          ]
        },
        {
          "output_type": "stream",
          "name": "stderr",
          "text": [
            "INFO:tensorflow:Assets written to: /content/drive/MyDrive/RNN_memtrainsistor_ckpts/model_20220114164037 20/assets\n",
            "WARNING:absl:<keras.layers.recurrent.LSTMCell object at 0x7fb514f6b6d0> has the same name 'LSTMCell' as a built-in Keras object. Consider renaming <class 'keras.layers.recurrent.LSTMCell'> to avoid naming conflicts when loading with `tf.keras.models.load_model`. If renaming is not possible, pass the object in the `custom_objects` parameter of the load function.\n"
          ]
        },
        {
          "output_type": "stream",
          "name": "stdout",
          "text": [
            "391/391 [==============================] - 444s 1s/step - loss: 0.2994 - accuracy: 0.8763 - val_loss: 0.3260 - val_accuracy: 0.8568\n"
          ]
        },
        {
          "output_type": "stream",
          "name": "stderr",
          "text": [
            "WARNING:absl:Found untraced functions such as lstm_cell_1_layer_call_fn, lstm_cell_1_layer_call_and_return_conditional_losses, lstm_cell_1_layer_call_fn, lstm_cell_1_layer_call_and_return_conditional_losses, lstm_cell_1_layer_call_and_return_conditional_losses while saving (showing 5 of 5). These functions will not be directly callable after loading.\n"
          ]
        },
        {
          "output_type": "stream",
          "name": "stdout",
          "text": [
            "INFO:tensorflow:Assets written to: /content/drive/MyDrive/RNN_memtrainsistor_ckpts/model_20220114164037 20/assets\n"
          ]
        },
        {
          "output_type": "stream",
          "name": "stderr",
          "text": [
            "INFO:tensorflow:Assets written to: /content/drive/MyDrive/RNN_memtrainsistor_ckpts/model_20220114164037 20/assets\n",
            "WARNING:absl:<keras.layers.recurrent.LSTMCell object at 0x7fb514f6b6d0> has the same name 'LSTMCell' as a built-in Keras object. Consider renaming <class 'keras.layers.recurrent.LSTMCell'> to avoid naming conflicts when loading with `tf.keras.models.load_model`. If renaming is not possible, pass the object in the `custom_objects` parameter of the load function.\n"
          ]
        },
        {
          "output_type": "stream",
          "name": "stdout",
          "text": [
            "391/391 [==============================] - 446s 1s/step - loss: 0.2997 - accuracy: 0.8745 - val_loss: 0.3215 - val_accuracy: 0.8620\n"
          ]
        },
        {
          "output_type": "stream",
          "name": "stderr",
          "text": [
            "WARNING:absl:Found untraced functions such as lstm_cell_1_layer_call_fn, lstm_cell_1_layer_call_and_return_conditional_losses, lstm_cell_1_layer_call_fn, lstm_cell_1_layer_call_and_return_conditional_losses, lstm_cell_1_layer_call_and_return_conditional_losses while saving (showing 5 of 5). These functions will not be directly callable after loading.\n"
          ]
        },
        {
          "output_type": "stream",
          "name": "stdout",
          "text": [
            "INFO:tensorflow:Assets written to: /content/drive/MyDrive/RNN_memtrainsistor_ckpts/model_20220114164037 20/assets\n"
          ]
        },
        {
          "output_type": "stream",
          "name": "stderr",
          "text": [
            "INFO:tensorflow:Assets written to: /content/drive/MyDrive/RNN_memtrainsistor_ckpts/model_20220114164037 20/assets\n",
            "WARNING:absl:<keras.layers.recurrent.LSTMCell object at 0x7fb514f6b6d0> has the same name 'LSTMCell' as a built-in Keras object. Consider renaming <class 'keras.layers.recurrent.LSTMCell'> to avoid naming conflicts when loading with `tf.keras.models.load_model`. If renaming is not possible, pass the object in the `custom_objects` parameter of the load function.\n"
          ]
        },
        {
          "output_type": "stream",
          "name": "stdout",
          "text": [
            "391/391 [==============================] - 441s 1s/step - loss: 0.2979 - accuracy: 0.8764 - val_loss: 0.3384 - val_accuracy: 0.8552\n"
          ]
        },
        {
          "output_type": "stream",
          "name": "stderr",
          "text": [
            "WARNING:absl:Found untraced functions such as lstm_cell_1_layer_call_fn, lstm_cell_1_layer_call_and_return_conditional_losses, lstm_cell_1_layer_call_fn, lstm_cell_1_layer_call_and_return_conditional_losses, lstm_cell_1_layer_call_and_return_conditional_losses while saving (showing 5 of 5). These functions will not be directly callable after loading.\n"
          ]
        },
        {
          "output_type": "stream",
          "name": "stdout",
          "text": [
            "INFO:tensorflow:Assets written to: /content/drive/MyDrive/RNN_memtrainsistor_ckpts/model_20220114164037 20/assets\n"
          ]
        },
        {
          "output_type": "stream",
          "name": "stderr",
          "text": [
            "INFO:tensorflow:Assets written to: /content/drive/MyDrive/RNN_memtrainsistor_ckpts/model_20220114164037 20/assets\n",
            "WARNING:absl:<keras.layers.recurrent.LSTMCell object at 0x7fb514f6b6d0> has the same name 'LSTMCell' as a built-in Keras object. Consider renaming <class 'keras.layers.recurrent.LSTMCell'> to avoid naming conflicts when loading with `tf.keras.models.load_model`. If renaming is not possible, pass the object in the `custom_objects` parameter of the load function.\n"
          ]
        },
        {
          "output_type": "stream",
          "name": "stdout",
          "text": [
            "391/391 [==============================] - 439s 1s/step - loss: 0.2980 - accuracy: 0.8759 - val_loss: 0.3266 - val_accuracy: 0.8620\n"
          ]
        },
        {
          "output_type": "stream",
          "name": "stderr",
          "text": [
            "WARNING:absl:Found untraced functions such as lstm_cell_1_layer_call_fn, lstm_cell_1_layer_call_and_return_conditional_losses, lstm_cell_1_layer_call_fn, lstm_cell_1_layer_call_and_return_conditional_losses, lstm_cell_1_layer_call_and_return_conditional_losses while saving (showing 5 of 5). These functions will not be directly callable after loading.\n"
          ]
        },
        {
          "output_type": "stream",
          "name": "stdout",
          "text": [
            "INFO:tensorflow:Assets written to: /content/drive/MyDrive/RNN_memtrainsistor_ckpts/model_20220114164037 20/assets\n"
          ]
        },
        {
          "output_type": "stream",
          "name": "stderr",
          "text": [
            "INFO:tensorflow:Assets written to: /content/drive/MyDrive/RNN_memtrainsistor_ckpts/model_20220114164037 20/assets\n",
            "WARNING:absl:<keras.layers.recurrent.LSTMCell object at 0x7fb514f6b6d0> has the same name 'LSTMCell' as a built-in Keras object. Consider renaming <class 'keras.layers.recurrent.LSTMCell'> to avoid naming conflicts when loading with `tf.keras.models.load_model`. If renaming is not possible, pass the object in the `custom_objects` parameter of the load function.\n"
          ]
        },
        {
          "output_type": "stream",
          "name": "stdout",
          "text": [
            "391/391 [==============================] - 435s 1s/step - loss: 0.2969 - accuracy: 0.8776 - val_loss: 0.3216 - val_accuracy: 0.8604\n"
          ]
        },
        {
          "output_type": "stream",
          "name": "stderr",
          "text": [
            "WARNING:absl:Found untraced functions such as lstm_cell_1_layer_call_fn, lstm_cell_1_layer_call_and_return_conditional_losses, lstm_cell_1_layer_call_fn, lstm_cell_1_layer_call_and_return_conditional_losses, lstm_cell_1_layer_call_and_return_conditional_losses while saving (showing 5 of 5). These functions will not be directly callable after loading.\n"
          ]
        },
        {
          "output_type": "stream",
          "name": "stdout",
          "text": [
            "INFO:tensorflow:Assets written to: /content/drive/MyDrive/RNN_memtrainsistor_ckpts/model_20220114164037 20/assets\n"
          ]
        },
        {
          "output_type": "stream",
          "name": "stderr",
          "text": [
            "INFO:tensorflow:Assets written to: /content/drive/MyDrive/RNN_memtrainsistor_ckpts/model_20220114164037 20/assets\n",
            "WARNING:absl:<keras.layers.recurrent.LSTMCell object at 0x7fb514f6b6d0> has the same name 'LSTMCell' as a built-in Keras object. Consider renaming <class 'keras.layers.recurrent.LSTMCell'> to avoid naming conflicts when loading with `tf.keras.models.load_model`. If renaming is not possible, pass the object in the `custom_objects` parameter of the load function.\n"
          ]
        },
        {
          "output_type": "stream",
          "name": "stdout",
          "text": [
            "391/391 [==============================] - 442s 1s/step - loss: 0.2930 - accuracy: 0.8775 - val_loss: 0.3242 - val_accuracy: 0.8620\n"
          ]
        },
        {
          "output_type": "stream",
          "name": "stderr",
          "text": [
            "WARNING:absl:Found untraced functions such as lstm_cell_1_layer_call_fn, lstm_cell_1_layer_call_and_return_conditional_losses, lstm_cell_1_layer_call_fn, lstm_cell_1_layer_call_and_return_conditional_losses, lstm_cell_1_layer_call_and_return_conditional_losses while saving (showing 5 of 5). These functions will not be directly callable after loading.\n"
          ]
        },
        {
          "output_type": "stream",
          "name": "stdout",
          "text": [
            "INFO:tensorflow:Assets written to: /content/drive/MyDrive/RNN_memtrainsistor_ckpts/model_20220114164037 20/assets\n"
          ]
        },
        {
          "output_type": "stream",
          "name": "stderr",
          "text": [
            "INFO:tensorflow:Assets written to: /content/drive/MyDrive/RNN_memtrainsistor_ckpts/model_20220114164037 20/assets\n",
            "WARNING:absl:<keras.layers.recurrent.LSTMCell object at 0x7fb514f6b6d0> has the same name 'LSTMCell' as a built-in Keras object. Consider renaming <class 'keras.layers.recurrent.LSTMCell'> to avoid naming conflicts when loading with `tf.keras.models.load_model`. If renaming is not possible, pass the object in the `custom_objects` parameter of the load function.\n"
          ]
        },
        {
          "output_type": "stream",
          "name": "stdout",
          "text": [
            "391/391 [==============================] - 437s 1s/step - loss: 0.2946 - accuracy: 0.8775 - val_loss: 0.3203 - val_accuracy: 0.8609\n"
          ]
        },
        {
          "output_type": "stream",
          "name": "stderr",
          "text": [
            "WARNING:absl:Found untraced functions such as lstm_cell_1_layer_call_fn, lstm_cell_1_layer_call_and_return_conditional_losses, lstm_cell_1_layer_call_fn, lstm_cell_1_layer_call_and_return_conditional_losses, lstm_cell_1_layer_call_and_return_conditional_losses while saving (showing 5 of 5). These functions will not be directly callable after loading.\n"
          ]
        },
        {
          "output_type": "stream",
          "name": "stdout",
          "text": [
            "INFO:tensorflow:Assets written to: /content/drive/MyDrive/RNN_memtrainsistor_ckpts/model_20220114164037 20/assets\n"
          ]
        },
        {
          "output_type": "stream",
          "name": "stderr",
          "text": [
            "INFO:tensorflow:Assets written to: /content/drive/MyDrive/RNN_memtrainsistor_ckpts/model_20220114164037 20/assets\n",
            "WARNING:absl:<keras.layers.recurrent.LSTMCell object at 0x7fb514f6b6d0> has the same name 'LSTMCell' as a built-in Keras object. Consider renaming <class 'keras.layers.recurrent.LSTMCell'> to avoid naming conflicts when loading with `tf.keras.models.load_model`. If renaming is not possible, pass the object in the `custom_objects` parameter of the load function.\n"
          ]
        },
        {
          "output_type": "stream",
          "name": "stdout",
          "text": [
            "391/391 [==============================] - 446s 1s/step - loss: 0.2887 - accuracy: 0.8792 - val_loss: 0.3250 - val_accuracy: 0.8562\n"
          ]
        },
        {
          "output_type": "stream",
          "name": "stderr",
          "text": [
            "WARNING:absl:Found untraced functions such as lstm_cell_1_layer_call_fn, lstm_cell_1_layer_call_and_return_conditional_losses, lstm_cell_1_layer_call_fn, lstm_cell_1_layer_call_and_return_conditional_losses, lstm_cell_1_layer_call_and_return_conditional_losses while saving (showing 5 of 5). These functions will not be directly callable after loading.\n"
          ]
        },
        {
          "output_type": "stream",
          "name": "stdout",
          "text": [
            "INFO:tensorflow:Assets written to: /content/drive/MyDrive/RNN_memtrainsistor_ckpts/model_20220114164037 20/assets\n"
          ]
        },
        {
          "output_type": "stream",
          "name": "stderr",
          "text": [
            "INFO:tensorflow:Assets written to: /content/drive/MyDrive/RNN_memtrainsistor_ckpts/model_20220114164037 20/assets\n",
            "WARNING:absl:<keras.layers.recurrent.LSTMCell object at 0x7fb514f6b6d0> has the same name 'LSTMCell' as a built-in Keras object. Consider renaming <class 'keras.layers.recurrent.LSTMCell'> to avoid naming conflicts when loading with `tf.keras.models.load_model`. If renaming is not possible, pass the object in the `custom_objects` parameter of the load function.\n"
          ]
        }
      ]
    },
    {
      "cell_type": "code",
      "source": [
        "plt.figure(figsize=(8, 6))\n",
        "plt.plot(np.arange(len(train_accuracy_ls)), train_accuracy_ls, label = 'train')\n",
        "plt.plot(np.arange(len(test_accuracy_ls)), test_accuracy_ls, label = 'test')\n",
        "plt.legend(fontsize=15)\n",
        "plt.xticks(fontsize=15)\n",
        "plt.yticks(fontsize=15)\n",
        "plt.xlabel(\"epoch\", fontsize=15)\n",
        "plt.ylabel(\"accuracy\", fontsize=15)\n",
        "plt.show()"
      ],
      "metadata": {
        "colab": {
          "base_uri": "https://localhost:8080/",
          "height": 398
        },
        "id": "PfkIJI6uCmfs",
        "outputId": "7e4d1dd9-e819-446a-a6be-81e90534fb46"
      },
      "execution_count": null,
      "outputs": [
        {
          "output_type": "display_data",
          "data": {
            "image/png": "[encoded data removed]",
            "text/plain": [
              "<Figure size 576x432 with 1 Axes>"
            ]
          },
          "metadata": {
            "needs_background": "light"
          }
        }
      ]
    },
    {
      "cell_type": "code",
      "source": [
        "np.arange(3)"
      ],
      "metadata": {
        "colab": {
          "base_uri": "https://localhost:8080/"
        },
        "id": "tbVqrpqdCzyY",
        "outputId": "0eedc1c4-9d5d-4fb4-cad8-05f4b8adabf0"
      },
      "execution_count": null,
      "outputs": [
        {
          "output_type": "execute_result",
          "data": {
            "text/plain": [
              "array([0, 1, 2])"
            ]
          },
          "metadata": {},
          "execution_count": 11
        }
      ]
    },
    {
      "cell_type": "code",
      "source": [
        "DEVICE_STATES = import_data_from_csv('learning_curve_vinod.csv')\n",
        "try:\n",
        "  model = tf.keras.models.load_model('saved_model/my_model')\n",
        "except:\n",
        "  model = run_MLP_simulation(save_results_input=True,\n",
        "            num_epochs_input=3, \n",
        "            hardware_simulation_input=True, \n",
        "            device_states_input=DEVICE_STATES,\n",
        "            read_noise_mean_input=0,\n",
        "            read_noise_stddev_input=0.1,\n",
        "            device_variation_stddev_input=0.1,\n",
        "            device_stuck_on_prob_input=0,\n",
        "            device_stuck_off_prob_input=0)"
      ],
      "metadata": {
        "colab": {
          "base_uri": "https://localhost:8080/"
        },
        "id": "O-6cQ9l3S3kv",
        "outputId": "baf2887b-2433-4ec0-86bf-8f96ad733886"
      },
      "execution_count": null,
      "outputs": [
        {
          "output_type": "stream",
          "name": "stdout",
          "text": [
            "391/391 [==============================] - 296s 747ms/step - loss: 0.6603 - accuracy: 0.5478 - val_loss: 0.5484 - val_accuracy: 0.7094\n",
            "391/391 [==============================] - 291s 743ms/step - loss: 0.6704 - accuracy: 0.5240 - val_loss: 0.6383 - val_accuracy: 0.5651\n",
            "391/391 [==============================] - 290s 740ms/step - loss: 0.6189 - accuracy: 0.6175 - val_loss: 0.5749 - val_accuracy: 0.6604\n"
          ]
        }
      ]
    },
    {
      "cell_type": "code",
      "source": [
        "DEVICE_STATES = import_data_from_csv('learning_curve_vinod.csv')\n",
        "for i in range(5):\n",
        "  model = run_MLP_simulation(save_results_input=False,\n",
        "            num_epochs_input=1, \n",
        "            hardware_simulation_input=True, \n",
        "            device_states_input=DEVICE_STATES,\n",
        "            read_noise_mean_input=0,\n",
        "            read_noise_stddev_input=0.1,\n",
        "            device_variation_stddev_input=0.1,\n",
        "            device_stuck_on_prob_input=0,\n",
        "            device_stuck_off_prob_input=0)"
      ],
      "metadata": {
        "id": "zBsAhjD_T8e0"
      },
      "execution_count": null,
      "outputs": []
    },
    {
      "cell_type": "markdown",
      "source": [
        "###**Old codes for CV**"
      ],
      "metadata": {
        "id": "YHjCoGUOGfpo"
      }
    },
    {
      "cell_type": "code",
      "metadata": {
        "id": "3xDlMT8Cjtmj"
      },
      "source": [
        "# need to upgrade to tf 2.7.0\n",
        "\n",
        "def run_MLP_simulation(save_results_input = False,\n",
        "                       num_epochs_input=50, \n",
        "                       hardware_simulation_input=False, \n",
        "                       device_states_input=False,\n",
        "                       read_noise_mean_input=0,\n",
        "                       read_noise_stddev_input=0,\n",
        "                       device_variation_stddev_input=0,\n",
        "                       device_stuck_on_prob_input=0,\n",
        "                       device_stuck_off_prob_input=0):\n",
        "    \n",
        "    \n",
        "    tf.compat.v1.disable_v2_behavior() # disable v2 behavior\n",
        "    \n",
        "    ###################### USER DEFINED PARAMETERS FOR SIMULATION\n",
        "    # whether or not to save results\n",
        "    SAVE_RESULTS = save_results_input\n",
        "    \n",
        "    # number of epochs to test\n",
        "    NUM_EPOCHS = num_epochs_input\n",
        "\n",
        "    # flag which determines whether this is a hardware simulation or purely software\n",
        "    HARDWARE_SIMULATION = hardware_simulation_input\n",
        "\n",
        "    # parameter set by user that gives all the possible normalized weight states\n",
        "    # assumes (1) discrete number of states that are normalized \n",
        "    #         (2) states are set by two synaptic devices such that weight = weight_p - weight_m\n",
        "    #         (3) because of (2), weights can vary from [-1,1]\n",
        "    # user input = a 1D numpy array with values from [-1, 1]\n",
        "    DEVICE_STATES = device_states_input\n",
        "\n",
        "\n",
        "    # parameters for simulating read noise\n",
        "    # user input = read noise mean and standard dev assuming a normal noise function\n",
        "    READ_NOISE_MEAN = read_noise_mean_input\n",
        "    READ_NOISE_STDDEV = read_noise_stddev_input\n",
        "\n",
        "    # parameter for simulating device-to-device variation\n",
        "    # user input =  standard deviation of conductances\n",
        "    DEVICE_VARIATION_STDDEV = device_variation_stddev_input\n",
        "\n",
        "    # parameter for simulating devices that get stuck on Gmax or Gmin states from the start\n",
        "    # user input = probability for a device to get stuck\n",
        "    # What is G?\n",
        "    DEVICE_STUCK_ON_PROB = device_stuck_on_prob_input\n",
        "    DEVICE_STUCK_OFF_PROB = device_stuck_off_prob_input\n",
        "\n",
        "    \n",
        "    \n",
        "    ###################### SIM PARAMETERS\n",
        "    n_inputs = 28*28  # MNIST\n",
        "    n_hidden1 = 300 # neurons in 1st hidden layers\n",
        "    n_outputs = 10 # neurons in output layer\n",
        "    learning_rate = 0.1#0.01 # grad descent\n",
        "    initializer_stddev = 0.2 # standar deviation of initialized random weights\n",
        "    n_epochs = NUM_EPOCHS # number of epochs to test\n",
        "    batch_size = 50 # batch size before tuning weights in grad descent\n",
        "\n",
        "    # What are the possible values of DEVICE_STATES?\n",
        "    g_min_value = np.min(np.abs(DEVICE_STATES))\n",
        "    g_max_value = np.max(np.abs(DEVICE_STATES))\n",
        "    \n",
        "    \n",
        "    \n",
        "    \n",
        "    ###################### FUNCTIONS\n",
        "\n",
        "    # to make this notebook's output stable across runs\n",
        "    def reset_graph(seed=42):\n",
        "        #tf.reset_default_graph() # Why reset_default_graph()? helpful in testing process?\n",
        "        tf.compat.v1.reset_default_graph\n",
        "        tf.compat.v1.set_random_seed(seed)\n",
        "        np.random.seed(seed)\n",
        "\n",
        "    # will create matrix to simulate device-to-device variation by creating clipping the weights\n",
        "    # will also simulate devices being stuck-on-open and stuck-on-close \n",
        "    # What is wp, wm, and how do them relate to g?\n",
        "    def initialize_variation_stuck_mat(shape):\n",
        "\n",
        "        # VARIATION\n",
        "        wp_max = np.ones(shape=shape) - np.abs(np.random.normal(0, DEVICE_VARIATION_STDDEV, shape)) # max. is around 1\n",
        "        wp_min = np.zeros(shape=shape) + np.abs(np.random.normal(0, DEVICE_VARIATION_STDDEV, shape)) # min. is around 0\n",
        "\n",
        "        wm_max = np.ones(shape=shape) - np.abs(np.random.normal(0, DEVICE_VARIATION_STDDEV, shape)) # max. is around 1\n",
        "        wm_min = np.zeros(shape=shape) + np.abs(np.random.normal(0, DEVICE_VARIATION_STDDEV, shape)) # min. is around 0\n",
        "\n",
        "        # STUCK\n",
        "        stuck_prob = [DEVICE_STUCK_OFF_PROB, 1 - DEVICE_STUCK_ON_PROB - DEVICE_STUCK_OFF_PROB, DEVICE_STUCK_ON_PROB]\n",
        "        w_p_stuck = np.random.choice([-1, 0, 1], size=shape, p=stuck_prob)\n",
        "        w_m_stuck = np.random.choice([-1, 0, 1], size=shape, p=stuck_prob)\n",
        "\n",
        "        # if device is stuck OFF\n",
        "        wp_max = wp_max + (w_p_stuck == -1) * (wp_min - wp_max)\n",
        "        wm_max = wm_max + (w_m_stuck == -1) * (wm_min - wm_max)\n",
        "\n",
        "        # if device is stuck ON\n",
        "        wp_min = wp_min + (w_p_stuck == 1) * (wp_max - wp_min)\n",
        "        wm_min = wm_min + (w_m_stuck == 1) * (wm_max - wm_min)\n",
        "\n",
        "\n",
        "        # PUTTING TOGETHER CLIPPING MATRIX\n",
        "        lower_lim = np.clip(wp_min - wm_max, -g_max_value, -g_min_value)\n",
        "        upper_lim = np.clip(wp_max - wm_min, g_min_value, g_max_value)\n",
        "\n",
        "        print('Lower lim: ' + str(lower_lim))\n",
        "        print('Upper lim: ' + str(upper_lim))\n",
        "\n",
        "        return [lower_lim, upper_lim]\n",
        "\n",
        "\n",
        "    # weight update with a discrete number of states and (optional) add read noise\n",
        "    def discrete_weight_update(value, read_noise_mean=0, read_noise_stddev=0):\n",
        "        if read_noise_stddev != 0:\n",
        "            value += np.random.normal(read_noise_mean, read_noise_stddev)\n",
        "        absolute_difference_function = lambda list_value : abs(list_value - value)\n",
        "        return min(DEVICE_STATES, key=absolute_difference_function)\n",
        "    v_discrete_weight_update = np.vectorize(discrete_weight_update)\n",
        "\n",
        "\n",
        "\n",
        "    # function puts together all the parts\n",
        "    # 1. Device variation\n",
        "    # 2. Stuck-on/off \n",
        "    # 3. Discrete number of weight states\n",
        "    # Input = software weights matrix, Output = hardware weights matrix\n",
        "    def simulate_hardware_weight_update(weights_mat, var_stuck_mat):\n",
        "\n",
        "        # initialize variation and stuck matrix if not initialized\n",
        "        if type(var_stuck_mat) is not np.ndarray:\n",
        "            var_stuck_mat = initialize_variation_stuck_mat(weights_mat.shape)\n",
        "\n",
        "        # simulate weight variation and stuck on open/close\n",
        "        weights_mat = weights_mat.clip(var_stuck_mat[0], var_stuck_mat[1])\n",
        "\n",
        "        # simulate discrete states\n",
        "        weights_mat = v_discrete_weight_update(weights_mat, read_noise_mean = READ_NOISE_MEAN,\n",
        "                                  read_noise_stddev = READ_NOISE_STDDEV)\n",
        "\n",
        "        return weights_mat\n",
        "    \n",
        "    \n",
        "    ###################### MLP SIM SETUP\n",
        "    # reset default tf graph before running sim\n",
        "    reset_graph()\n",
        "\n",
        "    # get data, format\n",
        "    (X_train, y_train), (X_test, y_test) = tf.keras.datasets.mnist.load_data()\n",
        "    X_train = X_train.astype(np.float32).reshape(-1, 28*28) / 255.0\n",
        "    X_test = X_test.astype(np.float32).reshape(-1, 28*28) / 255.0\n",
        "    y_train = y_train.astype(np.int32)\n",
        "    y_test = y_test.astype(np.int32)\n",
        "    #X_valid, X_train = X_train[:5000], X_train[5000:]\n",
        "    #y_valid, y_train = y_train[:5000], y_train[5000:]\n",
        "\n",
        "\n",
        "    # define input and output placeholder variables\n",
        "    X = tf.compat.v1.placeholder(tf.float32, shape=(None, n_inputs), name=\"X\") # input\n",
        "    y = tf.compat.v1.placeholder(tf.int32, shape=(None), name=\"y\") # output\n",
        "\n",
        "    # define NN layers\n",
        "    # tf.name_scope similar to namespace in C++, so that variable logits -> dnn/logits\n",
        "    with tf.name_scope(\"dnn\"): \n",
        "        initiliazer = tf.truncated_normal_initializer(stddev = initializer_stddev)\n",
        "        hidden1 = tf.layers.dense(X, n_hidden1, name=\"hidden1\", activation=tf.nn.relu, \n",
        "                                  kernel_initializer=initiliazer, bias_initializer=initiliazer)\n",
        "        logits = tf.layers.dense(hidden1, n_outputs, name=\"outputs\",\n",
        "                                 kernel_initializer=initiliazer, bias_initializer=initiliazer)\n",
        "        y_proba = tf.nn.softmax(logits)\n",
        "\n",
        "        #embedding = tf.keras.layers.Embedding(vocab_size, embedding_dim)\n",
        "        #gru = tf.keras.layers.GRU(rnn_units, return_sequences=True, return_state=True)\n",
        "        #dense = tf.keras.layers.Dense(vocab_size)\n",
        "\n",
        "    # define loss\n",
        "    with tf.name_scope(\"loss\"): \n",
        "        xentropy = tf.nn.sparse_softmax_cross_entropy_with_logits(labels=y, logits=logits)\n",
        "        loss = tf.reduce_mean(xentropy, name=\"loss\")\n",
        "\n",
        "    # define training\n",
        "    with tf.name_scope(\"train\"):\n",
        "        optimizer = tf.train.GradientDescentOptimizer(learning_rate)\n",
        "        training_op = optimizer.minimize(loss)\n",
        "\n",
        "    # define recognition rate eval op\n",
        "    with tf.name_scope(\"eval\"):\n",
        "        correct = tf.nn.in_top_k(logits, y, 1)\n",
        "        accuracy = tf.reduce_mean(tf.cast(correct, tf.float32))\n",
        "\n",
        "    # define weight update ops\n",
        "    var_stuck_mat = [False, False, False, False]\n",
        "    weights = [0,0,0,0]\n",
        "    new_weights = [0,0,0,0]\n",
        "    weight_update_op = [0,0,0,0]\n",
        "    with tf.name_scope(\"weight_update\"):\n",
        "        weight_layers = [\"hidden1/kernel:0\", \"hidden1/bias:0\", \"outputs/kernel:0\", \"outputs/bias:0\"]\n",
        "        for i, name in enumerate(weight_layers):\n",
        "            weights[i] = [v for v in tf.trainable_variables() if v.name == name][0]\n",
        "            new_weights[i] = tf.placeholder(tf.float32, name=\"new_weights\"+name.replace(\"/\",\"-\").replace(\":\",\"-\"))\n",
        "            weight_update_op[i] = tf.assign(weights[i], new_weights[i])\n",
        "    \n",
        "    \n",
        "    \n",
        "    \n",
        "    ###################### MLP SIM RUN\n",
        "    epoch_ls = []\n",
        "    recognition_rate_ls = []\n",
        "    start_time = time.time()\n",
        "    start_datetime  = datetime.utcnow().strftime(\"%Y%m%d%H%M%S\")\n",
        "\n",
        "    init = tf.global_variables_initializer()\n",
        "    saver = tf.train.Saver()\n",
        "\n",
        "    weights_before = False\n",
        "    weights_after = False\n",
        "\n",
        "    def shuffle_batch(X, y, batch_size):\n",
        "        rnd_idx = np.random.permutation(len(X)) # permute - 改变序列\n",
        "        n_batches = len(X) // batch_size \n",
        "        for batch_idx in np.array_split(rnd_idx, n_batches): # split rnd_idx into n_batches indexes\n",
        "          X_batch, y_batch = X[batch_idx], y[batch_idx]\n",
        "          yield X_batch, y_batch\n",
        "\n",
        "    with tf.compat.v1.Session() as sess:\n",
        "        init.run()\n",
        "\n",
        "        for epoch in range(n_epochs):\n",
        "            for X_batch, y_batch in shuffle_batch(X_train, y_train, batch_size):\n",
        "                sess.run(training_op, feed_dict={X: X_batch, y: y_batch})\n",
        "\n",
        "            if HARDWARE_SIMULATION:\n",
        "                ###### WEIGHT UPDATE  \n",
        "                # simulate hardware by updating weights\n",
        "                # includes discrete number of weight states\n",
        "\n",
        "                # the code below only updates hidden1/kernel:0 weights\n",
        "\n",
        "                # get weights\n",
        "                #weights_temp = [v for v in tf.trainable_variables() if v.name == \"hidden1/bias:0\"][0]\n",
        "                #weights_before = weights_temp.eval(session=sess)\n",
        "\n",
        "\n",
        "                # simulate hardware weight update\n",
        "                #new_weights_mat = simulate_hardware_weight_update(weights_mat, var_stuck_mat)\n",
        "\n",
        "                # update weights to hardware simulated weights\n",
        "\n",
        "                for i, weight in enumerate(weights):\n",
        "\n",
        "                    weight = weight.eval(session=sess)\n",
        "                    # !!! - where memtransistor works\n",
        "                    new_weights_mat = simulate_hardware_weight_update(weight, var_stuck_mat[i]) \n",
        "                    weight_update_op[i].eval(feed_dict={new_weights[i]: new_weights_mat})\n",
        "\n",
        "\n",
        "                ###### end of WEIGHT UPDATE\n",
        "\n",
        "\n",
        "\n",
        "            # test accuracy\n",
        "            acc_batch = accuracy.eval(feed_dict={X: X_batch, y: y_batch})\n",
        "            acc_valid = accuracy.eval(feed_dict={X: X_test, y: y_test})\n",
        "            print(epoch, \"Batch accuracy:\", acc_batch, \"Test accuracy:\", acc_valid)\n",
        "            \n",
        "            # save to list\n",
        "            epoch_ls.append(epoch)\n",
        "            recognition_rate_ls.append(acc_valid)\n",
        "\n",
        "            #weights_temp = [v for v in tf.trainable_variables() if v.name == \"hidden1/bias:0\"][0]\n",
        "            #weights_after = weights_temp.eval(session=sess)    \n",
        "\n",
        "\n",
        "        # save results\n",
        "        if SAVE_RESULTS:\n",
        "            save_path = \"./MLP_sim_results/MLP_sim_\" + start_datetime + \"/model_\" + start_datetime\n",
        "            save_path = saver.save(sess, save_path + \".ckpt\")\n",
        "    \n",
        "    # print out duration\n",
        "    print(\"--- %0.2f seconds ---\" % (time.time() - start_time))\n",
        "    \n",
        "    # save all results, including testing parameters and data\n",
        "    if SAVE_RESULTS:\n",
        "        save_path = \"./MLP_sim_results/MLP_sim_\" + start_datetime + \"/model_\" + start_datetime\n",
        "\n",
        "        data_df = pd.DataFrame({\"Epoch\": epoch_ls, \"Recognition Rate\": recognition_rate_ls})\n",
        "        data_df.to_csv(save_path + \"_data.csv\", index=False,)\n",
        "\n",
        "        with open(save_path + \"_meta.txt\", \"w\") as text_file:\n",
        "            print(\"---------- User input parameters -------------\", file=text_file)\n",
        "            print(\"Simulation start time: {}\".format(start_datetime), file=text_file)\n",
        "            print(\"Duration: {}\".format(time.time() - start_time), file=text_file)\n",
        "            print(\"Epochs: {}\".format(num_epochs_input), file=text_file)\n",
        "            print(\"Hardware simulation?: {}\".format(hardware_simulation_input), file=text_file)\n",
        "            print(\"Read noise - mean: {}\".format(read_noise_mean_input), file=text_file)\n",
        "            print(\"Read noise - standard deviation: {}\".format(read_noise_stddev_input), file=text_file)\n",
        "            print(\"Device variation - standard deviation: {}\".format(device_variation_stddev_input), file=text_file)\n",
        "            print(\"Device stuck on probability: {}\".format(device_stuck_on_prob_input), file=text_file)\n",
        "            print(\"Device stuck off probability: {}\".format(device_stuck_off_prob_input), file=text_file)\n",
        "            print(\"Device states used: {}\".format(device_states_input), file=text_file)\n",
        "\n",
        "            print(\"---------- Simulation parameters -------------\", file=text_file)\n",
        "            print(\"Number of inputs: {}\".format(n_inputs), file=text_file)\n",
        "            print(\"Layers: {}\".format(weight_layers), file=text_file)\n",
        "            print(\"Hidden1 # of neurons: {}\".format(n_hidden1), file=text_file)\n",
        "            print(\"Outputs # of neurons: {}\".format(n_outputs), file=text_file)\n",
        "            print(\"Learning rate: {}\".format(learning_rate), file=text_file)\n",
        "            print(\"Initializer standad dev: {}\".format(initializer_stddev), file=text_file)\n",
        "            print(\"Batch size: {}\".format(batch_size), file=text_file)\n",
        "\n",
        "\n",
        "# imports data from single column CSV file with possible current/conductance states\n",
        "# return numpy array of approximate states possible using this hardware\n",
        "# this import method is not generalized, but fine-tuned to Vinod's devices\n",
        "def import_data_from_csv(filename):\n",
        "    # import data\n",
        "    imported_device_states = np.genfromtxt(filename, delimiter=',')[1:]\n",
        "\n",
        "    # since data is in ~1 nA, assume maximum precision is ~1 pA\n",
        "    # this will make some states redundant\n",
        "    imported_device_states = np.unique(np.round(np.sort(imported_device_states), decimals=3))\n",
        "\n",
        "    # calculate device states possible\n",
        "    device_states = np.array([])\n",
        "    for i, value in enumerate(imported_device_states):\n",
        "        if i+1 > len(imported_device_states):\n",
        "            break\n",
        "        temp_ls = value - imported_device_states\n",
        "        device_states = np.append(device_states, temp_ls)\n",
        "\n",
        "\n",
        "    # normalize to -1 to 1\n",
        "    device_states = np.unique(np.sort(device_states))\n",
        "    device_states = device_states / np.abs(device_states).max()\n",
        "\n",
        "    # given the large number of states, we can assume some states are almost equivalent\n",
        "    # moreover, once the number of states is > 100, the discreteness doesnt matter\n",
        "    # for simplicity in the simulations, we will simply  round to 2 digits of the calculated states\n",
        "    device_states = np.round(device_states, decimals = 2)\n",
        "    device_states = np.unique(np.sort(device_states))\n",
        "    \n",
        "    return device_states\n"
      ],
      "execution_count": null,
      "outputs": []
    },
    {
      "cell_type": "code",
      "metadata": {
        "scrolled": true,
        "id": "u8cD0K-M-pMw",
        "colab": {
          "base_uri": "https://localhost:8080/",
          "height": 414
        },
        "outputId": "49a4e272-ebc4-47dc-bfc3-855f893f7309"
      },
      "source": [
        "# mock simulation using np.arange for device states\n",
        "for i in range(5):\n",
        "    run_MLP_simulation(num_epochs_input = 100, \n",
        "                       hardware_simulation_input = False, \n",
        "                       device_states_input = False,\n",
        "                       read_noise_mean_input = 0.0,\n",
        "                       read_noise_stddev_input = 0.0,\n",
        "                       device_variation_stddev_input = 0.0,\n",
        "                       device_stuck_on_prob_input = 0.0,\n",
        "                       device_stuck_off_prob_input = 0.0,\n",
        "                       save_results_input = True)"
      ],
      "execution_count": null,
      "outputs": [
        {
          "output_type": "stream",
          "name": "stdout",
          "text": [
            "WARNING:tensorflow:From /usr/local/lib/python3.7/dist-packages/tensorflow/python/compat/v2_compat.py:111: disable_resource_variables (from tensorflow.python.ops.variable_scope) is deprecated and will be removed in a future version.\n",
            "Instructions for updating:\n",
            "non-resource variables are not supported in the long term\n"
          ]
        },
        {
          "output_type": "error",
          "ename": "AttributeError",
          "evalue": "ignored",
          "traceback": [
            "\u001b[0;31m---------------------------------------------------------------------------\u001b[0m",
            "\u001b[0;31mAttributeError\u001b[0m                            Traceback (most recent call last)",
            "\u001b[0;32m<ipython-input-13-f1baf16b8945>\u001b[0m in \u001b[0;36m<module>\u001b[0;34m()\u001b[0m\n\u001b[1;32m      9\u001b[0m                        \u001b[0mdevice_stuck_on_prob_input\u001b[0m \u001b[0;34m=\u001b[0m \u001b[0;36m0.0\u001b[0m\u001b[0;34m,\u001b[0m\u001b[0;34m\u001b[0m\u001b[0;34m\u001b[0m\u001b[0m\n\u001b[1;32m     10\u001b[0m                        \u001b[0mdevice_stuck_off_prob_input\u001b[0m \u001b[0;34m=\u001b[0m \u001b[0;36m0.0\u001b[0m\u001b[0;34m,\u001b[0m\u001b[0;34m\u001b[0m\u001b[0;34m\u001b[0m\u001b[0m\n\u001b[0;32m---> 11\u001b[0;31m                        save_results_input = True)\n\u001b[0m",
            "\u001b[0;32m<ipython-input-12-0e87d7bbeaf8>\u001b[0m in \u001b[0;36mrun_MLP_simulation\u001b[0;34m(save_results_input, num_epochs_input, hardware_simulation_input, device_states_input, read_noise_mean_input, read_noise_stddev_input, device_variation_stddev_input, device_stuck_on_prob_input, device_stuck_off_prob_input)\u001b[0m\n\u001b[1;32m    156\u001b[0m     \u001b[0;31m# define NN layers\u001b[0m\u001b[0;34m\u001b[0m\u001b[0;34m\u001b[0m\u001b[0;34m\u001b[0m\u001b[0m\n\u001b[1;32m    157\u001b[0m     \u001b[0;32mwith\u001b[0m \u001b[0mtf\u001b[0m\u001b[0;34m.\u001b[0m\u001b[0mname_scope\u001b[0m\u001b[0;34m(\u001b[0m\u001b[0;34m\"dnn\"\u001b[0m\u001b[0;34m)\u001b[0m\u001b[0;34m:\u001b[0m\u001b[0;34m\u001b[0m\u001b[0;34m\u001b[0m\u001b[0m\n\u001b[0;32m--> 158\u001b[0;31m         \u001b[0minitiliazer\u001b[0m \u001b[0;34m=\u001b[0m \u001b[0mtf\u001b[0m\u001b[0;34m.\u001b[0m\u001b[0mtruncated_normal_initializer\u001b[0m\u001b[0;34m(\u001b[0m\u001b[0mstddev\u001b[0m \u001b[0;34m=\u001b[0m \u001b[0minitializer_stddev\u001b[0m\u001b[0;34m)\u001b[0m\u001b[0;34m\u001b[0m\u001b[0;34m\u001b[0m\u001b[0m\n\u001b[0m\u001b[1;32m    159\u001b[0m         hidden1 = tf.layers.dense(X, n_hidden1, name=\"hidden1\", activation=tf.nn.relu, \n\u001b[1;32m    160\u001b[0m                                   kernel_initializer=initiliazer, bias_initializer=initiliazer)\n",
            "\u001b[0;31mAttributeError\u001b[0m: module 'tensorflow' has no attribute 'truncated_normal_initializer'"
          ]
        }
      ]
    },
    {
      "cell_type": "code",
      "metadata": {
        "id": "rchKubR2-pMy",
        "outputId": "271df512-103c-4a55-c5e0-d8303c4f4e6f"
      },
      "source": [
        "# run hardware sim 4 times\n",
        "for i in range(4):\n",
        "    imported_device_states = import_data_from_csv(filename='learning_curve_vinod.csv')\n",
        "    run_MLP_simulation(num_epochs_input = 100, \n",
        "                       hardware_simulation_input = True, \n",
        "                       device_states_input = imported_device_states,\n",
        "                       read_noise_mean_input = 0.0,\n",
        "                       read_noise_stddev_input = 0.1,\n",
        "                       device_variation_stddev_input = 0.0,\n",
        "                       device_stuck_on_prob_input = 0.00,\n",
        "                       device_stuck_off_prob_input = 0.00,\n",
        "                       save_results_input = True)"
      ],
      "execution_count": null,
      "outputs": [
        {
          "name": "stdout",
          "output_type": "stream",
          "text": [
            "0 Batch accuracy: 0.72 Test accuracy: 0.6556\n",
            "1 Batch accuracy: 0.6 Test accuracy: 0.5914\n",
            "2 Batch accuracy: 0.7 Test accuracy: 0.7075\n",
            "3 Batch accuracy: 0.5 Test accuracy: 0.5555\n",
            "4 Batch accuracy: 0.82 Test accuracy: 0.7896\n",
            "5 Batch accuracy: 0.76 Test accuracy: 0.7968\n",
            "6 Batch accuracy: 0.8 Test accuracy: 0.776\n",
            "7 Batch accuracy: 0.82 Test accuracy: 0.7581\n",
            "8 Batch accuracy: 0.9 Test accuracy: 0.8142\n",
            "9 Batch accuracy: 0.6 Test accuracy: 0.6915\n",
            "10 Batch accuracy: 0.78 Test accuracy: 0.8267\n",
            "11 Batch accuracy: 0.9 Test accuracy: 0.8334\n",
            "12 Batch accuracy: 0.84 Test accuracy: 0.8398\n",
            "13 Batch accuracy: 0.82 Test accuracy: 0.8183\n",
            "14 Batch accuracy: 0.8 Test accuracy: 0.843\n",
            "15 Batch accuracy: 0.92 Test accuracy: 0.846\n",
            "16 Batch accuracy: 0.78 Test accuracy: 0.826\n",
            "17 Batch accuracy: 0.82 Test accuracy: 0.8299\n",
            "18 Batch accuracy: 0.84 Test accuracy: 0.8476\n",
            "19 Batch accuracy: 0.86 Test accuracy: 0.8514\n",
            "20 Batch accuracy: 0.84 Test accuracy: 0.8119\n",
            "21 Batch accuracy: 0.88 Test accuracy: 0.829\n",
            "22 Batch accuracy: 0.78 Test accuracy: 0.8402\n",
            "23 Batch accuracy: 0.86 Test accuracy: 0.8478\n",
            "24 Batch accuracy: 0.96 Test accuracy: 0.8553\n",
            "25 Batch accuracy: 0.76 Test accuracy: 0.8315\n",
            "26 Batch accuracy: 0.88 Test accuracy: 0.8339\n",
            "27 Batch accuracy: 0.88 Test accuracy: 0.8776\n",
            "28 Batch accuracy: 0.84 Test accuracy: 0.8667\n",
            "29 Batch accuracy: 0.86 Test accuracy: 0.8583\n",
            "30 Batch accuracy: 0.86 Test accuracy: 0.874\n",
            "31 Batch accuracy: 0.92 Test accuracy: 0.8726\n",
            "32 Batch accuracy: 0.88 Test accuracy: 0.8804\n",
            "33 Batch accuracy: 0.88 Test accuracy: 0.8656\n",
            "34 Batch accuracy: 0.86 Test accuracy: 0.8395\n",
            "35 Batch accuracy: 0.88 Test accuracy: 0.865\n",
            "36 Batch accuracy: 0.88 Test accuracy: 0.8673\n",
            "37 Batch accuracy: 0.82 Test accuracy: 0.8524\n",
            "38 Batch accuracy: 0.8 Test accuracy: 0.8347\n",
            "39 Batch accuracy: 0.82 Test accuracy: 0.877\n",
            "40 Batch accuracy: 0.92 Test accuracy: 0.8657\n",
            "41 Batch accuracy: 0.82 Test accuracy: 0.881\n",
            "42 Batch accuracy: 0.84 Test accuracy: 0.8589\n",
            "43 Batch accuracy: 0.88 Test accuracy: 0.8753\n",
            "44 Batch accuracy: 0.84 Test accuracy: 0.8859\n",
            "45 Batch accuracy: 0.9 Test accuracy: 0.8712\n",
            "46 Batch accuracy: 0.86 Test accuracy: 0.869\n",
            "47 Batch accuracy: 0.82 Test accuracy: 0.8643\n",
            "48 Batch accuracy: 0.9 Test accuracy: 0.8693\n",
            "49 Batch accuracy: 0.92 Test accuracy: 0.8565\n",
            "50 Batch accuracy: 0.8 Test accuracy: 0.8866\n",
            "51 Batch accuracy: 0.96 Test accuracy: 0.8775\n",
            "52 Batch accuracy: 0.9 Test accuracy: 0.8685\n",
            "53 Batch accuracy: 0.74 Test accuracy: 0.8609\n",
            "54 Batch accuracy: 0.86 Test accuracy: 0.8633\n",
            "55 Batch accuracy: 0.92 Test accuracy: 0.8693\n",
            "56 Batch accuracy: 0.82 Test accuracy: 0.871\n",
            "57 Batch accuracy: 0.9 Test accuracy: 0.881\n",
            "58 Batch accuracy: 0.84 Test accuracy: 0.8849\n",
            "59 Batch accuracy: 0.9 Test accuracy: 0.8547\n",
            "60 Batch accuracy: 0.88 Test accuracy: 0.8763\n",
            "61 Batch accuracy: 0.88 Test accuracy: 0.8825\n",
            "62 Batch accuracy: 0.94 Test accuracy: 0.8704\n",
            "63 Batch accuracy: 0.88 Test accuracy: 0.8854\n",
            "64 Batch accuracy: 0.84 Test accuracy: 0.8656\n",
            "65 Batch accuracy: 0.9 Test accuracy: 0.8631\n",
            "66 Batch accuracy: 0.92 Test accuracy: 0.8702\n",
            "67 Batch accuracy: 0.92 Test accuracy: 0.8812\n",
            "68 Batch accuracy: 0.9 Test accuracy: 0.8789\n",
            "69 Batch accuracy: 0.9 Test accuracy: 0.8849\n",
            "70 Batch accuracy: 0.88 Test accuracy: 0.8887\n",
            "71 Batch accuracy: 0.88 Test accuracy: 0.8795\n",
            "72 Batch accuracy: 0.9 Test accuracy: 0.8821\n",
            "73 Batch accuracy: 0.94 Test accuracy: 0.8834\n",
            "74 Batch accuracy: 0.9 Test accuracy: 0.8834\n",
            "75 Batch accuracy: 0.94 Test accuracy: 0.884\n",
            "76 Batch accuracy: 0.92 Test accuracy: 0.8814\n",
            "77 Batch accuracy: 0.9 Test accuracy: 0.8798\n",
            "78 Batch accuracy: 0.92 Test accuracy: 0.8825\n",
            "79 Batch accuracy: 0.92 Test accuracy: 0.886\n",
            "80 Batch accuracy: 0.9 Test accuracy: 0.8741\n",
            "81 Batch accuracy: 0.8 Test accuracy: 0.8845\n",
            "82 Batch accuracy: 0.94 Test accuracy: 0.8958\n",
            "83 Batch accuracy: 0.88 Test accuracy: 0.9004\n",
            "84 Batch accuracy: 0.9 Test accuracy: 0.8872\n",
            "85 Batch accuracy: 0.82 Test accuracy: 0.8762\n",
            "86 Batch accuracy: 0.9 Test accuracy: 0.885\n",
            "87 Batch accuracy: 0.84 Test accuracy: 0.8654\n",
            "88 Batch accuracy: 0.94 Test accuracy: 0.8849\n",
            "89 Batch accuracy: 0.86 Test accuracy: 0.8693\n",
            "90 Batch accuracy: 0.94 Test accuracy: 0.8902\n",
            "91 Batch accuracy: 0.9 Test accuracy: 0.9053\n",
            "92 Batch accuracy: 0.84 Test accuracy: 0.8824\n",
            "93 Batch accuracy: 0.88 Test accuracy: 0.8821\n",
            "94 Batch accuracy: 0.86 Test accuracy: 0.875\n",
            "95 Batch accuracy: 0.98 Test accuracy: 0.8869\n",
            "96 Batch accuracy: 0.92 Test accuracy: 0.8769\n",
            "97 Batch accuracy: 0.82 Test accuracy: 0.8863\n",
            "98 Batch accuracy: 0.88 Test accuracy: 0.8889\n",
            "99 Batch accuracy: 0.94 Test accuracy: 0.8792\n",
            "--- 3070.01 seconds ---\n",
            "0 Batch accuracy: 0.72 Test accuracy: 0.6556\n",
            "1 Batch accuracy: 0.6 Test accuracy: 0.5914\n",
            "2 Batch accuracy: 0.7 Test accuracy: 0.7075\n",
            "3 Batch accuracy: 0.5 Test accuracy: 0.5555\n",
            "4 Batch accuracy: 0.82 Test accuracy: 0.7896\n",
            "5 Batch accuracy: 0.76 Test accuracy: 0.7968\n",
            "6 Batch accuracy: 0.8 Test accuracy: 0.776\n",
            "7 Batch accuracy: 0.82 Test accuracy: 0.7581\n",
            "8 Batch accuracy: 0.9 Test accuracy: 0.8142\n",
            "9 Batch accuracy: 0.6 Test accuracy: 0.6915\n",
            "10 Batch accuracy: 0.78 Test accuracy: 0.8267\n",
            "11 Batch accuracy: 0.9 Test accuracy: 0.8334\n",
            "12 Batch accuracy: 0.84 Test accuracy: 0.8398\n",
            "13 Batch accuracy: 0.82 Test accuracy: 0.8183\n",
            "14 Batch accuracy: 0.8 Test accuracy: 0.843\n",
            "15 Batch accuracy: 0.92 Test accuracy: 0.846\n",
            "16 Batch accuracy: 0.78 Test accuracy: 0.826\n",
            "17 Batch accuracy: 0.82 Test accuracy: 0.8299\n",
            "18 Batch accuracy: 0.84 Test accuracy: 0.8476\n",
            "19 Batch accuracy: 0.86 Test accuracy: 0.8514\n",
            "20 Batch accuracy: 0.84 Test accuracy: 0.8119\n",
            "21 Batch accuracy: 0.88 Test accuracy: 0.829\n",
            "22 Batch accuracy: 0.78 Test accuracy: 0.8402\n",
            "23 Batch accuracy: 0.86 Test accuracy: 0.8478\n",
            "24 Batch accuracy: 0.96 Test accuracy: 0.8553\n",
            "25 Batch accuracy: 0.76 Test accuracy: 0.8315\n",
            "26 Batch accuracy: 0.88 Test accuracy: 0.8339\n",
            "27 Batch accuracy: 0.88 Test accuracy: 0.8776\n",
            "28 Batch accuracy: 0.84 Test accuracy: 0.8667\n",
            "29 Batch accuracy: 0.86 Test accuracy: 0.8583\n",
            "30 Batch accuracy: 0.86 Test accuracy: 0.874\n",
            "31 Batch accuracy: 0.92 Test accuracy: 0.8726\n",
            "32 Batch accuracy: 0.88 Test accuracy: 0.8804\n",
            "33 Batch accuracy: 0.88 Test accuracy: 0.8656\n",
            "34 Batch accuracy: 0.86 Test accuracy: 0.8395\n",
            "35 Batch accuracy: 0.88 Test accuracy: 0.865\n",
            "36 Batch accuracy: 0.88 Test accuracy: 0.8673\n",
            "37 Batch accuracy: 0.82 Test accuracy: 0.8524\n",
            "38 Batch accuracy: 0.8 Test accuracy: 0.8347\n",
            "39 Batch accuracy: 0.82 Test accuracy: 0.877\n",
            "40 Batch accuracy: 0.92 Test accuracy: 0.8657\n",
            "41 Batch accuracy: 0.82 Test accuracy: 0.881\n",
            "42 Batch accuracy: 0.84 Test accuracy: 0.8589\n",
            "43 Batch accuracy: 0.88 Test accuracy: 0.8753\n",
            "44 Batch accuracy: 0.84 Test accuracy: 0.8859\n",
            "45 Batch accuracy: 0.9 Test accuracy: 0.8712\n",
            "46 Batch accuracy: 0.86 Test accuracy: 0.869\n",
            "47 Batch accuracy: 0.82 Test accuracy: 0.8643\n",
            "48 Batch accuracy: 0.9 Test accuracy: 0.8693\n",
            "49 Batch accuracy: 0.92 Test accuracy: 0.8565\n",
            "50 Batch accuracy: 0.8 Test accuracy: 0.8866\n",
            "51 Batch accuracy: 0.96 Test accuracy: 0.8775\n",
            "52 Batch accuracy: 0.9 Test accuracy: 0.8685\n",
            "53 Batch accuracy: 0.74 Test accuracy: 0.8609\n",
            "54 Batch accuracy: 0.86 Test accuracy: 0.8633\n",
            "55 Batch accuracy: 0.92 Test accuracy: 0.8693\n",
            "56 Batch accuracy: 0.82 Test accuracy: 0.871\n",
            "57 Batch accuracy: 0.9 Test accuracy: 0.881\n",
            "58 Batch accuracy: 0.84 Test accuracy: 0.8849\n",
            "59 Batch accuracy: 0.9 Test accuracy: 0.8547\n",
            "60 Batch accuracy: 0.88 Test accuracy: 0.8763\n",
            "61 Batch accuracy: 0.88 Test accuracy: 0.8825\n",
            "62 Batch accuracy: 0.94 Test accuracy: 0.8704\n",
            "63 Batch accuracy: 0.88 Test accuracy: 0.8854\n",
            "64 Batch accuracy: 0.84 Test accuracy: 0.8656\n",
            "65 Batch accuracy: 0.9 Test accuracy: 0.8631\n",
            "66 Batch accuracy: 0.92 Test accuracy: 0.8702\n",
            "67 Batch accuracy: 0.92 Test accuracy: 0.8812\n",
            "68 Batch accuracy: 0.9 Test accuracy: 0.8789\n",
            "69 Batch accuracy: 0.9 Test accuracy: 0.8849\n",
            "70 Batch accuracy: 0.88 Test accuracy: 0.8887\n",
            "71 Batch accuracy: 0.88 Test accuracy: 0.8795\n",
            "72 Batch accuracy: 0.9 Test accuracy: 0.8821\n",
            "73 Batch accuracy: 0.94 Test accuracy: 0.8834\n",
            "74 Batch accuracy: 0.9 Test accuracy: 0.8834\n",
            "75 Batch accuracy: 0.94 Test accuracy: 0.884\n",
            "76 Batch accuracy: 0.92 Test accuracy: 0.8814\n",
            "77 Batch accuracy: 0.9 Test accuracy: 0.8798\n",
            "78 Batch accuracy: 0.92 Test accuracy: 0.8825\n",
            "79 Batch accuracy: 0.92 Test accuracy: 0.886\n"
          ]
        },
        {
          "name": "stdout",
          "output_type": "stream",
          "text": [
            "80 Batch accuracy: 0.9 Test accuracy: 0.8741\n",
            "81 Batch accuracy: 0.8 Test accuracy: 0.8845\n",
            "82 Batch accuracy: 0.94 Test accuracy: 0.8958\n",
            "83 Batch accuracy: 0.88 Test accuracy: 0.9004\n",
            "84 Batch accuracy: 0.9 Test accuracy: 0.8872\n",
            "85 Batch accuracy: 0.82 Test accuracy: 0.8762\n",
            "86 Batch accuracy: 0.9 Test accuracy: 0.885\n",
            "87 Batch accuracy: 0.84 Test accuracy: 0.8654\n",
            "88 Batch accuracy: 0.94 Test accuracy: 0.8849\n",
            "89 Batch accuracy: 0.86 Test accuracy: 0.8693\n",
            "90 Batch accuracy: 0.94 Test accuracy: 0.8902\n",
            "91 Batch accuracy: 0.9 Test accuracy: 0.9053\n",
            "92 Batch accuracy: 0.84 Test accuracy: 0.8824\n",
            "93 Batch accuracy: 0.88 Test accuracy: 0.8821\n",
            "94 Batch accuracy: 0.86 Test accuracy: 0.875\n",
            "95 Batch accuracy: 0.98 Test accuracy: 0.8869\n",
            "96 Batch accuracy: 0.92 Test accuracy: 0.8769\n",
            "97 Batch accuracy: 0.82 Test accuracy: 0.8863\n",
            "98 Batch accuracy: 0.88 Test accuracy: 0.8889\n",
            "99 Batch accuracy: 0.94 Test accuracy: 0.8792\n",
            "--- 3072.75 seconds ---\n",
            "0 Batch accuracy: 0.72 Test accuracy: 0.6556\n",
            "1 Batch accuracy: 0.6 Test accuracy: 0.5914\n",
            "2 Batch accuracy: 0.7 Test accuracy: 0.7075\n",
            "3 Batch accuracy: 0.5 Test accuracy: 0.5555\n",
            "4 Batch accuracy: 0.82 Test accuracy: 0.7896\n",
            "5 Batch accuracy: 0.76 Test accuracy: 0.7968\n",
            "6 Batch accuracy: 0.8 Test accuracy: 0.776\n",
            "7 Batch accuracy: 0.82 Test accuracy: 0.7581\n",
            "8 Batch accuracy: 0.9 Test accuracy: 0.8142\n",
            "9 Batch accuracy: 0.6 Test accuracy: 0.6915\n",
            "10 Batch accuracy: 0.78 Test accuracy: 0.8267\n",
            "11 Batch accuracy: 0.9 Test accuracy: 0.8334\n",
            "12 Batch accuracy: 0.84 Test accuracy: 0.8398\n",
            "13 Batch accuracy: 0.82 Test accuracy: 0.8183\n",
            "14 Batch accuracy: 0.8 Test accuracy: 0.843\n",
            "15 Batch accuracy: 0.92 Test accuracy: 0.846\n",
            "16 Batch accuracy: 0.78 Test accuracy: 0.826\n",
            "17 Batch accuracy: 0.82 Test accuracy: 0.8299\n",
            "18 Batch accuracy: 0.84 Test accuracy: 0.8476\n",
            "19 Batch accuracy: 0.86 Test accuracy: 0.8514\n",
            "20 Batch accuracy: 0.84 Test accuracy: 0.8119\n",
            "21 Batch accuracy: 0.88 Test accuracy: 0.829\n",
            "22 Batch accuracy: 0.78 Test accuracy: 0.8402\n",
            "23 Batch accuracy: 0.86 Test accuracy: 0.8478\n",
            "24 Batch accuracy: 0.96 Test accuracy: 0.8553\n",
            "25 Batch accuracy: 0.76 Test accuracy: 0.8315\n",
            "26 Batch accuracy: 0.88 Test accuracy: 0.8339\n",
            "27 Batch accuracy: 0.88 Test accuracy: 0.8776\n",
            "28 Batch accuracy: 0.84 Test accuracy: 0.8667\n",
            "29 Batch accuracy: 0.86 Test accuracy: 0.8583\n",
            "30 Batch accuracy: 0.86 Test accuracy: 0.874\n",
            "31 Batch accuracy: 0.92 Test accuracy: 0.8726\n",
            "32 Batch accuracy: 0.88 Test accuracy: 0.8804\n",
            "33 Batch accuracy: 0.88 Test accuracy: 0.8656\n",
            "34 Batch accuracy: 0.86 Test accuracy: 0.8395\n",
            "35 Batch accuracy: 0.88 Test accuracy: 0.865\n",
            "36 Batch accuracy: 0.88 Test accuracy: 0.8673\n",
            "37 Batch accuracy: 0.82 Test accuracy: 0.8524\n",
            "38 Batch accuracy: 0.8 Test accuracy: 0.8347\n",
            "39 Batch accuracy: 0.82 Test accuracy: 0.877\n",
            "40 Batch accuracy: 0.92 Test accuracy: 0.8657\n",
            "41 Batch accuracy: 0.82 Test accuracy: 0.881\n",
            "42 Batch accuracy: 0.84 Test accuracy: 0.8589\n",
            "43 Batch accuracy: 0.88 Test accuracy: 0.8753\n",
            "44 Batch accuracy: 0.84 Test accuracy: 0.8859\n",
            "45 Batch accuracy: 0.9 Test accuracy: 0.8712\n",
            "46 Batch accuracy: 0.86 Test accuracy: 0.869\n",
            "47 Batch accuracy: 0.82 Test accuracy: 0.8643\n",
            "48 Batch accuracy: 0.9 Test accuracy: 0.8693\n",
            "49 Batch accuracy: 0.92 Test accuracy: 0.8565\n",
            "50 Batch accuracy: 0.8 Test accuracy: 0.8866\n",
            "51 Batch accuracy: 0.96 Test accuracy: 0.8775\n",
            "52 Batch accuracy: 0.9 Test accuracy: 0.8685\n",
            "53 Batch accuracy: 0.74 Test accuracy: 0.8609\n",
            "54 Batch accuracy: 0.86 Test accuracy: 0.8633\n",
            "55 Batch accuracy: 0.92 Test accuracy: 0.8693\n",
            "56 Batch accuracy: 0.82 Test accuracy: 0.871\n",
            "57 Batch accuracy: 0.9 Test accuracy: 0.881\n",
            "58 Batch accuracy: 0.84 Test accuracy: 0.8849\n",
            "59 Batch accuracy: 0.9 Test accuracy: 0.8547\n",
            "60 Batch accuracy: 0.88 Test accuracy: 0.8763\n",
            "61 Batch accuracy: 0.88 Test accuracy: 0.8825\n",
            "62 Batch accuracy: 0.94 Test accuracy: 0.8704\n",
            "63 Batch accuracy: 0.88 Test accuracy: 0.8854\n",
            "64 Batch accuracy: 0.84 Test accuracy: 0.8656\n",
            "65 Batch accuracy: 0.9 Test accuracy: 0.8631\n",
            "66 Batch accuracy: 0.92 Test accuracy: 0.8702\n",
            "67 Batch accuracy: 0.92 Test accuracy: 0.8812\n",
            "68 Batch accuracy: 0.9 Test accuracy: 0.8789\n",
            "69 Batch accuracy: 0.9 Test accuracy: 0.8849\n",
            "70 Batch accuracy: 0.88 Test accuracy: 0.8887\n",
            "71 Batch accuracy: 0.88 Test accuracy: 0.8795\n",
            "72 Batch accuracy: 0.9 Test accuracy: 0.8821\n",
            "73 Batch accuracy: 0.94 Test accuracy: 0.8834\n",
            "74 Batch accuracy: 0.9 Test accuracy: 0.8834\n",
            "75 Batch accuracy: 0.94 Test accuracy: 0.884\n",
            "76 Batch accuracy: 0.92 Test accuracy: 0.8814\n",
            "77 Batch accuracy: 0.9 Test accuracy: 0.8798\n",
            "78 Batch accuracy: 0.92 Test accuracy: 0.8825\n",
            "79 Batch accuracy: 0.92 Test accuracy: 0.886\n",
            "80 Batch accuracy: 0.9 Test accuracy: 0.8741\n",
            "81 Batch accuracy: 0.8 Test accuracy: 0.8845\n",
            "82 Batch accuracy: 0.94 Test accuracy: 0.8958\n",
            "83 Batch accuracy: 0.88 Test accuracy: 0.9004\n",
            "84 Batch accuracy: 0.9 Test accuracy: 0.8872\n",
            "85 Batch accuracy: 0.82 Test accuracy: 0.8762\n",
            "86 Batch accuracy: 0.9 Test accuracy: 0.885\n",
            "87 Batch accuracy: 0.84 Test accuracy: 0.8654\n",
            "88 Batch accuracy: 0.94 Test accuracy: 0.8849\n",
            "89 Batch accuracy: 0.86 Test accuracy: 0.8693\n",
            "90 Batch accuracy: 0.94 Test accuracy: 0.8902\n",
            "91 Batch accuracy: 0.9 Test accuracy: 0.9053\n",
            "92 Batch accuracy: 0.84 Test accuracy: 0.8824\n",
            "93 Batch accuracy: 0.88 Test accuracy: 0.8821\n",
            "94 Batch accuracy: 0.86 Test accuracy: 0.875\n",
            "95 Batch accuracy: 0.98 Test accuracy: 0.8869\n",
            "96 Batch accuracy: 0.92 Test accuracy: 0.8769\n",
            "97 Batch accuracy: 0.82 Test accuracy: 0.8863\n",
            "98 Batch accuracy: 0.88 Test accuracy: 0.8889\n",
            "99 Batch accuracy: 0.94 Test accuracy: 0.8792\n",
            "--- 3070.62 seconds ---\n",
            "0 Batch accuracy: 0.72 Test accuracy: 0.6556\n",
            "1 Batch accuracy: 0.6 Test accuracy: 0.5914\n",
            "2 Batch accuracy: 0.7 Test accuracy: 0.7075\n",
            "3 Batch accuracy: 0.5 Test accuracy: 0.5555\n",
            "4 Batch accuracy: 0.82 Test accuracy: 0.7896\n",
            "5 Batch accuracy: 0.76 Test accuracy: 0.7968\n",
            "6 Batch accuracy: 0.8 Test accuracy: 0.776\n",
            "7 Batch accuracy: 0.82 Test accuracy: 0.7581\n",
            "8 Batch accuracy: 0.9 Test accuracy: 0.8142\n",
            "9 Batch accuracy: 0.6 Test accuracy: 0.6915\n",
            "10 Batch accuracy: 0.78 Test accuracy: 0.8267\n",
            "11 Batch accuracy: 0.9 Test accuracy: 0.8334\n",
            "12 Batch accuracy: 0.84 Test accuracy: 0.8398\n",
            "13 Batch accuracy: 0.82 Test accuracy: 0.8183\n",
            "14 Batch accuracy: 0.8 Test accuracy: 0.843\n",
            "15 Batch accuracy: 0.92 Test accuracy: 0.846\n",
            "16 Batch accuracy: 0.78 Test accuracy: 0.826\n",
            "17 Batch accuracy: 0.82 Test accuracy: 0.8299\n",
            "18 Batch accuracy: 0.84 Test accuracy: 0.8476\n",
            "19 Batch accuracy: 0.86 Test accuracy: 0.8514\n",
            "20 Batch accuracy: 0.84 Test accuracy: 0.8119\n",
            "21 Batch accuracy: 0.88 Test accuracy: 0.829\n",
            "22 Batch accuracy: 0.78 Test accuracy: 0.8402\n",
            "23 Batch accuracy: 0.86 Test accuracy: 0.8478\n",
            "24 Batch accuracy: 0.96 Test accuracy: 0.8553\n",
            "25 Batch accuracy: 0.76 Test accuracy: 0.8315\n",
            "26 Batch accuracy: 0.88 Test accuracy: 0.8339\n",
            "27 Batch accuracy: 0.88 Test accuracy: 0.8776\n",
            "28 Batch accuracy: 0.84 Test accuracy: 0.8667\n",
            "29 Batch accuracy: 0.86 Test accuracy: 0.8583\n",
            "30 Batch accuracy: 0.86 Test accuracy: 0.874\n",
            "31 Batch accuracy: 0.92 Test accuracy: 0.8726\n",
            "32 Batch accuracy: 0.88 Test accuracy: 0.8804\n",
            "33 Batch accuracy: 0.88 Test accuracy: 0.8656\n",
            "34 Batch accuracy: 0.86 Test accuracy: 0.8395\n",
            "35 Batch accuracy: 0.88 Test accuracy: 0.865\n",
            "36 Batch accuracy: 0.88 Test accuracy: 0.8673\n",
            "37 Batch accuracy: 0.82 Test accuracy: 0.8524\n",
            "38 Batch accuracy: 0.8 Test accuracy: 0.8347\n",
            "39 Batch accuracy: 0.82 Test accuracy: 0.877\n",
            "40 Batch accuracy: 0.92 Test accuracy: 0.8657\n",
            "41 Batch accuracy: 0.82 Test accuracy: 0.881\n",
            "42 Batch accuracy: 0.84 Test accuracy: 0.8589\n",
            "43 Batch accuracy: 0.88 Test accuracy: 0.8753\n",
            "44 Batch accuracy: 0.84 Test accuracy: 0.8859\n",
            "45 Batch accuracy: 0.9 Test accuracy: 0.8712\n",
            "46 Batch accuracy: 0.86 Test accuracy: 0.869\n",
            "47 Batch accuracy: 0.82 Test accuracy: 0.8643\n",
            "48 Batch accuracy: 0.9 Test accuracy: 0.8693\n",
            "49 Batch accuracy: 0.92 Test accuracy: 0.8565\n",
            "50 Batch accuracy: 0.8 Test accuracy: 0.8866\n",
            "51 Batch accuracy: 0.96 Test accuracy: 0.8775\n",
            "52 Batch accuracy: 0.9 Test accuracy: 0.8685\n",
            "53 Batch accuracy: 0.74 Test accuracy: 0.8609\n",
            "54 Batch accuracy: 0.86 Test accuracy: 0.8633\n",
            "55 Batch accuracy: 0.92 Test accuracy: 0.8693\n",
            "56 Batch accuracy: 0.82 Test accuracy: 0.871\n",
            "57 Batch accuracy: 0.9 Test accuracy: 0.881\n",
            "58 Batch accuracy: 0.84 Test accuracy: 0.8849\n",
            "59 Batch accuracy: 0.9 Test accuracy: 0.8547\n"
          ]
        },
        {
          "name": "stdout",
          "output_type": "stream",
          "text": [
            "60 Batch accuracy: 0.88 Test accuracy: 0.8763\n",
            "61 Batch accuracy: 0.88 Test accuracy: 0.8825\n",
            "62 Batch accuracy: 0.94 Test accuracy: 0.8704\n",
            "63 Batch accuracy: 0.88 Test accuracy: 0.8854\n",
            "64 Batch accuracy: 0.84 Test accuracy: 0.8656\n",
            "65 Batch accuracy: 0.9 Test accuracy: 0.8631\n",
            "66 Batch accuracy: 0.92 Test accuracy: 0.8702\n",
            "67 Batch accuracy: 0.92 Test accuracy: 0.8812\n",
            "68 Batch accuracy: 0.9 Test accuracy: 0.8789\n",
            "69 Batch accuracy: 0.9 Test accuracy: 0.8849\n",
            "70 Batch accuracy: 0.88 Test accuracy: 0.8887\n",
            "71 Batch accuracy: 0.88 Test accuracy: 0.8795\n",
            "72 Batch accuracy: 0.9 Test accuracy: 0.8821\n",
            "73 Batch accuracy: 0.94 Test accuracy: 0.8834\n",
            "74 Batch accuracy: 0.9 Test accuracy: 0.8834\n",
            "75 Batch accuracy: 0.94 Test accuracy: 0.884\n",
            "76 Batch accuracy: 0.92 Test accuracy: 0.8814\n",
            "77 Batch accuracy: 0.9 Test accuracy: 0.8798\n",
            "78 Batch accuracy: 0.92 Test accuracy: 0.8825\n",
            "79 Batch accuracy: 0.92 Test accuracy: 0.886\n",
            "80 Batch accuracy: 0.9 Test accuracy: 0.8741\n",
            "81 Batch accuracy: 0.8 Test accuracy: 0.8845\n",
            "82 Batch accuracy: 0.94 Test accuracy: 0.8958\n",
            "83 Batch accuracy: 0.88 Test accuracy: 0.9004\n",
            "84 Batch accuracy: 0.9 Test accuracy: 0.8872\n",
            "85 Batch accuracy: 0.82 Test accuracy: 0.8762\n",
            "86 Batch accuracy: 0.9 Test accuracy: 0.885\n",
            "87 Batch accuracy: 0.84 Test accuracy: 0.8654\n",
            "88 Batch accuracy: 0.94 Test accuracy: 0.8849\n",
            "89 Batch accuracy: 0.86 Test accuracy: 0.8693\n",
            "90 Batch accuracy: 0.94 Test accuracy: 0.8902\n",
            "91 Batch accuracy: 0.9 Test accuracy: 0.9053\n",
            "92 Batch accuracy: 0.84 Test accuracy: 0.8824\n",
            "93 Batch accuracy: 0.88 Test accuracy: 0.8821\n",
            "94 Batch accuracy: 0.86 Test accuracy: 0.875\n",
            "95 Batch accuracy: 0.98 Test accuracy: 0.8869\n",
            "96 Batch accuracy: 0.92 Test accuracy: 0.8769\n",
            "97 Batch accuracy: 0.82 Test accuracy: 0.8863\n",
            "98 Batch accuracy: 0.88 Test accuracy: 0.8889\n",
            "99 Batch accuracy: 0.94 Test accuracy: 0.8792\n",
            "--- 3052.23 seconds ---\n"
          ]
        }
      ]
    },
    {
      "cell_type": "code",
      "metadata": {
        "id": "U20Mg0qp-pMz",
        "outputId": "d6293b16-3922-4486-c341-8b7d8d5441bd"
      },
      "source": [
        "# run hardware sim 4 times\n",
        "for i in range(4):\n",
        "    imported_device_states = import_data_from_csv(filename='learning_curve_vinod.csv')\n",
        "    run_MLP_simulation(num_epochs_input = 100, \n",
        "                       hardware_simulation_input = True, \n",
        "                       device_states_input = imported_device_states,\n",
        "                       read_noise_mean_input = 0.0,\n",
        "                       read_noise_stddev_input = 0.1,\n",
        "                       device_variation_stddev_input = 0.0,\n",
        "                       device_stuck_on_prob_input = 0.00,\n",
        "                       device_stuck_off_prob_input = 0.00,\n",
        "                       save_results_input = True)"
      ],
      "execution_count": null,
      "outputs": [
        {
          "name": "stdout",
          "output_type": "stream",
          "text": [
            "0 Batch accuracy: 0.84 Test accuracy: 0.761\n",
            "1 Batch accuracy: 0.86 Test accuracy: 0.8079\n",
            "2 Batch accuracy: 0.88 Test accuracy: 0.8493\n",
            "3 Batch accuracy: 0.84 Test accuracy: 0.823\n",
            "4 Batch accuracy: 0.92 Test accuracy: 0.9038\n",
            "5 Batch accuracy: 0.86 Test accuracy: 0.9098\n",
            "6 Batch accuracy: 0.96 Test accuracy: 0.9185\n",
            "7 Batch accuracy: 0.92 Test accuracy: 0.8956\n",
            "8 Batch accuracy: 0.94 Test accuracy: 0.9088\n",
            "9 Batch accuracy: 0.86 Test accuracy: 0.8886\n",
            "10 Batch accuracy: 0.92 Test accuracy: 0.9233\n",
            "11 Batch accuracy: 0.94 Test accuracy: 0.919\n",
            "12 Batch accuracy: 0.84 Test accuracy: 0.917\n",
            "13 Batch accuracy: 0.96 Test accuracy: 0.9239\n",
            "14 Batch accuracy: 0.9 Test accuracy: 0.9272\n",
            "15 Batch accuracy: 0.94 Test accuracy: 0.9344\n",
            "16 Batch accuracy: 0.94 Test accuracy: 0.9288\n",
            "17 Batch accuracy: 0.96 Test accuracy: 0.9197\n",
            "18 Batch accuracy: 0.9 Test accuracy: 0.9308\n",
            "19 Batch accuracy: 0.88 Test accuracy: 0.9271\n",
            "20 Batch accuracy: 0.96 Test accuracy: 0.9229\n",
            "21 Batch accuracy: 0.92 Test accuracy: 0.9356\n",
            "22 Batch accuracy: 0.94 Test accuracy: 0.9279\n",
            "23 Batch accuracy: 0.96 Test accuracy: 0.9297\n",
            "24 Batch accuracy: 0.96 Test accuracy: 0.9353\n",
            "25 Batch accuracy: 0.96 Test accuracy: 0.9387\n",
            "26 Batch accuracy: 1.0 Test accuracy: 0.9218\n",
            "27 Batch accuracy: 0.94 Test accuracy: 0.9378\n",
            "28 Batch accuracy: 0.94 Test accuracy: 0.9349\n",
            "29 Batch accuracy: 0.96 Test accuracy: 0.9364\n",
            "30 Batch accuracy: 0.98 Test accuracy: 0.9324\n",
            "31 Batch accuracy: 0.94 Test accuracy: 0.935\n",
            "32 Batch accuracy: 1.0 Test accuracy: 0.9399\n",
            "33 Batch accuracy: 0.96 Test accuracy: 0.9404\n",
            "34 Batch accuracy: 0.98 Test accuracy: 0.935\n",
            "35 Batch accuracy: 0.94 Test accuracy: 0.9466\n",
            "36 Batch accuracy: 0.9 Test accuracy: 0.944\n",
            "37 Batch accuracy: 0.94 Test accuracy: 0.9444\n",
            "38 Batch accuracy: 0.96 Test accuracy: 0.9407\n",
            "39 Batch accuracy: 0.94 Test accuracy: 0.9463\n",
            "40 Batch accuracy: 0.98 Test accuracy: 0.9426\n",
            "41 Batch accuracy: 0.94 Test accuracy: 0.9435\n",
            "42 Batch accuracy: 1.0 Test accuracy: 0.9382\n",
            "43 Batch accuracy: 0.96 Test accuracy: 0.9384\n",
            "44 Batch accuracy: 0.98 Test accuracy: 0.9435\n",
            "45 Batch accuracy: 0.96 Test accuracy: 0.9404\n",
            "46 Batch accuracy: 0.94 Test accuracy: 0.9378\n",
            "47 Batch accuracy: 0.94 Test accuracy: 0.9443\n",
            "48 Batch accuracy: 1.0 Test accuracy: 0.9482\n",
            "49 Batch accuracy: 0.96 Test accuracy: 0.9454\n",
            "50 Batch accuracy: 0.98 Test accuracy: 0.9465\n",
            "51 Batch accuracy: 0.98 Test accuracy: 0.946\n",
            "52 Batch accuracy: 0.94 Test accuracy: 0.9357\n",
            "53 Batch accuracy: 0.94 Test accuracy: 0.9344\n",
            "54 Batch accuracy: 0.98 Test accuracy: 0.9372\n",
            "55 Batch accuracy: 0.96 Test accuracy: 0.9424\n",
            "56 Batch accuracy: 1.0 Test accuracy: 0.9368\n",
            "57 Batch accuracy: 0.94 Test accuracy: 0.9358\n",
            "58 Batch accuracy: 1.0 Test accuracy: 0.9432\n",
            "59 Batch accuracy: 0.96 Test accuracy: 0.9416\n",
            "60 Batch accuracy: 0.9 Test accuracy: 0.9444\n",
            "61 Batch accuracy: 0.98 Test accuracy: 0.9438\n",
            "62 Batch accuracy: 0.94 Test accuracy: 0.9366\n",
            "63 Batch accuracy: 0.96 Test accuracy: 0.9392\n",
            "64 Batch accuracy: 0.98 Test accuracy: 0.9374\n",
            "65 Batch accuracy: 0.98 Test accuracy: 0.947\n",
            "66 Batch accuracy: 0.98 Test accuracy: 0.9456\n",
            "67 Batch accuracy: 0.98 Test accuracy: 0.9416\n",
            "68 Batch accuracy: 0.94 Test accuracy: 0.9412\n",
            "69 Batch accuracy: 0.92 Test accuracy: 0.9447\n",
            "70 Batch accuracy: 0.94 Test accuracy: 0.9425\n",
            "71 Batch accuracy: 0.96 Test accuracy: 0.9431\n",
            "72 Batch accuracy: 0.96 Test accuracy: 0.9421\n",
            "73 Batch accuracy: 0.96 Test accuracy: 0.9363\n",
            "74 Batch accuracy: 0.96 Test accuracy: 0.9467\n",
            "75 Batch accuracy: 0.98 Test accuracy: 0.9457\n",
            "76 Batch accuracy: 0.94 Test accuracy: 0.9445\n",
            "77 Batch accuracy: 0.98 Test accuracy: 0.9473\n",
            "78 Batch accuracy: 0.96 Test accuracy: 0.9428\n",
            "79 Batch accuracy: 0.98 Test accuracy: 0.9432\n",
            "80 Batch accuracy: 0.96 Test accuracy: 0.9453\n",
            "81 Batch accuracy: 0.98 Test accuracy: 0.9485\n",
            "82 Batch accuracy: 0.96 Test accuracy: 0.9482\n",
            "83 Batch accuracy: 0.96 Test accuracy: 0.9417\n",
            "84 Batch accuracy: 0.96 Test accuracy: 0.9472\n",
            "85 Batch accuracy: 0.94 Test accuracy: 0.9449\n",
            "86 Batch accuracy: 0.98 Test accuracy: 0.9481\n",
            "87 Batch accuracy: 0.98 Test accuracy: 0.9496\n",
            "88 Batch accuracy: 0.96 Test accuracy: 0.9505\n",
            "89 Batch accuracy: 0.94 Test accuracy: 0.9453\n",
            "90 Batch accuracy: 0.98 Test accuracy: 0.9494\n",
            "91 Batch accuracy: 1.0 Test accuracy: 0.952\n",
            "92 Batch accuracy: 0.96 Test accuracy: 0.9466\n",
            "93 Batch accuracy: 0.94 Test accuracy: 0.9496\n",
            "94 Batch accuracy: 0.94 Test accuracy: 0.944\n",
            "95 Batch accuracy: 1.0 Test accuracy: 0.9475\n",
            "96 Batch accuracy: 0.96 Test accuracy: 0.9516\n",
            "97 Batch accuracy: 0.96 Test accuracy: 0.9425\n",
            "98 Batch accuracy: 0.96 Test accuracy: 0.9457\n",
            "99 Batch accuracy: 0.94 Test accuracy: 0.9451\n",
            "--- 3061.78 seconds ---\n",
            "0 Batch accuracy: 0.84 Test accuracy: 0.761\n",
            "1 Batch accuracy: 0.86 Test accuracy: 0.8079\n",
            "2 Batch accuracy: 0.88 Test accuracy: 0.8493\n",
            "3 Batch accuracy: 0.84 Test accuracy: 0.823\n",
            "4 Batch accuracy: 0.92 Test accuracy: 0.9038\n",
            "5 Batch accuracy: 0.86 Test accuracy: 0.9098\n",
            "6 Batch accuracy: 0.96 Test accuracy: 0.9185\n",
            "7 Batch accuracy: 0.92 Test accuracy: 0.8956\n",
            "8 Batch accuracy: 0.94 Test accuracy: 0.9088\n",
            "9 Batch accuracy: 0.86 Test accuracy: 0.8886\n",
            "10 Batch accuracy: 0.92 Test accuracy: 0.9233\n",
            "11 Batch accuracy: 0.94 Test accuracy: 0.919\n",
            "12 Batch accuracy: 0.84 Test accuracy: 0.917\n",
            "13 Batch accuracy: 0.96 Test accuracy: 0.9239\n",
            "14 Batch accuracy: 0.9 Test accuracy: 0.9272\n",
            "15 Batch accuracy: 0.94 Test accuracy: 0.9344\n",
            "16 Batch accuracy: 0.94 Test accuracy: 0.9288\n",
            "17 Batch accuracy: 0.96 Test accuracy: 0.9197\n",
            "18 Batch accuracy: 0.9 Test accuracy: 0.9308\n",
            "19 Batch accuracy: 0.88 Test accuracy: 0.9271\n",
            "20 Batch accuracy: 0.96 Test accuracy: 0.9229\n",
            "21 Batch accuracy: 0.92 Test accuracy: 0.9356\n",
            "22 Batch accuracy: 0.94 Test accuracy: 0.9279\n",
            "23 Batch accuracy: 0.96 Test accuracy: 0.9297\n",
            "24 Batch accuracy: 0.96 Test accuracy: 0.9353\n",
            "25 Batch accuracy: 0.96 Test accuracy: 0.9387\n",
            "26 Batch accuracy: 1.0 Test accuracy: 0.9218\n",
            "27 Batch accuracy: 0.94 Test accuracy: 0.9378\n",
            "28 Batch accuracy: 0.94 Test accuracy: 0.9349\n",
            "29 Batch accuracy: 0.96 Test accuracy: 0.9364\n",
            "30 Batch accuracy: 0.98 Test accuracy: 0.9324\n",
            "31 Batch accuracy: 0.94 Test accuracy: 0.935\n",
            "32 Batch accuracy: 1.0 Test accuracy: 0.9399\n",
            "33 Batch accuracy: 0.96 Test accuracy: 0.9404\n",
            "34 Batch accuracy: 0.98 Test accuracy: 0.935\n",
            "35 Batch accuracy: 0.94 Test accuracy: 0.9466\n",
            "36 Batch accuracy: 0.9 Test accuracy: 0.944\n",
            "37 Batch accuracy: 0.94 Test accuracy: 0.9444\n",
            "38 Batch accuracy: 0.96 Test accuracy: 0.9407\n",
            "39 Batch accuracy: 0.94 Test accuracy: 0.9463\n",
            "40 Batch accuracy: 0.98 Test accuracy: 0.9426\n",
            "41 Batch accuracy: 0.94 Test accuracy: 0.9435\n",
            "42 Batch accuracy: 1.0 Test accuracy: 0.9382\n",
            "43 Batch accuracy: 0.96 Test accuracy: 0.9384\n",
            "44 Batch accuracy: 0.98 Test accuracy: 0.9435\n",
            "45 Batch accuracy: 0.96 Test accuracy: 0.9404\n",
            "46 Batch accuracy: 0.94 Test accuracy: 0.9378\n",
            "47 Batch accuracy: 0.94 Test accuracy: 0.9443\n",
            "48 Batch accuracy: 1.0 Test accuracy: 0.9482\n",
            "49 Batch accuracy: 0.96 Test accuracy: 0.9454\n",
            "50 Batch accuracy: 0.98 Test accuracy: 0.9465\n",
            "51 Batch accuracy: 0.98 Test accuracy: 0.946\n",
            "52 Batch accuracy: 0.94 Test accuracy: 0.9357\n",
            "53 Batch accuracy: 0.94 Test accuracy: 0.9344\n",
            "54 Batch accuracy: 0.98 Test accuracy: 0.9372\n",
            "55 Batch accuracy: 0.96 Test accuracy: 0.9424\n",
            "56 Batch accuracy: 1.0 Test accuracy: 0.9368\n",
            "57 Batch accuracy: 0.94 Test accuracy: 0.9358\n",
            "58 Batch accuracy: 1.0 Test accuracy: 0.9432\n",
            "59 Batch accuracy: 0.96 Test accuracy: 0.9416\n",
            "60 Batch accuracy: 0.9 Test accuracy: 0.9444\n",
            "61 Batch accuracy: 0.98 Test accuracy: 0.9438\n",
            "62 Batch accuracy: 0.94 Test accuracy: 0.9366\n",
            "63 Batch accuracy: 0.96 Test accuracy: 0.9392\n",
            "64 Batch accuracy: 0.98 Test accuracy: 0.9374\n",
            "65 Batch accuracy: 0.98 Test accuracy: 0.947\n",
            "66 Batch accuracy: 0.98 Test accuracy: 0.9456\n",
            "67 Batch accuracy: 0.98 Test accuracy: 0.9416\n",
            "68 Batch accuracy: 0.94 Test accuracy: 0.9412\n",
            "69 Batch accuracy: 0.92 Test accuracy: 0.9447\n",
            "70 Batch accuracy: 0.94 Test accuracy: 0.9425\n",
            "71 Batch accuracy: 0.96 Test accuracy: 0.9431\n",
            "72 Batch accuracy: 0.96 Test accuracy: 0.9421\n",
            "73 Batch accuracy: 0.96 Test accuracy: 0.9363\n",
            "74 Batch accuracy: 0.96 Test accuracy: 0.9467\n",
            "75 Batch accuracy: 0.98 Test accuracy: 0.9457\n",
            "76 Batch accuracy: 0.94 Test accuracy: 0.9445\n",
            "77 Batch accuracy: 0.98 Test accuracy: 0.9473\n",
            "78 Batch accuracy: 0.96 Test accuracy: 0.9428\n"
          ]
        },
        {
          "name": "stdout",
          "output_type": "stream",
          "text": [
            "79 Batch accuracy: 0.98 Test accuracy: 0.9432\n",
            "80 Batch accuracy: 0.96 Test accuracy: 0.9453\n",
            "81 Batch accuracy: 0.98 Test accuracy: 0.9485\n",
            "82 Batch accuracy: 0.96 Test accuracy: 0.9482\n",
            "83 Batch accuracy: 0.96 Test accuracy: 0.9417\n",
            "84 Batch accuracy: 0.96 Test accuracy: 0.9472\n",
            "85 Batch accuracy: 0.94 Test accuracy: 0.9449\n",
            "86 Batch accuracy: 0.98 Test accuracy: 0.9481\n",
            "87 Batch accuracy: 0.98 Test accuracy: 0.9496\n",
            "88 Batch accuracy: 0.96 Test accuracy: 0.9505\n",
            "89 Batch accuracy: 0.94 Test accuracy: 0.9453\n",
            "90 Batch accuracy: 0.98 Test accuracy: 0.9494\n",
            "91 Batch accuracy: 1.0 Test accuracy: 0.952\n",
            "92 Batch accuracy: 0.96 Test accuracy: 0.9466\n",
            "93 Batch accuracy: 0.94 Test accuracy: 0.9496\n",
            "94 Batch accuracy: 0.94 Test accuracy: 0.944\n",
            "95 Batch accuracy: 1.0 Test accuracy: 0.9475\n",
            "96 Batch accuracy: 0.96 Test accuracy: 0.9516\n",
            "97 Batch accuracy: 0.96 Test accuracy: 0.9425\n",
            "98 Batch accuracy: 0.96 Test accuracy: 0.9457\n",
            "99 Batch accuracy: 0.94 Test accuracy: 0.9451\n",
            "--- 3079.70 seconds ---\n",
            "0 Batch accuracy: 0.84 Test accuracy: 0.761\n",
            "1 Batch accuracy: 0.86 Test accuracy: 0.8079\n",
            "2 Batch accuracy: 0.88 Test accuracy: 0.8493\n",
            "3 Batch accuracy: 0.84 Test accuracy: 0.823\n",
            "4 Batch accuracy: 0.92 Test accuracy: 0.9038\n",
            "5 Batch accuracy: 0.86 Test accuracy: 0.9098\n",
            "6 Batch accuracy: 0.96 Test accuracy: 0.9185\n",
            "7 Batch accuracy: 0.92 Test accuracy: 0.8956\n",
            "8 Batch accuracy: 0.94 Test accuracy: 0.9088\n",
            "9 Batch accuracy: 0.86 Test accuracy: 0.8886\n",
            "10 Batch accuracy: 0.92 Test accuracy: 0.9233\n",
            "11 Batch accuracy: 0.94 Test accuracy: 0.919\n",
            "12 Batch accuracy: 0.84 Test accuracy: 0.917\n",
            "13 Batch accuracy: 0.96 Test accuracy: 0.9239\n",
            "14 Batch accuracy: 0.9 Test accuracy: 0.9272\n",
            "15 Batch accuracy: 0.94 Test accuracy: 0.9344\n",
            "16 Batch accuracy: 0.94 Test accuracy: 0.9288\n",
            "17 Batch accuracy: 0.96 Test accuracy: 0.9197\n",
            "18 Batch accuracy: 0.9 Test accuracy: 0.9308\n",
            "19 Batch accuracy: 0.88 Test accuracy: 0.9271\n",
            "20 Batch accuracy: 0.96 Test accuracy: 0.9229\n",
            "21 Batch accuracy: 0.92 Test accuracy: 0.9356\n",
            "22 Batch accuracy: 0.94 Test accuracy: 0.9279\n",
            "23 Batch accuracy: 0.96 Test accuracy: 0.9297\n",
            "24 Batch accuracy: 0.96 Test accuracy: 0.9353\n",
            "25 Batch accuracy: 0.96 Test accuracy: 0.9387\n",
            "26 Batch accuracy: 1.0 Test accuracy: 0.9218\n",
            "27 Batch accuracy: 0.94 Test accuracy: 0.9378\n",
            "28 Batch accuracy: 0.94 Test accuracy: 0.9349\n",
            "29 Batch accuracy: 0.96 Test accuracy: 0.9364\n",
            "30 Batch accuracy: 0.98 Test accuracy: 0.9324\n",
            "31 Batch accuracy: 0.94 Test accuracy: 0.935\n",
            "32 Batch accuracy: 1.0 Test accuracy: 0.9399\n",
            "33 Batch accuracy: 0.96 Test accuracy: 0.9404\n",
            "34 Batch accuracy: 0.98 Test accuracy: 0.935\n",
            "35 Batch accuracy: 0.94 Test accuracy: 0.9466\n",
            "36 Batch accuracy: 0.9 Test accuracy: 0.944\n",
            "37 Batch accuracy: 0.94 Test accuracy: 0.9444\n",
            "38 Batch accuracy: 0.96 Test accuracy: 0.9407\n",
            "39 Batch accuracy: 0.94 Test accuracy: 0.9463\n",
            "40 Batch accuracy: 0.98 Test accuracy: 0.9426\n",
            "41 Batch accuracy: 0.94 Test accuracy: 0.9435\n",
            "42 Batch accuracy: 1.0 Test accuracy: 0.9382\n",
            "43 Batch accuracy: 0.96 Test accuracy: 0.9384\n",
            "44 Batch accuracy: 0.98 Test accuracy: 0.9435\n",
            "45 Batch accuracy: 0.96 Test accuracy: 0.9404\n",
            "46 Batch accuracy: 0.94 Test accuracy: 0.9378\n",
            "47 Batch accuracy: 0.94 Test accuracy: 0.9443\n",
            "48 Batch accuracy: 1.0 Test accuracy: 0.9482\n",
            "49 Batch accuracy: 0.96 Test accuracy: 0.9454\n",
            "50 Batch accuracy: 0.98 Test accuracy: 0.9465\n",
            "51 Batch accuracy: 0.98 Test accuracy: 0.946\n",
            "52 Batch accuracy: 0.94 Test accuracy: 0.9357\n",
            "53 Batch accuracy: 0.94 Test accuracy: 0.9344\n",
            "54 Batch accuracy: 0.98 Test accuracy: 0.9372\n",
            "55 Batch accuracy: 0.96 Test accuracy: 0.9424\n",
            "56 Batch accuracy: 1.0 Test accuracy: 0.9368\n",
            "57 Batch accuracy: 0.94 Test accuracy: 0.9358\n",
            "58 Batch accuracy: 1.0 Test accuracy: 0.9432\n",
            "59 Batch accuracy: 0.96 Test accuracy: 0.9416\n",
            "60 Batch accuracy: 0.9 Test accuracy: 0.9444\n",
            "61 Batch accuracy: 0.98 Test accuracy: 0.9438\n",
            "62 Batch accuracy: 0.94 Test accuracy: 0.9366\n",
            "63 Batch accuracy: 0.96 Test accuracy: 0.9392\n",
            "64 Batch accuracy: 0.98 Test accuracy: 0.9374\n",
            "65 Batch accuracy: 0.98 Test accuracy: 0.947\n",
            "66 Batch accuracy: 0.98 Test accuracy: 0.9456\n",
            "67 Batch accuracy: 0.98 Test accuracy: 0.9416\n",
            "68 Batch accuracy: 0.94 Test accuracy: 0.9412\n",
            "69 Batch accuracy: 0.92 Test accuracy: 0.9447\n",
            "70 Batch accuracy: 0.94 Test accuracy: 0.9425\n",
            "71 Batch accuracy: 0.96 Test accuracy: 0.9431\n",
            "72 Batch accuracy: 0.96 Test accuracy: 0.9421\n",
            "73 Batch accuracy: 0.96 Test accuracy: 0.9363\n",
            "74 Batch accuracy: 0.96 Test accuracy: 0.9467\n",
            "75 Batch accuracy: 0.98 Test accuracy: 0.9457\n",
            "76 Batch accuracy: 0.94 Test accuracy: 0.9445\n",
            "77 Batch accuracy: 0.98 Test accuracy: 0.9473\n",
            "78 Batch accuracy: 0.96 Test accuracy: 0.9428\n",
            "79 Batch accuracy: 0.98 Test accuracy: 0.9432\n",
            "80 Batch accuracy: 0.96 Test accuracy: 0.9453\n",
            "81 Batch accuracy: 0.98 Test accuracy: 0.9485\n",
            "82 Batch accuracy: 0.96 Test accuracy: 0.9482\n",
            "83 Batch accuracy: 0.96 Test accuracy: 0.9417\n",
            "84 Batch accuracy: 0.96 Test accuracy: 0.9472\n",
            "85 Batch accuracy: 0.94 Test accuracy: 0.9449\n",
            "86 Batch accuracy: 0.98 Test accuracy: 0.9481\n",
            "87 Batch accuracy: 0.98 Test accuracy: 0.9496\n",
            "88 Batch accuracy: 0.96 Test accuracy: 0.9505\n",
            "89 Batch accuracy: 0.94 Test accuracy: 0.9453\n",
            "90 Batch accuracy: 0.98 Test accuracy: 0.9494\n",
            "91 Batch accuracy: 1.0 Test accuracy: 0.952\n",
            "92 Batch accuracy: 0.96 Test accuracy: 0.9466\n",
            "93 Batch accuracy: 0.94 Test accuracy: 0.9496\n",
            "94 Batch accuracy: 0.94 Test accuracy: 0.944\n",
            "95 Batch accuracy: 1.0 Test accuracy: 0.9475\n",
            "96 Batch accuracy: 0.96 Test accuracy: 0.9516\n",
            "97 Batch accuracy: 0.96 Test accuracy: 0.9425\n",
            "98 Batch accuracy: 0.96 Test accuracy: 0.9457\n",
            "99 Batch accuracy: 0.94 Test accuracy: 0.9451\n",
            "--- 3077.87 seconds ---\n",
            "0 Batch accuracy: 0.84 Test accuracy: 0.761\n",
            "1 Batch accuracy: 0.86 Test accuracy: 0.8079\n",
            "2 Batch accuracy: 0.88 Test accuracy: 0.8493\n",
            "3 Batch accuracy: 0.84 Test accuracy: 0.823\n",
            "4 Batch accuracy: 0.92 Test accuracy: 0.9038\n",
            "5 Batch accuracy: 0.86 Test accuracy: 0.9098\n",
            "6 Batch accuracy: 0.96 Test accuracy: 0.9185\n",
            "7 Batch accuracy: 0.92 Test accuracy: 0.8956\n",
            "8 Batch accuracy: 0.94 Test accuracy: 0.9088\n",
            "9 Batch accuracy: 0.86 Test accuracy: 0.8886\n",
            "10 Batch accuracy: 0.92 Test accuracy: 0.9233\n",
            "11 Batch accuracy: 0.94 Test accuracy: 0.919\n",
            "12 Batch accuracy: 0.84 Test accuracy: 0.917\n",
            "13 Batch accuracy: 0.96 Test accuracy: 0.9239\n",
            "14 Batch accuracy: 0.9 Test accuracy: 0.9272\n",
            "15 Batch accuracy: 0.94 Test accuracy: 0.9344\n",
            "16 Batch accuracy: 0.94 Test accuracy: 0.9288\n",
            "17 Batch accuracy: 0.96 Test accuracy: 0.9197\n",
            "18 Batch accuracy: 0.9 Test accuracy: 0.9308\n",
            "19 Batch accuracy: 0.88 Test accuracy: 0.9271\n",
            "20 Batch accuracy: 0.96 Test accuracy: 0.9229\n",
            "21 Batch accuracy: 0.92 Test accuracy: 0.9356\n",
            "22 Batch accuracy: 0.94 Test accuracy: 0.9279\n",
            "23 Batch accuracy: 0.96 Test accuracy: 0.9297\n",
            "24 Batch accuracy: 0.96 Test accuracy: 0.9353\n",
            "25 Batch accuracy: 0.96 Test accuracy: 0.9387\n",
            "26 Batch accuracy: 1.0 Test accuracy: 0.9218\n",
            "27 Batch accuracy: 0.94 Test accuracy: 0.9378\n",
            "28 Batch accuracy: 0.94 Test accuracy: 0.9349\n",
            "29 Batch accuracy: 0.96 Test accuracy: 0.9364\n",
            "30 Batch accuracy: 0.98 Test accuracy: 0.9324\n",
            "31 Batch accuracy: 0.94 Test accuracy: 0.935\n",
            "32 Batch accuracy: 1.0 Test accuracy: 0.9399\n",
            "33 Batch accuracy: 0.96 Test accuracy: 0.9404\n",
            "34 Batch accuracy: 0.98 Test accuracy: 0.935\n",
            "35 Batch accuracy: 0.94 Test accuracy: 0.9466\n",
            "36 Batch accuracy: 0.9 Test accuracy: 0.944\n",
            "37 Batch accuracy: 0.94 Test accuracy: 0.9444\n",
            "38 Batch accuracy: 0.96 Test accuracy: 0.9407\n",
            "39 Batch accuracy: 0.94 Test accuracy: 0.9463\n",
            "40 Batch accuracy: 0.98 Test accuracy: 0.9426\n",
            "41 Batch accuracy: 0.94 Test accuracy: 0.9435\n",
            "42 Batch accuracy: 1.0 Test accuracy: 0.9382\n",
            "43 Batch accuracy: 0.96 Test accuracy: 0.9384\n",
            "44 Batch accuracy: 0.98 Test accuracy: 0.9435\n",
            "45 Batch accuracy: 0.96 Test accuracy: 0.9404\n",
            "46 Batch accuracy: 0.94 Test accuracy: 0.9378\n",
            "47 Batch accuracy: 0.94 Test accuracy: 0.9443\n",
            "48 Batch accuracy: 1.0 Test accuracy: 0.9482\n",
            "49 Batch accuracy: 0.96 Test accuracy: 0.9454\n",
            "50 Batch accuracy: 0.98 Test accuracy: 0.9465\n",
            "51 Batch accuracy: 0.98 Test accuracy: 0.946\n",
            "52 Batch accuracy: 0.94 Test accuracy: 0.9357\n",
            "53 Batch accuracy: 0.94 Test accuracy: 0.9344\n",
            "54 Batch accuracy: 0.98 Test accuracy: 0.9372\n",
            "55 Batch accuracy: 0.96 Test accuracy: 0.9424\n",
            "56 Batch accuracy: 1.0 Test accuracy: 0.9368\n",
            "57 Batch accuracy: 0.94 Test accuracy: 0.9358\n"
          ]
        },
        {
          "name": "stdout",
          "output_type": "stream",
          "text": [
            "58 Batch accuracy: 1.0 Test accuracy: 0.9432\n",
            "59 Batch accuracy: 0.96 Test accuracy: 0.9416\n",
            "60 Batch accuracy: 0.9 Test accuracy: 0.9444\n",
            "61 Batch accuracy: 0.98 Test accuracy: 0.9438\n",
            "62 Batch accuracy: 0.94 Test accuracy: 0.9366\n",
            "63 Batch accuracy: 0.96 Test accuracy: 0.9392\n",
            "64 Batch accuracy: 0.98 Test accuracy: 0.9374\n",
            "65 Batch accuracy: 0.98 Test accuracy: 0.947\n",
            "66 Batch accuracy: 0.98 Test accuracy: 0.9456\n",
            "67 Batch accuracy: 0.98 Test accuracy: 0.9416\n",
            "68 Batch accuracy: 0.94 Test accuracy: 0.9412\n",
            "69 Batch accuracy: 0.92 Test accuracy: 0.9447\n",
            "70 Batch accuracy: 0.94 Test accuracy: 0.9425\n",
            "71 Batch accuracy: 0.96 Test accuracy: 0.9431\n",
            "72 Batch accuracy: 0.96 Test accuracy: 0.9421\n",
            "73 Batch accuracy: 0.96 Test accuracy: 0.9363\n",
            "74 Batch accuracy: 0.96 Test accuracy: 0.9467\n",
            "75 Batch accuracy: 0.98 Test accuracy: 0.9457\n",
            "76 Batch accuracy: 0.94 Test accuracy: 0.9445\n",
            "77 Batch accuracy: 0.98 Test accuracy: 0.9473\n",
            "78 Batch accuracy: 0.96 Test accuracy: 0.9428\n",
            "79 Batch accuracy: 0.98 Test accuracy: 0.9432\n",
            "80 Batch accuracy: 0.96 Test accuracy: 0.9453\n",
            "81 Batch accuracy: 0.98 Test accuracy: 0.9485\n",
            "82 Batch accuracy: 0.96 Test accuracy: 0.9482\n",
            "83 Batch accuracy: 0.96 Test accuracy: 0.9417\n",
            "84 Batch accuracy: 0.96 Test accuracy: 0.9472\n",
            "85 Batch accuracy: 0.94 Test accuracy: 0.9449\n",
            "86 Batch accuracy: 0.98 Test accuracy: 0.9481\n",
            "87 Batch accuracy: 0.98 Test accuracy: 0.9496\n",
            "88 Batch accuracy: 0.96 Test accuracy: 0.9505\n",
            "89 Batch accuracy: 0.94 Test accuracy: 0.9453\n",
            "90 Batch accuracy: 0.98 Test accuracy: 0.9494\n",
            "91 Batch accuracy: 1.0 Test accuracy: 0.952\n",
            "92 Batch accuracy: 0.96 Test accuracy: 0.9466\n",
            "93 Batch accuracy: 0.94 Test accuracy: 0.9496\n",
            "94 Batch accuracy: 0.94 Test accuracy: 0.944\n",
            "95 Batch accuracy: 1.0 Test accuracy: 0.9475\n",
            "96 Batch accuracy: 0.96 Test accuracy: 0.9516\n",
            "97 Batch accuracy: 0.96 Test accuracy: 0.9425\n",
            "98 Batch accuracy: 0.96 Test accuracy: 0.9457\n",
            "99 Batch accuracy: 0.94 Test accuracy: 0.9451\n",
            "--- 3069.41 seconds ---\n"
          ]
        }
      ]
    },
    {
      "cell_type": "code",
      "metadata": {
        "scrolled": true,
        "id": "L0Ax4Dbc-pM0",
        "outputId": "cf5f17f7-4f2c-4841-b23a-222d09124c13"
      },
      "source": [
        "imported_device_states = import_data_from_csv(filename='learning_curve_vinod.csv')\n",
        "\n",
        "\n",
        "run_MLP_simulation(num_epochs_input = 100, \n",
        "                   hardware_simulation_input = True, \n",
        "                   device_states_input = imported_device_states,\n",
        "                   read_noise_mean_input = 0.0,\n",
        "                   read_noise_stddev_input = 0.1,\n",
        "                   device_variation_stddev_input = 0.0,\n",
        "                   device_stuck_on_prob_input = 0.00,\n",
        "                   device_stuck_off_prob_input = 0.00,\n",
        "                   save_results_input = True)\n"
      ],
      "execution_count": null,
      "outputs": [
        {
          "name": "stdout",
          "output_type": "stream",
          "text": [
            "0 Batch accuracy: 0.72 Test accuracy: 0.6556\n",
            "1 Batch accuracy: 0.6 Test accuracy: 0.5914\n",
            "2 Batch accuracy: 0.7 Test accuracy: 0.7075\n",
            "3 Batch accuracy: 0.5 Test accuracy: 0.5555\n",
            "4 Batch accuracy: 0.82 Test accuracy: 0.7896\n",
            "5 Batch accuracy: 0.76 Test accuracy: 0.7968\n",
            "6 Batch accuracy: 0.8 Test accuracy: 0.776\n",
            "7 Batch accuracy: 0.82 Test accuracy: 0.7581\n",
            "8 Batch accuracy: 0.9 Test accuracy: 0.8142\n",
            "9 Batch accuracy: 0.6 Test accuracy: 0.6915\n",
            "10 Batch accuracy: 0.78 Test accuracy: 0.8267\n",
            "11 Batch accuracy: 0.9 Test accuracy: 0.8334\n",
            "12 Batch accuracy: 0.84 Test accuracy: 0.8398\n",
            "13 Batch accuracy: 0.82 Test accuracy: 0.8183\n",
            "14 Batch accuracy: 0.8 Test accuracy: 0.843\n",
            "15 Batch accuracy: 0.92 Test accuracy: 0.846\n",
            "16 Batch accuracy: 0.78 Test accuracy: 0.826\n",
            "17 Batch accuracy: 0.82 Test accuracy: 0.8299\n",
            "18 Batch accuracy: 0.84 Test accuracy: 0.8476\n",
            "19 Batch accuracy: 0.86 Test accuracy: 0.8514\n",
            "20 Batch accuracy: 0.84 Test accuracy: 0.8119\n",
            "21 Batch accuracy: 0.88 Test accuracy: 0.829\n",
            "22 Batch accuracy: 0.78 Test accuracy: 0.8402\n",
            "23 Batch accuracy: 0.86 Test accuracy: 0.8478\n",
            "24 Batch accuracy: 0.96 Test accuracy: 0.8553\n",
            "25 Batch accuracy: 0.76 Test accuracy: 0.8315\n",
            "26 Batch accuracy: 0.88 Test accuracy: 0.8339\n",
            "27 Batch accuracy: 0.88 Test accuracy: 0.8776\n",
            "28 Batch accuracy: 0.84 Test accuracy: 0.8667\n",
            "29 Batch accuracy: 0.86 Test accuracy: 0.8583\n",
            "30 Batch accuracy: 0.86 Test accuracy: 0.874\n",
            "31 Batch accuracy: 0.92 Test accuracy: 0.8726\n",
            "32 Batch accuracy: 0.88 Test accuracy: 0.8804\n",
            "33 Batch accuracy: 0.88 Test accuracy: 0.8656\n",
            "34 Batch accuracy: 0.86 Test accuracy: 0.8395\n",
            "35 Batch accuracy: 0.88 Test accuracy: 0.865\n",
            "36 Batch accuracy: 0.88 Test accuracy: 0.8673\n",
            "37 Batch accuracy: 0.82 Test accuracy: 0.8524\n",
            "38 Batch accuracy: 0.8 Test accuracy: 0.8347\n",
            "39 Batch accuracy: 0.82 Test accuracy: 0.877\n",
            "40 Batch accuracy: 0.92 Test accuracy: 0.8657\n",
            "41 Batch accuracy: 0.82 Test accuracy: 0.881\n",
            "42 Batch accuracy: 0.84 Test accuracy: 0.8589\n",
            "43 Batch accuracy: 0.88 Test accuracy: 0.8753\n",
            "44 Batch accuracy: 0.84 Test accuracy: 0.8859\n",
            "45 Batch accuracy: 0.9 Test accuracy: 0.8712\n",
            "46 Batch accuracy: 0.86 Test accuracy: 0.869\n",
            "47 Batch accuracy: 0.82 Test accuracy: 0.8643\n",
            "48 Batch accuracy: 0.9 Test accuracy: 0.8693\n",
            "49 Batch accuracy: 0.92 Test accuracy: 0.8565\n",
            "50 Batch accuracy: 0.8 Test accuracy: 0.8866\n",
            "51 Batch accuracy: 0.96 Test accuracy: 0.8775\n",
            "52 Batch accuracy: 0.9 Test accuracy: 0.8685\n",
            "53 Batch accuracy: 0.74 Test accuracy: 0.8609\n",
            "54 Batch accuracy: 0.86 Test accuracy: 0.8633\n",
            "55 Batch accuracy: 0.92 Test accuracy: 0.8693\n",
            "56 Batch accuracy: 0.82 Test accuracy: 0.871\n",
            "57 Batch accuracy: 0.9 Test accuracy: 0.881\n",
            "58 Batch accuracy: 0.84 Test accuracy: 0.8849\n",
            "59 Batch accuracy: 0.9 Test accuracy: 0.8547\n",
            "60 Batch accuracy: 0.88 Test accuracy: 0.8763\n",
            "61 Batch accuracy: 0.88 Test accuracy: 0.8825\n",
            "62 Batch accuracy: 0.94 Test accuracy: 0.8704\n",
            "63 Batch accuracy: 0.88 Test accuracy: 0.8854\n",
            "64 Batch accuracy: 0.84 Test accuracy: 0.8656\n",
            "65 Batch accuracy: 0.9 Test accuracy: 0.8631\n",
            "66 Batch accuracy: 0.92 Test accuracy: 0.8702\n",
            "67 Batch accuracy: 0.92 Test accuracy: 0.8812\n",
            "68 Batch accuracy: 0.9 Test accuracy: 0.8789\n",
            "69 Batch accuracy: 0.9 Test accuracy: 0.8849\n",
            "70 Batch accuracy: 0.88 Test accuracy: 0.8887\n",
            "71 Batch accuracy: 0.88 Test accuracy: 0.8795\n",
            "72 Batch accuracy: 0.9 Test accuracy: 0.8821\n",
            "73 Batch accuracy: 0.94 Test accuracy: 0.8834\n",
            "74 Batch accuracy: 0.9 Test accuracy: 0.8834\n",
            "75 Batch accuracy: 0.94 Test accuracy: 0.884\n",
            "76 Batch accuracy: 0.92 Test accuracy: 0.8814\n",
            "77 Batch accuracy: 0.9 Test accuracy: 0.8798\n",
            "78 Batch accuracy: 0.92 Test accuracy: 0.8825\n",
            "79 Batch accuracy: 0.92 Test accuracy: 0.886\n",
            "80 Batch accuracy: 0.9 Test accuracy: 0.8741\n",
            "81 Batch accuracy: 0.8 Test accuracy: 0.8845\n",
            "82 Batch accuracy: 0.94 Test accuracy: 0.8958\n",
            "83 Batch accuracy: 0.88 Test accuracy: 0.9004\n",
            "84 Batch accuracy: 0.9 Test accuracy: 0.8872\n",
            "85 Batch accuracy: 0.82 Test accuracy: 0.8762\n",
            "86 Batch accuracy: 0.9 Test accuracy: 0.885\n",
            "87 Batch accuracy: 0.84 Test accuracy: 0.8654\n",
            "88 Batch accuracy: 0.94 Test accuracy: 0.8849\n",
            "89 Batch accuracy: 0.86 Test accuracy: 0.8693\n",
            "90 Batch accuracy: 0.94 Test accuracy: 0.8902\n",
            "91 Batch accuracy: 0.9 Test accuracy: 0.9053\n",
            "92 Batch accuracy: 0.84 Test accuracy: 0.8824\n",
            "93 Batch accuracy: 0.88 Test accuracy: 0.8821\n",
            "94 Batch accuracy: 0.86 Test accuracy: 0.875\n",
            "95 Batch accuracy: 0.98 Test accuracy: 0.8869\n",
            "96 Batch accuracy: 0.92 Test accuracy: 0.8769\n",
            "97 Batch accuracy: 0.82 Test accuracy: 0.8863\n",
            "98 Batch accuracy: 0.88 Test accuracy: 0.8889\n",
            "99 Batch accuracy: 0.94 Test accuracy: 0.8792\n",
            "--- 3071.88 seconds ---\n"
          ]
        }
      ]
    },
    {
      "cell_type": "code",
      "metadata": {
        "scrolled": true,
        "id": "_rXVNJjl-pM1",
        "outputId": "bd466399-4c62-4e9d-80fe-c636bad5968a"
      },
      "source": [
        "# mock simulation using np.arange for device states\n",
        "run_MLP_simulation(num_epochs_input = 100, \n",
        "                   hardware_simulation_input = False, \n",
        "                   device_states_input = False,\n",
        "                   read_noise_mean_input = 0.0,\n",
        "                   read_noise_stddev_input = 0.0,\n",
        "                   device_variation_stddev_input = 0.0,\n",
        "                   device_stuck_on_prob_input = 0.0,\n",
        "                   device_stuck_off_prob_input = 0.0,\n",
        "                   save_results_input = True)"
      ],
      "execution_count": null,
      "outputs": [
        {
          "name": "stdout",
          "output_type": "stream",
          "text": [
            "0 Batch accuracy: 0.88 Test accuracy: 0.8849\n",
            "1 Batch accuracy: 0.86 Test accuracy: 0.9082\n",
            "2 Batch accuracy: 0.92 Test accuracy: 0.9206\n",
            "3 Batch accuracy: 0.96 Test accuracy: 0.9269\n",
            "4 Batch accuracy: 1.0 Test accuracy: 0.9298\n",
            "5 Batch accuracy: 0.98 Test accuracy: 0.9327\n",
            "6 Batch accuracy: 0.96 Test accuracy: 0.9368\n",
            "7 Batch accuracy: 0.96 Test accuracy: 0.9404\n",
            "8 Batch accuracy: 0.96 Test accuracy: 0.944\n",
            "9 Batch accuracy: 0.98 Test accuracy: 0.9456\n",
            "10 Batch accuracy: 0.98 Test accuracy: 0.9467\n",
            "11 Batch accuracy: 0.9 Test accuracy: 0.9497\n",
            "12 Batch accuracy: 0.92 Test accuracy: 0.9499\n",
            "13 Batch accuracy: 0.98 Test accuracy: 0.9533\n",
            "14 Batch accuracy: 0.94 Test accuracy: 0.9533\n",
            "15 Batch accuracy: 0.94 Test accuracy: 0.9553\n",
            "16 Batch accuracy: 1.0 Test accuracy: 0.9558\n",
            "17 Batch accuracy: 0.94 Test accuracy: 0.9566\n",
            "18 Batch accuracy: 0.98 Test accuracy: 0.9581\n",
            "19 Batch accuracy: 0.96 Test accuracy: 0.9574\n",
            "20 Batch accuracy: 0.96 Test accuracy: 0.9579\n",
            "21 Batch accuracy: 0.98 Test accuracy: 0.9595\n",
            "22 Batch accuracy: 0.94 Test accuracy: 0.9607\n",
            "23 Batch accuracy: 0.98 Test accuracy: 0.9607\n",
            "24 Batch accuracy: 0.98 Test accuracy: 0.961\n",
            "25 Batch accuracy: 0.98 Test accuracy: 0.9612\n",
            "26 Batch accuracy: 1.0 Test accuracy: 0.9623\n",
            "27 Batch accuracy: 1.0 Test accuracy: 0.9628\n",
            "28 Batch accuracy: 1.0 Test accuracy: 0.9622\n",
            "29 Batch accuracy: 0.98 Test accuracy: 0.9632\n",
            "30 Batch accuracy: 0.98 Test accuracy: 0.9636\n",
            "31 Batch accuracy: 1.0 Test accuracy: 0.9625\n",
            "32 Batch accuracy: 0.92 Test accuracy: 0.9637\n",
            "33 Batch accuracy: 0.96 Test accuracy: 0.9652\n",
            "34 Batch accuracy: 0.96 Test accuracy: 0.9635\n",
            "35 Batch accuracy: 0.96 Test accuracy: 0.9637\n",
            "36 Batch accuracy: 0.98 Test accuracy: 0.9655\n",
            "37 Batch accuracy: 1.0 Test accuracy: 0.9656\n",
            "38 Batch accuracy: 1.0 Test accuracy: 0.9662\n",
            "39 Batch accuracy: 0.98 Test accuracy: 0.9666\n",
            "40 Batch accuracy: 1.0 Test accuracy: 0.966\n",
            "41 Batch accuracy: 0.98 Test accuracy: 0.9665\n",
            "42 Batch accuracy: 0.96 Test accuracy: 0.9666\n",
            "43 Batch accuracy: 0.98 Test accuracy: 0.9681\n",
            "44 Batch accuracy: 1.0 Test accuracy: 0.9677\n",
            "45 Batch accuracy: 0.98 Test accuracy: 0.9666\n",
            "46 Batch accuracy: 0.96 Test accuracy: 0.9675\n",
            "47 Batch accuracy: 1.0 Test accuracy: 0.9675\n",
            "48 Batch accuracy: 1.0 Test accuracy: 0.9682\n",
            "49 Batch accuracy: 1.0 Test accuracy: 0.9683\n",
            "50 Batch accuracy: 0.98 Test accuracy: 0.9678\n",
            "51 Batch accuracy: 0.96 Test accuracy: 0.968\n",
            "52 Batch accuracy: 0.98 Test accuracy: 0.9683\n",
            "53 Batch accuracy: 1.0 Test accuracy: 0.9681\n",
            "54 Batch accuracy: 1.0 Test accuracy: 0.9697\n",
            "55 Batch accuracy: 0.98 Test accuracy: 0.9691\n",
            "56 Batch accuracy: 1.0 Test accuracy: 0.9692\n",
            "57 Batch accuracy: 1.0 Test accuracy: 0.9697\n",
            "58 Batch accuracy: 0.98 Test accuracy: 0.9706\n",
            "59 Batch accuracy: 0.98 Test accuracy: 0.9696\n",
            "60 Batch accuracy: 0.98 Test accuracy: 0.9705\n",
            "61 Batch accuracy: 1.0 Test accuracy: 0.971\n",
            "62 Batch accuracy: 0.98 Test accuracy: 0.9707\n",
            "63 Batch accuracy: 1.0 Test accuracy: 0.97\n",
            "64 Batch accuracy: 1.0 Test accuracy: 0.9703\n",
            "65 Batch accuracy: 1.0 Test accuracy: 0.9712\n",
            "66 Batch accuracy: 1.0 Test accuracy: 0.972\n",
            "67 Batch accuracy: 0.98 Test accuracy: 0.9716\n",
            "68 Batch accuracy: 1.0 Test accuracy: 0.9721\n",
            "69 Batch accuracy: 1.0 Test accuracy: 0.9718\n",
            "70 Batch accuracy: 1.0 Test accuracy: 0.9716\n",
            "71 Batch accuracy: 1.0 Test accuracy: 0.9714\n",
            "72 Batch accuracy: 1.0 Test accuracy: 0.9721\n",
            "73 Batch accuracy: 1.0 Test accuracy: 0.9718\n",
            "74 Batch accuracy: 0.98 Test accuracy: 0.9717\n",
            "75 Batch accuracy: 0.98 Test accuracy: 0.9722\n",
            "76 Batch accuracy: 1.0 Test accuracy: 0.9725\n",
            "77 Batch accuracy: 1.0 Test accuracy: 0.9724\n",
            "78 Batch accuracy: 1.0 Test accuracy: 0.972\n",
            "79 Batch accuracy: 1.0 Test accuracy: 0.9727\n",
            "80 Batch accuracy: 1.0 Test accuracy: 0.9715\n",
            "81 Batch accuracy: 1.0 Test accuracy: 0.9727\n",
            "82 Batch accuracy: 1.0 Test accuracy: 0.9725\n",
            "83 Batch accuracy: 0.98 Test accuracy: 0.9722\n",
            "84 Batch accuracy: 1.0 Test accuracy: 0.973\n",
            "85 Batch accuracy: 0.98 Test accuracy: 0.9727\n",
            "86 Batch accuracy: 1.0 Test accuracy: 0.9723\n",
            "87 Batch accuracy: 1.0 Test accuracy: 0.9724\n",
            "88 Batch accuracy: 1.0 Test accuracy: 0.9728\n",
            "89 Batch accuracy: 0.98 Test accuracy: 0.9729\n",
            "90 Batch accuracy: 1.0 Test accuracy: 0.9728\n",
            "91 Batch accuracy: 1.0 Test accuracy: 0.9727\n",
            "92 Batch accuracy: 1.0 Test accuracy: 0.9727\n",
            "93 Batch accuracy: 1.0 Test accuracy: 0.9733\n",
            "94 Batch accuracy: 1.0 Test accuracy: 0.9722\n",
            "95 Batch accuracy: 1.0 Test accuracy: 0.9734\n",
            "96 Batch accuracy: 1.0 Test accuracy: 0.9734\n",
            "97 Batch accuracy: 1.0 Test accuracy: 0.9724\n",
            "98 Batch accuracy: 1.0 Test accuracy: 0.9724\n",
            "99 Batch accuracy: 1.0 Test accuracy: 0.973\n",
            "--- 254.00 seconds ---\n"
          ]
        }
      ]
    },
    {
      "cell_type": "markdown",
      "metadata": {
        "id": "8Bm4RZf9-pM2"
      },
      "source": [
        "# Results\n",
        "\n",
        "## software only (~2 mins , 10 sec)\n",
        "- Learning rate = 0.01\n",
        "0 Batch accuracy: 0.88 Test accuracy: 0.8849\n",
        "1 Batch accuracy: 0.86 Test accuracy: 0.9082\n",
        "2 Batch accuracy: 0.92 Test accuracy: 0.9206\n",
        "3 Batch accuracy: 0.96 Test accuracy: 0.9269\n",
        "4 Batch accuracy: 1.0 Test accuracy: 0.9298\n",
        "5 Batch accuracy: 0.98 Test accuracy: 0.9327\n",
        "6 Batch accuracy: 0.96 Test accuracy: 0.9368\n",
        "7 Batch accuracy: 0.96 Test accuracy: 0.9404\n",
        "8 Batch accuracy: 0.96 Test accuracy: 0.944\n",
        "9 Batch accuracy: 0.98 Test accuracy: 0.9456\n",
        "10 Batch accuracy: 0.98 Test accuracy: 0.9467\n",
        "11 Batch accuracy: 0.9 Test accuracy: 0.9497\n",
        "12 Batch accuracy: 0.92 Test accuracy: 0.9499\n",
        "13 Batch accuracy: 0.98 Test accuracy: 0.9533\n",
        "14 Batch accuracy: 0.94 Test accuracy: 0.9533\n",
        "15 Batch accuracy: 0.94 Test accuracy: 0.9553\n",
        "16 Batch accuracy: 1.0 Test accuracy: 0.9558\n",
        "17 Batch accuracy: 0.94 Test accuracy: 0.9566\n",
        "18 Batch accuracy: 0.98 Test accuracy: 0.9581\n",
        "19 Batch accuracy: 0.96 Test accuracy: 0.9574\n",
        "20 Batch accuracy: 0.96 Test accuracy: 0.9579\n",
        "21 Batch accuracy: 0.98 Test accuracy: 0.9595\n",
        "22 Batch accuracy: 0.94 Test accuracy: 0.9607\n",
        "23 Batch accuracy: 0.98 Test accuracy: 0.9607\n",
        "24 Batch accuracy: 0.98 Test accuracy: 0.961\n",
        "25 Batch accuracy: 0.98 Test accuracy: 0.9612\n",
        "26 Batch accuracy: 1.0 Test accuracy: 0.9623\n",
        "27 Batch accuracy: 1.0 Test accuracy: 0.9628\n",
        "28 Batch accuracy: 1.0 Test accuracy: 0.9622\n",
        "29 Batch accuracy: 0.98 Test accuracy: 0.9632\n",
        "30 Batch accuracy: 0.98 Test accuracy: 0.9636\n",
        "31 Batch accuracy: 1.0 Test accuracy: 0.9625\n",
        "32 Batch accuracy: 0.92 Test accuracy: 0.9637\n",
        "33 Batch accuracy: 0.96 Test accuracy: 0.9652\n",
        "34 Batch accuracy: 0.96 Test accuracy: 0.9635\n",
        "35 Batch accuracy: 0.96 Test accuracy: 0.9637\n",
        "36 Batch accuracy: 0.98 Test accuracy: 0.9655\n",
        "37 Batch accuracy: 1.0 Test accuracy: 0.9656\n",
        "38 Batch accuracy: 1.0 Test accuracy: 0.9662\n",
        "39 Batch accuracy: 0.98 Test accuracy: 0.9666\n",
        "40 Batch accuracy: 1.0 Test accuracy: 0.966\n",
        "41 Batch accuracy: 0.98 Test accuracy: 0.9665\n",
        "42 Batch accuracy: 0.96 Test accuracy: 0.9666\n",
        "43 Batch accuracy: 0.98 Test accuracy: 0.9681\n",
        "44 Batch accuracy: 1.0 Test accuracy: 0.9677\n",
        "45 Batch accuracy: 0.98 Test accuracy: 0.9666\n",
        "46 Batch accuracy: 0.96 Test accuracy: 0.9675\n",
        "47 Batch accuracy: 1.0 Test accuracy: 0.9675\n",
        "48 Batch accuracy: 1.0 Test accuracy: 0.9682\n",
        "49 Batch accuracy: 1.0 Test accuracy: 0.9683\n",
        "--- 140.81 seconds ---\n",
        "\n",
        "## software only (~30 secs)\n",
        "- Learning rate = 0.1\n",
        "0 Batch accuracy: 0.94 Test accuracy: 0.9427\n",
        "1 Batch accuracy: 0.98 Test accuracy: 0.9556\n",
        "2 Batch accuracy: 0.98 Test accuracy: 0.9635\n",
        "3 Batch accuracy: 1.0 Test accuracy: 0.9665\n",
        "4 Batch accuracy: 1.0 Test accuracy: 0.965\n",
        "5 Batch accuracy: 1.0 Test accuracy: 0.9678\n",
        "6 Batch accuracy: 1.0 Test accuracy: 0.9699\n",
        "7 Batch accuracy: 1.0 Test accuracy: 0.9722\n",
        "8 Batch accuracy: 1.0 Test accuracy: 0.9727\n",
        "9 Batch accuracy: 1.0 Test accuracy: 0.9718\n",
        "10 Batch accuracy: 1.0 Test accuracy: 0.9746\n",
        "11 Batch accuracy: 0.98 Test accuracy: 0.9745\n",
        "12 Batch accuracy: 1.0 Test accuracy: 0.9765\n",
        "13 Batch accuracy: 1.0 Test accuracy: 0.9765\n",
        "14 Batch accuracy: 1.0 Test accuracy: 0.9762\n",
        "15 Batch accuracy: 1.0 Test accuracy: 0.9753\n",
        "16 Batch accuracy: 1.0 Test accuracy: 0.9754\n",
        "17 Batch accuracy: 1.0 Test accuracy: 0.977\n",
        "18 Batch accuracy: 1.0 Test accuracy: 0.9756\n",
        "19 Batch accuracy: 1.0 Test accuracy: 0.9768\n",
        "20 Batch accuracy: 1.0 Test accuracy: 0.977\n",
        "\n",
        "## hardware ON, but just discrete states (20) (~2 min, 13 s)\n",
        "0 Batch accuracy: 0.92 Test accuracy: 0.933\n",
        "1 Batch accuracy: 0.92 Test accuracy: 0.938\n",
        "2 Batch accuracy: 0.94 Test accuracy: 0.9418\n",
        "3 Batch accuracy: 0.98 Test accuracy: 0.9431\n",
        "4 Batch accuracy: 0.94 Test accuracy: 0.942\n",
        "5 Batch accuracy: 0.96 Test accuracy: 0.9401\n",
        "6 Batch accuracy: 0.92 Test accuracy: 0.9405\n",
        "7 Batch accuracy: 0.96 Test accuracy: 0.9417\n",
        "8 Batch accuracy: 0.92 Test accuracy: 0.9422\n",
        "9 Batch accuracy: 0.96 Test accuracy: 0.9402\n",
        "10 Batch accuracy: 1.0 Test accuracy: 0.9405\n",
        "11 Batch accuracy: 0.92 Test accuracy: 0.9405\n",
        "12 Batch accuracy: 0.96 Test accuracy: 0.9416\n",
        "13 Batch accuracy: 0.94 Test accuracy: 0.9415\n",
        "14 Batch accuracy: 0.98 Test accuracy: 0.9417\n",
        "15 Batch accuracy: 0.98 Test accuracy: 0.9415\n",
        "16 Batch accuracy: 0.96 Test accuracy: 0.9422\n",
        "17 Batch accuracy: 0.96 Test accuracy: 0.9422\n",
        "18 Batch accuracy: 0.88 Test accuracy: 0.9425\n",
        "19 Batch accuracy: 0.98 Test accuracy: 0.942\n",
        "\n",
        "## hardware ON, but just discrete states (100) ( min,  s)\n",
        "0 Batch accuracy: 0.94 Test accuracy: 0.941\n",
        "1 Batch accuracy: 0.96 Test accuracy: 0.9539\n",
        "2 Batch accuracy: 0.98 Test accuracy: 0.9604\n",
        "3 Batch accuracy: 1.0 Test accuracy: 0.9651\n",
        "4 Batch accuracy: 1.0 Test accuracy: 0.9664\n",
        "5 Batch accuracy: 1.0 Test accuracy: 0.9679\n",
        "6 Batch accuracy: 0.98 Test accuracy: 0.9671\n",
        "7 Batch accuracy: 1.0 Test accuracy: 0.971\n",
        "8 Batch accuracy: 0.98 Test accuracy: 0.9705\n",
        "9 Batch accuracy: 1.0 Test accuracy: 0.9709\n",
        "10 Batch accuracy: 1.0 Test accuracy: 0.9711\n",
        "11 Batch accuracy: 0.98 Test accuracy: 0.971\n",
        "12 Batch accuracy: 1.0 Test accuracy: 0.9704\n",
        "13 Batch accuracy: 0.98 Test accuracy: 0.9706\n",
        "14 Batch accuracy: 1.0 Test accuracy: 0.9729\n",
        "15 Batch accuracy: 1.0 Test accuracy: 0.9724\n",
        "16 Batch accuracy: 1.0 Test accuracy: 0.9736\n",
        "\n",
        "## hardware ON with... (1 min 11s)\n",
        "- 20 states\n",
        "- readnoise = 0.0 +/- 0.2\n",
        "- stuckon = stuckoff = 0.05\n",
        "- device_var = 0.1\n",
        "0 Batch accuracy: 0.4 Test accuracy: 0.3264\n",
        "1 Batch accuracy: 0.44 Test accuracy: 0.4225\n",
        "2 Batch accuracy: 0.52 Test accuracy: 0.4578\n",
        "3 Batch accuracy: 0.52 Test accuracy: 0.4802\n",
        "4 Batch accuracy: 0.64 Test accuracy: 0.6497\n",
        "5 Batch accuracy: 0.58 Test accuracy: 0.6118\n",
        "6 Batch accuracy: 0.46 Test accuracy: 0.551\n",
        "7 Batch accuracy: 0.52 Test accuracy: 0.5524\n",
        "--- 71.81 seconds ---\n",
        "\n",
        "## hardware ON with... (1 min 3s)\n",
        "- 20 states\n",
        "- readnoise = 0.0 +/- 0.05\n",
        "- stuckon = stuckoff = 0.05\n",
        "- device_var = 0.1\n",
        "0 Batch accuracy: 0.88 Test accuracy: 0.8143\n",
        "1 Batch accuracy: 0.94 Test accuracy: 0.8872\n",
        "2 Batch accuracy: 0.92 Test accuracy: 0.8669\n",
        "3 Batch accuracy: 0.78 Test accuracy: 0.8651\n",
        "4 Batch accuracy: 0.96 Test accuracy: 0.8995\n",
        "5 Batch accuracy: 0.9 Test accuracy: 0.9091\n",
        "6 Batch accuracy: 0.92 Test accuracy: 0.8873\n",
        "7 Batch accuracy: 0.88 Test accuracy: 0.8694\n",
        "--- 63.78 seconds ---\n",
        "\n",
        "\n",
        "## hardware ON with... (17 mins)\n",
        "- 100 states\n",
        "- readnoise = 0.0 +/- 0.05\n",
        "- stuckon = stuckoff = 0.05\n",
        "- device_var = 0.1\n",
        "0 Batch accuracy: 0.86 Test accuracy: 0.8376\n",
        "1 Batch accuracy: 0.96 Test accuracy: 0.8902\n",
        "2 Batch accuracy: 0.94 Test accuracy: 0.8869\n",
        "3 Batch accuracy: 0.9 Test accuracy: 0.8921\n",
        "4 Batch accuracy: 0.94 Test accuracy: 0.9196\n",
        "5 Batch accuracy: 0.9 Test accuracy: 0.9166\n",
        "6 Batch accuracy: 0.94 Test accuracy: 0.9174\n",
        "7 Batch accuracy: 0.88 Test accuracy: 0.9134\n",
        "8 Batch accuracy: 0.88 Test accuracy: 0.884\n",
        "9 Batch accuracy: 0.88 Test accuracy: 0.9095\n",
        "10 Batch accuracy: 0.92 Test accuracy: 0.913\n",
        "11 Batch accuracy: 0.86 Test accuracy: 0.909\n",
        "12 Batch accuracy: 0.94 Test accuracy: 0.9265\n",
        "13 Batch accuracy: 0.9 Test accuracy: 0.901\n",
        "14 Batch accuracy: 0.92 Test accuracy: 0.9157\n",
        "15 Batch accuracy: 0.92 Test accuracy: 0.8996\n",
        "16 Batch accuracy: 0.9 Test accuracy: 0.9165\n",
        "17 Batch accuracy: 0.92 Test accuracy: 0.917\n",
        "18 Batch accuracy: 0.96 Test accuracy: 0.926\n",
        "19 Batch accuracy: 0.94 Test accuracy: 0.9229\n",
        "20 Batch accuracy: 0.98 Test accuracy: 0.9061\n",
        "21 Batch accuracy: 0.94 Test accuracy: 0.9252\n",
        "22 Batch accuracy: 0.92 Test accuracy: 0.9188\n",
        "23 Batch accuracy: 0.96 Test accuracy: 0.9229\n",
        "24 Batch accuracy: 0.94 Test accuracy: 0.9326\n",
        "25 Batch accuracy: 0.96 Test accuracy: 0.9163\n",
        "26 Batch accuracy: 0.94 Test accuracy: 0.923\n",
        "27 Batch accuracy: 0.92 Test accuracy: 0.9222\n",
        "28 Batch accuracy: 0.94 Test accuracy: 0.926\n",
        "29 Batch accuracy: 0.98 Test accuracy: 0.9132\n",
        "30 Batch accuracy: 0.96 Test accuracy: 0.9141\n",
        "31 Batch accuracy: 0.94 Test accuracy: 0.9229\n",
        "32 Batch accuracy: 0.88 Test accuracy: 0.9223\n",
        "33 Batch accuracy: 0.9 Test accuracy: 0.8704\n",
        "34 Batch accuracy: 0.9 Test accuracy: 0.9216\n",
        "35 Batch accuracy: 0.92 Test accuracy: 0.9069\n",
        "36 Batch accuracy: 0.94 Test accuracy: 0.9095\n",
        "37 Batch accuracy: 0.92 Test accuracy: 0.9306\n",
        "38 Batch accuracy: 0.9 Test accuracy: 0.9147\n",
        "39 Batch accuracy: 0.94 Test accuracy: 0.9339\n",
        "40 Batch accuracy: 0.96 Test accuracy: 0.9148\n",
        "41 Batch accuracy: 0.96 Test accuracy: 0.8807\n",
        "42 Batch accuracy: 0.92 Test accuracy: 0.8752\n",
        "43 Batch accuracy: 0.92 Test accuracy: 0.9108\n",
        "44 Batch accuracy: 0.92 Test accuracy: 0.9234\n",
        "45 Batch accuracy: 0.94 Test accuracy: 0.9276\n",
        "46 Batch accuracy: 0.94 Test accuracy: 0.9113\n",
        "47 Batch accuracy: 0.9 Test accuracy: 0.914\n",
        "48 Batch accuracy: 0.98 Test accuracy: 0.9277\n",
        "49 Batch accuracy: 0.9 Test accuracy: 0.9335\n",
        "--- 995.70 seconds ---\n",
        "\n",
        "## hardware ON with... (14 mins)\n",
        "- 100 states\n",
        "- readnoise = 0.0 +/- 0.00\n",
        "- stuckon = stuckoff = 0.05\n",
        "- device_var = 0.1\n",
        "\n",
        "0 Batch accuracy: 0.92 Test accuracy: 0.9238\n",
        "1 Batch accuracy: 0.92 Test accuracy: 0.9367\n",
        "2 Batch accuracy: 0.96 Test accuracy: 0.9368\n",
        "3 Batch accuracy: 0.96 Test accuracy: 0.9459\n",
        "4 Batch accuracy: 0.98 Test accuracy: 0.9495\n",
        "5 Batch accuracy: 0.98 Test accuracy: 0.9565\n",
        "6 Batch accuracy: 0.9 Test accuracy: 0.9342\n",
        "7 Batch accuracy: 0.98 Test accuracy: 0.9486\n",
        "8 Batch accuracy: 0.96 Test accuracy: 0.9432\n",
        "9 Batch accuracy: 0.96 Test accuracy: 0.948\n",
        "10 Batch accuracy: 1.0 Test accuracy: 0.9513\n",
        "11 Batch accuracy: 0.94 Test accuracy: 0.9572\n",
        "12 Batch accuracy: 1.0 Test accuracy: 0.9436\n",
        "13 Batch accuracy: 0.92 Test accuracy: 0.9293\n",
        "14 Batch accuracy: 0.96 Test accuracy: 0.9586\n",
        "15 Batch accuracy: 1.0 Test accuracy: 0.9583\n",
        "16 Batch accuracy: 0.98 Test accuracy: 0.9644\n",
        "17 Batch accuracy: 1.0 Test accuracy: 0.9469\n",
        "18 Batch accuracy: 0.9 Test accuracy: 0.9589\n",
        "19 Batch accuracy: 0.98 Test accuracy: 0.9617\n",
        "20 Batch accuracy: 0.96 Test accuracy: 0.9519\n",
        "21 Batch accuracy: 0.94 Test accuracy: 0.9536\n",
        "22 Batch accuracy: 0.96 Test accuracy: 0.9654\n",
        "23 Batch accuracy: 0.98 Test accuracy: 0.9594\n",
        "24 Batch accuracy: 0.98 Test accuracy: 0.9655\n",
        "25 Batch accuracy: 1.0 Test accuracy: 0.9624\n",
        "26 Batch accuracy: 0.96 Test accuracy: 0.9626\n",
        "27 Batch accuracy: 1.0 Test accuracy: 0.958\n",
        "28 Batch accuracy: 1.0 Test accuracy: 0.9532\n",
        "29 Batch accuracy: 1.0 Test accuracy: 0.9704\n",
        "30 Batch accuracy: 0.98 Test accuracy: 0.9576\n",
        "31 Batch accuracy: 1.0 Test accuracy: 0.9594\n",
        "32 Batch accuracy: 0.98 Test accuracy: 0.9676\n",
        "33 Batch accuracy: 1.0 Test accuracy: 0.9568\n",
        "34 Batch accuracy: 1.0 Test accuracy: 0.97\n",
        "35 Batch accuracy: 0.98 Test accuracy: 0.9625\n",
        "36 Batch accuracy: 1.0 Test accuracy: 0.9638\n",
        "37 Batch accuracy: 0.98 Test accuracy: 0.9559\n",
        "38 Batch accuracy: 1.0 Test accuracy: 0.9564\n",
        "39 Batch accuracy: 0.98 Test accuracy: 0.9416\n",
        "40 Batch accuracy: 0.98 Test accuracy: 0.9536\n",
        "41 Batch accuracy: 0.98 Test accuracy: 0.9669\n",
        "42 Batch accuracy: 0.96 Test accuracy: 0.9723\n",
        "43 Batch accuracy: 0.94 Test accuracy: 0.9654\n",
        "44 Batch accuracy: 0.96 Test accuracy: 0.9631\n",
        "45 Batch accuracy: 0.98 Test accuracy: 0.9669\n",
        "46 Batch accuracy: 1.0 Test accuracy: 0.9717\n",
        "47 Batch accuracy: 0.94 Test accuracy: 0.9653\n",
        "48 Batch accuracy: 0.92 Test accuracy: 0.9347\n",
        "49 Batch accuracy: 1.0 Test accuracy: 0.9634\n",
        "--- 875.17 seconds ---\n",
        "\n"
      ]
    },
    {
      "cell_type": "code",
      "metadata": {
        "id": "bx1-XYLt-pM6",
        "outputId": "b20ae610-bbdd-4b1e-e64d-3ff635256a0b"
      },
      "source": [
        "weights_before"
      ],
      "execution_count": null,
      "outputs": [
        {
          "data": {
            "text/plain": [
              "array([-0.00363304, -0.16495076, -0.00245212, -0.07429077, -0.0231128 ,\n",
              "       -0.34697148,  0.3885961 ,  0.30065742,  0.22381195, -0.0381159 ,\n",
              "        0.00310417,  0.08535535,  0.17385383,  0.30208942,  0.125374  ,\n",
              "        0.00897076,  0.07525111, -0.29270896, -0.18102363,  0.06648245,\n",
              "       -0.01434219, -0.12452476, -0.23496754,  0.24518795, -0.03454113,\n",
              "        0.09062955,  0.05114428, -0.01170656,  0.31281415,  0.05068856,\n",
              "       -0.07658286, -0.3558821 , -0.02831533,  0.29215947, -0.01215394,\n",
              "        0.05968314,  0.26844263,  0.34673175,  0.00499299,  0.01214231,\n",
              "       -0.26232064, -0.18391348, -0.30076265,  0.08745792,  0.04777403,\n",
              "       -0.30305094,  0.33885407, -0.22074407, -0.01648456,  0.14930668,\n",
              "       -0.10613731, -0.15380175,  0.04764128,  0.1736799 , -0.05961963,\n",
              "       -0.23478894, -0.18598206, -0.05220306, -0.03114807,  0.04526016,\n",
              "       -0.13837756,  0.17210205, -0.11568228, -0.06414939, -0.07839669,\n",
              "       -0.31229424, -0.2896966 ,  0.03144627, -0.03642305, -0.16567579,\n",
              "       -0.00267657,  0.17316784,  0.00085319, -0.09679439, -0.02308435,\n",
              "        0.16394866,  0.01165754,  0.05500915,  0.41136825, -0.05219844,\n",
              "        0.2085114 , -0.07541733, -0.1070393 , -0.01492016,  0.08076164,\n",
              "        0.19692856,  0.13495956, -0.38460404, -0.04849344, -0.08398602,\n",
              "        0.14246887, -0.21932591,  0.06827202, -0.2051726 , -0.17666604,\n",
              "       -0.05961052, -0.10623793, -0.0255966 ,  0.13482282, -0.17893608,\n",
              "        0.09000875, -0.07414095, -0.00147178, -0.3673266 ,  0.08518526,\n",
              "       -0.3438186 , -0.08230692,  0.21740241,  0.13392316, -0.09173317,\n",
              "        0.34868085,  0.06192811,  0.2656322 ,  0.05334428,  0.14007658,\n",
              "        0.2281066 , -0.3195803 ,  0.18029472, -0.19715586, -0.02840302,\n",
              "        0.13200265,  0.1640659 ,  0.08478154,  0.07364658, -0.3171663 ,\n",
              "       -0.11999371,  0.3375892 , -0.00573255, -0.21645758, -0.1885861 ,\n",
              "        0.06762656,  0.218657  ,  0.04552095,  0.3021214 , -0.3293409 ,\n",
              "        0.09390545,  0.15122677, -0.14340286, -0.2328385 , -0.271851  ,\n",
              "        0.11863299,  0.1443909 , -0.32996917, -0.03591542, -0.04326014,\n",
              "        0.07065223, -0.01636403,  0.10281464,  0.05116272,  0.33759323,\n",
              "        0.11180329, -0.27110025,  0.22969015,  0.14410236, -0.30995998,\n",
              "        0.16053978,  0.03548114,  0.17458898,  0.08910751, -0.38312206,\n",
              "        0.20420177, -0.05197211, -0.03291531,  0.20131718, -0.30613896,\n",
              "        0.03595546, -0.12058713,  0.0586332 , -0.11217057,  0.19694291,\n",
              "       -0.17973398, -0.14652523, -0.02917453,  0.26436493, -0.06099458,\n",
              "       -0.11913513, -0.2629287 , -0.19920772, -0.17564017,  0.17017403,\n",
              "       -0.01270065, -0.18048352, -0.16957238,  0.16083811, -0.17279983,\n",
              "       -0.07432749, -0.14277601,  0.30492598,  0.03528479, -0.23299056,\n",
              "       -0.22208396,  0.04902112, -0.09590512,  0.14306852,  0.19182707,\n",
              "       -0.19023907, -0.00794895, -0.12115265, -0.16815071, -0.05340749,\n",
              "       -0.21926986,  0.01095075,  0.0968822 , -0.29020125, -0.02158891,\n",
              "       -0.10390481, -0.20072246,  0.26937482, -0.06449796,  0.08901459,\n",
              "       -0.2591222 ,  0.02090825, -0.02636197, -0.03075243,  0.12408592,\n",
              "       -0.3049613 , -0.13866909,  0.28398675,  0.05102077,  0.01707341,\n",
              "        0.09695832,  0.15275683,  0.02451089, -0.15840153,  0.05042589,\n",
              "       -0.24000023,  0.03005715, -0.2378383 ,  0.10830259,  0.0710686 ,\n",
              "       -0.01086262, -0.00347498,  0.0264352 ,  0.07423522,  0.29181156,\n",
              "       -0.1386595 ,  0.2349203 , -0.0437406 ,  0.19554102,  0.14396428,\n",
              "        0.09926233,  0.07350031, -0.33096662,  0.22308242,  0.17690367,\n",
              "       -0.20106262,  0.00483929, -0.0394629 ,  0.09772117,  0.13834712,\n",
              "       -0.31102046, -0.17354865, -0.12152156, -0.16103064,  0.13679971,\n",
              "        0.07532874,  0.11013555, -0.12267293,  0.09924937, -0.34042314,\n",
              "        0.02201365,  0.27052307,  0.04294404, -0.25432816, -0.19746897,\n",
              "       -0.13402449, -0.23749909,  0.19029996,  0.19579083, -0.26166064,\n",
              "       -0.15412852,  0.17491113, -0.1651232 ,  0.02764448,  0.20055656,\n",
              "       -0.01854535,  0.05692549, -0.08943276,  0.03881437,  0.4106647 ,\n",
              "        0.04369108,  0.03399525,  0.11422517,  0.06415461,  0.3406343 ,\n",
              "        0.0845423 ,  0.05388894,  0.05470451,  0.04703617, -0.09848036,\n",
              "       -0.15698525,  0.07941221, -0.17882024, -0.05065073,  0.05850855,\n",
              "        0.1418438 ,  0.09312636,  0.01073388, -0.05722875, -0.08071069],\n",
              "      dtype=float32)"
            ]
          },
          "execution_count": 6,
          "metadata": {},
          "output_type": "execute_result"
        }
      ]
    },
    {
      "cell_type": "code",
      "metadata": {
        "scrolled": false,
        "id": "beo9Hh2B-pM9",
        "outputId": "085d09b7-9336-4ba5-ed17-8fcd42374fc2"
      },
      "source": [
        "weights_after"
      ],
      "execution_count": null,
      "outputs": [
        {
          "data": {
            "text/plain": [
              "array([-0. , -0.2, -0. , -0.1, -0. , -0.3,  0.4,  0.3,  0.2, -0. , -0. ,\n",
              "        0.1,  0.2,  0.3,  0.1, -0. ,  0.1, -0.3, -0.2,  0.1, -0. , -0.1,\n",
              "       -0.2,  0.2, -0. ,  0.1,  0.1, -0. ,  0.3,  0.1, -0.1, -0.4, -0. ,\n",
              "        0.3, -0. ,  0.1,  0.3,  0.3, -0. , -0. , -0.3, -0.2, -0.3,  0.1,\n",
              "       -0. , -0.3,  0.3, -0.2, -0. ,  0.1, -0.1, -0.2, -0. ,  0.2, -0.1,\n",
              "       -0.2, -0.2, -0.1, -0. , -0. , -0.1,  0.2, -0.1, -0.1, -0.1, -0.3,\n",
              "       -0.3, -0. , -0. , -0.2, -0. ,  0.2, -0. , -0.1, -0. ,  0.2, -0. ,\n",
              "        0.1,  0.4, -0.1,  0.2, -0.1, -0.1, -0. ,  0.1,  0.2,  0.1, -0.4,\n",
              "       -0. , -0.1,  0.1, -0.2,  0.1, -0.2, -0.2, -0.1, -0.1, -0. ,  0.1,\n",
              "       -0.2,  0.1, -0.1, -0. , -0.4,  0.1, -0.3, -0.1,  0.2,  0.1, -0.1,\n",
              "        0.3,  0.1,  0.3,  0.1,  0.1,  0.2, -0.3,  0.2, -0.2, -0. ,  0.1,\n",
              "        0.2,  0.1,  0.1, -0.3, -0.1,  0.3, -0. , -0.2, -0.2,  0.1,  0.2,\n",
              "       -0. ,  0.3, -0.3,  0.1,  0.2, -0.1, -0.2, -0.3,  0.1,  0.1, -0.3,\n",
              "       -0. , -0. ,  0.1, -0. ,  0.1,  0.1,  0.3,  0.1, -0.3,  0.2,  0.1,\n",
              "       -0.3,  0.2, -0. ,  0.2,  0.1, -0.4,  0.2, -0.1, -0. ,  0.2, -0.3,\n",
              "       -0. , -0.1,  0.1, -0.1,  0.2, -0.2, -0.1, -0. ,  0.3, -0.1, -0.1,\n",
              "       -0.3, -0.2, -0.2,  0.2, -0. , -0.2, -0.2,  0.2, -0.2, -0.1, -0.1,\n",
              "        0.3, -0. , -0.2, -0.2, -0. , -0.1,  0.1,  0.2, -0.2, -0. , -0.1,\n",
              "       -0.2, -0.1, -0.2, -0. ,  0.1, -0.3, -0. , -0.1, -0.2,  0.3, -0.1,\n",
              "        0.1, -0.3, -0. , -0. , -0. ,  0.1, -0.3, -0.1,  0.3,  0.1, -0. ,\n",
              "        0.1,  0.2, -0. , -0.2,  0.1, -0.2, -0. , -0.2,  0.1,  0.1, -0. ,\n",
              "       -0. , -0. ,  0.1,  0.3, -0.1,  0.2, -0. ,  0.2,  0.1,  0.1,  0.1,\n",
              "       -0.3,  0.2,  0.2, -0.2, -0. , -0. ,  0.1,  0.1, -0.3, -0.2, -0.1,\n",
              "       -0.2,  0.1,  0.1,  0.1, -0.1,  0.1, -0.3, -0. ,  0.3, -0. , -0.3,\n",
              "       -0.2, -0.1, -0.2,  0.2,  0.2, -0.3, -0.2,  0.2, -0.2, -0. ,  0.2,\n",
              "       -0. ,  0.1, -0.1, -0. ,  0.4, -0. , -0. ,  0.1,  0.1,  0.3,  0.1,\n",
              "        0.1,  0.1, -0. , -0.1, -0.2,  0.1, -0.2, -0.1,  0.1,  0.1,  0.1,\n",
              "       -0. , -0.1, -0.1], dtype=float32)"
            ]
          },
          "execution_count": 7,
          "metadata": {},
          "output_type": "execute_result"
        }
      ]
    },
    {
      "cell_type": "code",
      "metadata": {
        "id": "cYazlfWP-pM-"
      },
      "source": [
        "AlexNet = maxpool lots of layers\n",
        "Vggnet = after alexnet, less intensive convolutions; higher num of params and lower accuracy\n",
        "Resnet = \n",
        "inception = best but lots improve"
      ],
      "execution_count": null,
      "outputs": []
    },
    {
      "cell_type": "code",
      "metadata": {
        "id": "y4oprKOm-pM_"
      },
      "source": [
        ""
      ],
      "execution_count": null,
      "outputs": []
    }
  ]
}